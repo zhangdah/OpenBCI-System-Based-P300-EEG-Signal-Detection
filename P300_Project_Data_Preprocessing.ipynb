{
  "nbformat": 4,
  "nbformat_minor": 0,
  "metadata": {
    "colab": {
      "provenance": []
    },
    "kernelspec": {
      "name": "python3",
      "display_name": "Python 3"
    },
    "language_info": {
      "name": "python"
    }
  },
  "cells": [
    {
      "cell_type": "code",
      "source": [
        "from google.colab import drive\n",
        "drive.mount('/content/drive')"
      ],
      "metadata": {
        "colab": {
          "base_uri": "https://localhost:8080/"
        },
        "id": "j1oJTC_wTFo-",
        "outputId": "e10998ed-51fb-4d21-e357-537d6ab9cdd7"
      },
      "execution_count": null,
      "outputs": [
        {
          "output_type": "stream",
          "name": "stdout",
          "text": [
            "Mounted at /content/drive\n"
          ]
        }
      ]
    },
    {
      "cell_type": "code",
      "execution_count": null,
      "metadata": {
        "id": "vbiYDS4KSaKj"
      },
      "outputs": [],
      "source": [
        "import pandas as pd\n",
        "import numpy as np"
      ]
    },
    {
      "cell_type": "code",
      "source": [
        "# print(sorted(os.listdir(\"/content/drive/MyDrive/Thesis Project/Example_P300/data\"))[11:19])"
      ],
      "metadata": {
        "id": "h8wcgQ7MNpsk"
      },
      "execution_count": null,
      "outputs": []
    },
    {
      "cell_type": "markdown",
      "source": [
        "# Define Bandpass filter"
      ],
      "metadata": {
        "id": "7DkIrucR2I2H"
      }
    },
    {
      "cell_type": "code",
      "source": [
        "import numpy as np\n",
        "from scipy.signal import butter,filtfilt\n",
        "from scipy import pi\n",
        "from scipy.fftpack import fft\n",
        "\n",
        "# Filter requirements.\n",
        "fs = 240       # sample rate, Hz\n",
        "cutoff = 0.5     # desired cutoff frequency of the filter, Hz , slightly higher than actual 1.2 Hz\n",
        "nyq = 0.5 * fs  # Nyquist Frequency\n",
        "order = 2       # sin wave can be approx represented as quadratic\n",
        "\n",
        "def butter_bandpass_filter(data, cutoff, fs, order):\n",
        "    lowcut = 0.1\n",
        "    highcut = 60\n",
        "    low = lowcut / nyq\n",
        "    high = highcut / nyq\n",
        "    # Get the filter coefficients \n",
        "    b, a = butter(order, [low, high], btype='bandpass', analog=False)\n",
        "    y = filtfilt(b, a, data)\n",
        "    return y"
      ],
      "metadata": {
        "id": "_xzHw1n4uLYa"
      },
      "execution_count": null,
      "outputs": []
    },
    {
      "cell_type": "code",
      "source": [
        "def apply_filter(eeg_train):\n",
        "  eeg_train_clean = []\n",
        "  for i in range(len(eeg_train)):\n",
        "    data_transpose = eeg_train[i].T\n",
        "    # print(data_transpose.shape)\n",
        "    channel_clean = []\n",
        "    for j in range(len(data_transpose)):\n",
        "      # print(channel.shape)\n",
        "      channel_clean.append(butter_bandpass_filter(data_transpose[j], cutoff, fs, order))\n",
        "    eeg_train_clean.append(np.array(channel_clean).T)\n",
        "  eeg_train_clean = np.array(eeg_train_clean)\n",
        "  return eeg_train_clean"
      ],
      "metadata": {
        "id": "-g0hwXvTuLYb"
      },
      "execution_count": null,
      "outputs": []
    },
    {
      "cell_type": "code",
      "source": [
        "pd.DataFrame(np.load('/content/drive/MyDrive/Thesis Project/BCI_IIb_Testing_Label.npy', allow_pickle = True), columns = ['epoch', 'row/column', 'true_character', 'P300_prob'])"
      ],
      "metadata": {
        "colab": {
          "base_uri": "https://localhost:8080/",
          "height": 424
        },
        "id": "InJXvbVvpYhP",
        "outputId": "2b63b5f5-98a4-4407-b77a-1aa7ede54619"
      },
      "execution_count": null,
      "outputs": [
        {
          "output_type": "execute_result",
          "data": {
            "text/plain": [
              "     epoch row/column true_character P300_prob\n",
              "0        1          6              W       NaN\n",
              "1        1         12              W       NaN\n",
              "2        1          8              W       NaN\n",
              "3        1          3              W       NaN\n",
              "4        1          4              W       NaN\n",
              "...    ...        ...            ...       ...\n",
              "5575    15          7              E       NaN\n",
              "5576    15          8              E       NaN\n",
              "5577    15          4              E       NaN\n",
              "5578    15          9              E       NaN\n",
              "5579    15          2              E       NaN\n",
              "\n",
              "[5580 rows x 4 columns]"
            ],
            "text/html": [
              "\n",
              "  <div id=\"df-07e74da2-c8e6-4d68-afc3-04350326ce79\">\n",
              "    <div class=\"colab-df-container\">\n",
              "      <div>\n",
              "<style scoped>\n",
              "    .dataframe tbody tr th:only-of-type {\n",
              "        vertical-align: middle;\n",
              "    }\n",
              "\n",
              "    .dataframe tbody tr th {\n",
              "        vertical-align: top;\n",
              "    }\n",
              "\n",
              "    .dataframe thead th {\n",
              "        text-align: right;\n",
              "    }\n",
              "</style>\n",
              "<table border=\"1\" class=\"dataframe\">\n",
              "  <thead>\n",
              "    <tr style=\"text-align: right;\">\n",
              "      <th></th>\n",
              "      <th>epoch</th>\n",
              "      <th>row/column</th>\n",
              "      <th>true_character</th>\n",
              "      <th>P300_prob</th>\n",
              "    </tr>\n",
              "  </thead>\n",
              "  <tbody>\n",
              "    <tr>\n",
              "      <th>0</th>\n",
              "      <td>1</td>\n",
              "      <td>6</td>\n",
              "      <td>W</td>\n",
              "      <td>NaN</td>\n",
              "    </tr>\n",
              "    <tr>\n",
              "      <th>1</th>\n",
              "      <td>1</td>\n",
              "      <td>12</td>\n",
              "      <td>W</td>\n",
              "      <td>NaN</td>\n",
              "    </tr>\n",
              "    <tr>\n",
              "      <th>2</th>\n",
              "      <td>1</td>\n",
              "      <td>8</td>\n",
              "      <td>W</td>\n",
              "      <td>NaN</td>\n",
              "    </tr>\n",
              "    <tr>\n",
              "      <th>3</th>\n",
              "      <td>1</td>\n",
              "      <td>3</td>\n",
              "      <td>W</td>\n",
              "      <td>NaN</td>\n",
              "    </tr>\n",
              "    <tr>\n",
              "      <th>4</th>\n",
              "      <td>1</td>\n",
              "      <td>4</td>\n",
              "      <td>W</td>\n",
              "      <td>NaN</td>\n",
              "    </tr>\n",
              "    <tr>\n",
              "      <th>...</th>\n",
              "      <td>...</td>\n",
              "      <td>...</td>\n",
              "      <td>...</td>\n",
              "      <td>...</td>\n",
              "    </tr>\n",
              "    <tr>\n",
              "      <th>5575</th>\n",
              "      <td>15</td>\n",
              "      <td>7</td>\n",
              "      <td>E</td>\n",
              "      <td>NaN</td>\n",
              "    </tr>\n",
              "    <tr>\n",
              "      <th>5576</th>\n",
              "      <td>15</td>\n",
              "      <td>8</td>\n",
              "      <td>E</td>\n",
              "      <td>NaN</td>\n",
              "    </tr>\n",
              "    <tr>\n",
              "      <th>5577</th>\n",
              "      <td>15</td>\n",
              "      <td>4</td>\n",
              "      <td>E</td>\n",
              "      <td>NaN</td>\n",
              "    </tr>\n",
              "    <tr>\n",
              "      <th>5578</th>\n",
              "      <td>15</td>\n",
              "      <td>9</td>\n",
              "      <td>E</td>\n",
              "      <td>NaN</td>\n",
              "    </tr>\n",
              "    <tr>\n",
              "      <th>5579</th>\n",
              "      <td>15</td>\n",
              "      <td>2</td>\n",
              "      <td>E</td>\n",
              "      <td>NaN</td>\n",
              "    </tr>\n",
              "  </tbody>\n",
              "</table>\n",
              "<p>5580 rows × 4 columns</p>\n",
              "</div>\n",
              "      <button class=\"colab-df-convert\" onclick=\"convertToInteractive('df-07e74da2-c8e6-4d68-afc3-04350326ce79')\"\n",
              "              title=\"Convert this dataframe to an interactive table.\"\n",
              "              style=\"display:none;\">\n",
              "        \n",
              "  <svg xmlns=\"http://www.w3.org/2000/svg\" height=\"24px\"viewBox=\"0 0 24 24\"\n",
              "       width=\"24px\">\n",
              "    <path d=\"M0 0h24v24H0V0z\" fill=\"none\"/>\n",
              "    <path d=\"M18.56 5.44l.94 2.06.94-2.06 2.06-.94-2.06-.94-.94-2.06-.94 2.06-2.06.94zm-11 1L8.5 8.5l.94-2.06 2.06-.94-2.06-.94L8.5 2.5l-.94 2.06-2.06.94zm10 10l.94 2.06.94-2.06 2.06-.94-2.06-.94-.94-2.06-.94 2.06-2.06.94z\"/><path d=\"M17.41 7.96l-1.37-1.37c-.4-.4-.92-.59-1.43-.59-.52 0-1.04.2-1.43.59L10.3 9.45l-7.72 7.72c-.78.78-.78 2.05 0 2.83L4 21.41c.39.39.9.59 1.41.59.51 0 1.02-.2 1.41-.59l7.78-7.78 2.81-2.81c.8-.78.8-2.07 0-2.86zM5.41 20L4 18.59l7.72-7.72 1.47 1.35L5.41 20z\"/>\n",
              "  </svg>\n",
              "      </button>\n",
              "      \n",
              "  <style>\n",
              "    .colab-df-container {\n",
              "      display:flex;\n",
              "      flex-wrap:wrap;\n",
              "      gap: 12px;\n",
              "    }\n",
              "\n",
              "    .colab-df-convert {\n",
              "      background-color: #E8F0FE;\n",
              "      border: none;\n",
              "      border-radius: 50%;\n",
              "      cursor: pointer;\n",
              "      display: none;\n",
              "      fill: #1967D2;\n",
              "      height: 32px;\n",
              "      padding: 0 0 0 0;\n",
              "      width: 32px;\n",
              "    }\n",
              "\n",
              "    .colab-df-convert:hover {\n",
              "      background-color: #E2EBFA;\n",
              "      box-shadow: 0px 1px 2px rgba(60, 64, 67, 0.3), 0px 1px 3px 1px rgba(60, 64, 67, 0.15);\n",
              "      fill: #174EA6;\n",
              "    }\n",
              "\n",
              "    [theme=dark] .colab-df-convert {\n",
              "      background-color: #3B4455;\n",
              "      fill: #D2E3FC;\n",
              "    }\n",
              "\n",
              "    [theme=dark] .colab-df-convert:hover {\n",
              "      background-color: #434B5C;\n",
              "      box-shadow: 0px 1px 3px 1px rgba(0, 0, 0, 0.15);\n",
              "      filter: drop-shadow(0px 1px 2px rgba(0, 0, 0, 0.3));\n",
              "      fill: #FFFFFF;\n",
              "    }\n",
              "  </style>\n",
              "\n",
              "      <script>\n",
              "        const buttonEl =\n",
              "          document.querySelector('#df-07e74da2-c8e6-4d68-afc3-04350326ce79 button.colab-df-convert');\n",
              "        buttonEl.style.display =\n",
              "          google.colab.kernel.accessAllowed ? 'block' : 'none';\n",
              "\n",
              "        async function convertToInteractive(key) {\n",
              "          const element = document.querySelector('#df-07e74da2-c8e6-4d68-afc3-04350326ce79');\n",
              "          const dataTable =\n",
              "            await google.colab.kernel.invokeFunction('convertToInteractive',\n",
              "                                                     [key], {});\n",
              "          if (!dataTable) return;\n",
              "\n",
              "          const docLinkHtml = 'Like what you see? Visit the ' +\n",
              "            '<a target=\"_blank\" href=https://colab.research.google.com/notebooks/data_table.ipynb>data table notebook</a>'\n",
              "            + ' to learn more about interactive tables.';\n",
              "          element.innerHTML = '';\n",
              "          dataTable['output_type'] = 'display_data';\n",
              "          await google.colab.output.renderOutput(dataTable, element);\n",
              "          const docLink = document.createElement('div');\n",
              "          docLink.innerHTML = docLinkHtml;\n",
              "          element.appendChild(docLink);\n",
              "        }\n",
              "      </script>\n",
              "    </div>\n",
              "  </div>\n",
              "  "
            ]
          },
          "metadata": {},
          "execution_count": 17
        }
      ]
    },
    {
      "cell_type": "markdown",
      "source": [
        "# Training File loading and Preprocessing"
      ],
      "metadata": {
        "id": "lNSCCOkd2cX-"
      }
    },
    {
      "cell_type": "code",
      "execution_count": null,
      "metadata": {
        "id": "L3JVM6grSaKm"
      },
      "outputs": [],
      "source": [
        "from scipy.io import loadmat\n",
        "import os\n",
        "\n",
        "\n",
        "signal_train = np.array([]).reshape(0,240,64)\n",
        "intensification_train = np.array([]).reshape(0,1)\n",
        "label_train = np.array([]).reshape(0,1)\n",
        "label_0_train = np.array([]).reshape(0,1)\n",
        "label_1_train = np.array([]).reshape(0,1)\n",
        "\n",
        "# change the directory here\n",
        "for filename in sorted(os.listdir(\"/content/drive/MyDrive/Thesis Project/Example_P300/data\"))[:11]:\n",
        "  mat = loadmat(\"/content/drive/MyDrive/Thesis Project/Example_P300/data/\" + filename)\n",
        "  # print(mat)\n",
        "  # get row/column number, label, and signal from the mat file\n",
        "  StimCode = mat.get('StimulusCode')\n",
        "  stim_index = np.where(StimCode != 0)[0]\n",
        "  intensification = StimCode[stim_index]\n",
        "  labels = mat.get('StimulusType')[stim_index]\n",
        "\n",
        "  # extend the stim_index considering the delay of response\n",
        "  signal_index = np.array([])\n",
        "  stim_index_reshape = stim_index.reshape(int(len(stim_index)/24), 24)\n",
        "  # print(stim_index_reshape.shape)\n",
        "\n",
        "  for i in range(len(stim_index_reshape)):\n",
        "    # print(signal_index[i].shape)\n",
        "    # print(np.array(range(signal_index[i][-1], signal_index[i][-1] + 240 -24)).shape)\n",
        "    # print(np.concatenate([signal_index, np.array(range(stim_index_reshape[i][0], stim_index_reshape[i][0] + 240))]).shape)\n",
        "    signal_index = np.concatenate([signal_index, np.array(range(stim_index_reshape[i][0], int(stim_index_reshape[i][0] + 240)))])\n",
        "  # signal_index = signal_index.flatten()\n",
        "\n",
        "  data_transpose = mat.get('signal').T\n",
        "  channel_clean = []\n",
        "  for j in range(len(data_transpose)):\n",
        "    # print(channel.shape)\n",
        "    channel_clean.append(butter_bandpass_filter(data_transpose[j], cutoff, fs, order))\n",
        "  signal = np.array(channel_clean).T\n",
        "\n",
        "  # signal = mat.get('signal')[signal_index.astype(int)]\n",
        "  signal = signal[signal_index.astype(int)]\n",
        "\n",
        "  # reshape the data to correct input size (T * F * C)\n",
        "  F = 240 # sampling frequency\n",
        "  T = 0.1 # period of time after intensification\n",
        "  data_size = int(stim_index.shape[0]/ (F * T))\n",
        "  # print(data_size)\n",
        "\n",
        "  # normalize the signal\n",
        "  signal = ((signal.flatten() - signal.flatten().mean())/signal.flatten().std())\n",
        "  signal = signal.reshape(data_size,240,64)\n",
        "  \n",
        "  intensification = intensification.reshape(data_size, 24, 1)[:,0,:]\n",
        "  labels = labels.reshape(data_size, 24, 1)[:,0,:]\n",
        "  label_0_index = np.where(labels == 0)[0]\n",
        "  label_1_index = np.where(labels == 1)[0]\n",
        "  label_0 = labels[label_0_index]\n",
        "  label_1 = labels[label_1_index]\n",
        "\n",
        "  # update training data\n",
        "  signal_train = np.concatenate([signal_train, signal])\n",
        "  intensification_train = np.concatenate([intensification_train, intensification])\n",
        "  label_train = np.concatenate([label_train, labels]) \n",
        "  label_0_train = np.concatenate([label_0_train, label_0]) \n",
        "  label_1_train = np.concatenate([label_1_train, label_1])\n"
      ]
    },
    {
      "cell_type": "code",
      "source": [
        "print(signal_train.shape)\n",
        "print(intensification_train.shape)\n",
        "print(label_0_train.shape)\n",
        "print(label_1_train.shape)"
      ],
      "metadata": {
        "colab": {
          "base_uri": "https://localhost:8080/"
        },
        "id": "nXTq7bYHSIyU",
        "outputId": "a3e8ca09-e1ce-493f-c48e-d6c44bbacb1d"
      },
      "execution_count": null,
      "outputs": [
        {
          "output_type": "stream",
          "name": "stdout",
          "text": [
            "(7560, 240, 64)\n",
            "(7560, 1)\n",
            "(6300, 1)\n",
            "(1260, 1)\n"
          ]
        }
      ]
    },
    {
      "cell_type": "code",
      "source": [
        "BCI_IIb_training_Data = signal_train.reshape(1, signal_train.shape[0], signal_train.shape[1], signal_train.shape[2])"
      ],
      "metadata": {
        "id": "mPTr1J944c35"
      },
      "execution_count": null,
      "outputs": []
    },
    {
      "cell_type": "code",
      "source": [
        "BCI_IIb_label = label_train.flatten().reshape(1, label_train.shape[0])"
      ],
      "metadata": {
        "id": "4RhMjP5H5FG-"
      },
      "execution_count": null,
      "outputs": []
    },
    {
      "cell_type": "markdown",
      "source": [
        "# Training File Saving"
      ],
      "metadata": {
        "id": "CsWbOXQ0jDod"
      }
    },
    {
      "cell_type": "code",
      "source": [
        "# Change the directory here\n",
        "# np.save('/content/drive/MyDrive/Thesis Project/Example_P300/Processed Data/BCI_IIb_training_data', BCI_IIb_training_Data)\n",
        "# np.save('/content/drive/MyDrive/Thesis Project/Example_P300/Processed Data/BCI_IIb_training_label', BCI_IIb_label)"
      ],
      "metadata": {
        "id": "S5UvFojo5uP0"
      },
      "execution_count": null,
      "outputs": []
    },
    {
      "cell_type": "markdown",
      "source": [
        "# Testing File Loading and Preprocessing"
      ],
      "metadata": {
        "id": "Ket2Xh932OSG"
      }
    },
    {
      "cell_type": "code",
      "source": [
        "# Change the testing character here\n",
        "testing_character = 'FOODMOOTHAMPIECAKETUNAZYGOT4567'"
      ],
      "metadata": {
        "id": "f3xE6Wz-KY0-"
      },
      "execution_count": null,
      "outputs": []
    },
    {
      "cell_type": "code",
      "source": [
        "# loadmat(\"/content/drive/MyDrive/Thesis Project/Example_P300/data/AAS012R01.mat\")\n",
        "\n",
        "signal_testing = np.array([]).reshape(0,240,64)\n",
        "intensification_testing = np.array([]).reshape(0,1)\n",
        "# label_train = np.array([]).reshape(0,1)\n",
        "# label_0_train = np.array([]).reshape(0,1)\n",
        "# label_1_train = np.array([]).reshape(0,1)\n",
        "\n",
        "# change the directory here\n",
        "for filename in sorted(os.listdir(\"/content/drive/MyDrive/Thesis Project/Example_P300/data\"))[11:19]:\n",
        "  mat = loadmat(\"/content/drive/MyDrive/Thesis Project/Example_P300/data/\" + filename)\n",
        "  # print(mat)\n",
        "  # get row/column number, label, and signal from the mat file\n",
        "  StimCode = mat.get('StimulusCode')\n",
        "  stim_index = np.where(StimCode != 0)[0]\n",
        "  intensification = StimCode[stim_index]\n",
        "  # labels = mat.get('StimulusType')[stim_index]\n",
        "\n",
        "  # extend the stim_index considering the delay of response\n",
        "  signal_index = np.array([])\n",
        "  stim_index_reshape = stim_index.reshape(int(len(stim_index)/24), 24)\n",
        "  # print(stim_index_reshape.shape)\n",
        "\n",
        "  for i in range(len(stim_index_reshape)):\n",
        "    # print(signal_index[i].shape)\n",
        "    # print(np.array(range(signal_index[i][-1], signal_index[i][-1] + 240 -24)).shape)\n",
        "    # print(np.concatenate([signal_index, np.array(range(stim_index_reshape[i][0], stim_index_reshape[i][0] + 240))]).shape)\n",
        "    signal_index = np.concatenate([signal_index, np.array(range(stim_index_reshape[i][0], int(stim_index_reshape[i][0] + 240)))])\n",
        "  # signal_index = signal_index.flatten()\n",
        "\n",
        "  data_transpose = mat.get('signal').T\n",
        "  channel_clean = []\n",
        "  for j in range(len(data_transpose)):\n",
        "    # print(channel.shape)\n",
        "    channel_clean.append(butter_bandpass_filter(data_transpose[j], cutoff, fs, order))\n",
        "  signal = np.array(channel_clean).T\n",
        "\n",
        "  # signal = mat.get('signal')[signal_index.astype(int)]\n",
        "  signal = signal[signal_index.astype(int)]\n",
        "\n",
        "  # reshape the data to correct input size (T * F * C)\n",
        "  F = 240 # sampling frequency\n",
        "  T = 0.1 # period of time after intensification\n",
        "  data_size = int(stim_index.shape[0]/ (F * T))\n",
        "  # print(data_size)\n",
        "\n",
        "  # normalize the signal\n",
        "  signal = ((signal.flatten() - signal.flatten().mean())/signal.flatten().std())\n",
        "  signal = signal.reshape(data_size,240,64)\n",
        "  \n",
        "  intensification = intensification.reshape(data_size, 24, 1)[:,0,:]\n",
        "  # labels = labels.reshape(data_size, 24, 1)[:,0,:]\n",
        "  # label_0_index = np.where(labels == 0)[0]\n",
        "  # label_1_index = np.where(labels == 1)[0]\n",
        "  # label_0 = labels[label_0_index]\n",
        "  # label_1 = labels[label_1_index]\n",
        "\n",
        "  # update testing data\n",
        "  signal_testing = np.concatenate([signal_testing, signal])\n",
        "  intensification_testing = np.concatenate([intensification_testing, intensification])\n",
        "  # label_train = np.concatenate([label_train, labels]) \n",
        "  # label_0_train = np.concatenate([label_0_train, label_0]) \n",
        "  # label_1_train = np.concatenate([label_1_train, label_1])\n",
        "epoch = np.array([[i]*12 for i in range(1,16)]*len(testing_character)).flatten()\n",
        "# print(epoch)\n",
        "print(signal_testing.shape)\n",
        "print(intensification_testing.shape)\n",
        "# 'WORDTESTBCIRENEEBLOWFOGHAVEWINE'\n",
        "character_list = np.array([[character]*180 for character in testing_character]).flatten()\n",
        "character_index_list = np.array([[character_index]*180 for character_index in range(len(testing_character))]).flatten()\n",
        "character_index_list.shape\n",
        "testing_label = pd.DataFrame({'epoch': epoch, 'row/column': intensification_testing.astype(int).flatten(), 'true_character': character_list, 'true_character_index': character_index_list}, columns=['epoch','row/column', 'true_character', 'true_character_index', 'P300_prob'])\n",
        "# testing_data['signal'] = signal_testing\n",
        "# testing_data"
      ],
      "metadata": {
        "colab": {
          "base_uri": "https://localhost:8080/"
        },
        "id": "IMLZOBOT728F",
        "outputId": "26963492-1030-4f3f-e831-888be41145ab"
      },
      "execution_count": null,
      "outputs": [
        {
          "output_type": "stream",
          "name": "stdout",
          "text": [
            "(5580, 240, 64)\n",
            "(5580, 1)\n"
          ]
        }
      ]
    },
    {
      "cell_type": "code",
      "source": [
        "testing_label"
      ],
      "metadata": {
        "colab": {
          "base_uri": "https://localhost:8080/",
          "height": 424
        },
        "id": "rXwx2UnA_XKi",
        "outputId": "1eace158-f318-467c-bd68-b0af5dd92c32"
      },
      "execution_count": null,
      "outputs": [
        {
          "output_type": "execute_result",
          "data": {
            "text/plain": [
              "      epoch  row/column true_character  true_character_index P300_prob\n",
              "0         1           6              F                     0       NaN\n",
              "1         1          12              F                     0       NaN\n",
              "2         1           8              F                     0       NaN\n",
              "3         1           3              F                     0       NaN\n",
              "4         1           4              F                     0       NaN\n",
              "...     ...         ...            ...                   ...       ...\n",
              "5575     15           7              7                    30       NaN\n",
              "5576     15           8              7                    30       NaN\n",
              "5577     15           4              7                    30       NaN\n",
              "5578     15           9              7                    30       NaN\n",
              "5579     15           2              7                    30       NaN\n",
              "\n",
              "[5580 rows x 5 columns]"
            ],
            "text/html": [
              "\n",
              "  <div id=\"df-8ac73877-1d32-4db6-aef5-a145b4a5ccf5\">\n",
              "    <div class=\"colab-df-container\">\n",
              "      <div>\n",
              "<style scoped>\n",
              "    .dataframe tbody tr th:only-of-type {\n",
              "        vertical-align: middle;\n",
              "    }\n",
              "\n",
              "    .dataframe tbody tr th {\n",
              "        vertical-align: top;\n",
              "    }\n",
              "\n",
              "    .dataframe thead th {\n",
              "        text-align: right;\n",
              "    }\n",
              "</style>\n",
              "<table border=\"1\" class=\"dataframe\">\n",
              "  <thead>\n",
              "    <tr style=\"text-align: right;\">\n",
              "      <th></th>\n",
              "      <th>epoch</th>\n",
              "      <th>row/column</th>\n",
              "      <th>true_character</th>\n",
              "      <th>true_character_index</th>\n",
              "      <th>P300_prob</th>\n",
              "    </tr>\n",
              "  </thead>\n",
              "  <tbody>\n",
              "    <tr>\n",
              "      <th>0</th>\n",
              "      <td>1</td>\n",
              "      <td>6</td>\n",
              "      <td>F</td>\n",
              "      <td>0</td>\n",
              "      <td>NaN</td>\n",
              "    </tr>\n",
              "    <tr>\n",
              "      <th>1</th>\n",
              "      <td>1</td>\n",
              "      <td>12</td>\n",
              "      <td>F</td>\n",
              "      <td>0</td>\n",
              "      <td>NaN</td>\n",
              "    </tr>\n",
              "    <tr>\n",
              "      <th>2</th>\n",
              "      <td>1</td>\n",
              "      <td>8</td>\n",
              "      <td>F</td>\n",
              "      <td>0</td>\n",
              "      <td>NaN</td>\n",
              "    </tr>\n",
              "    <tr>\n",
              "      <th>3</th>\n",
              "      <td>1</td>\n",
              "      <td>3</td>\n",
              "      <td>F</td>\n",
              "      <td>0</td>\n",
              "      <td>NaN</td>\n",
              "    </tr>\n",
              "    <tr>\n",
              "      <th>4</th>\n",
              "      <td>1</td>\n",
              "      <td>4</td>\n",
              "      <td>F</td>\n",
              "      <td>0</td>\n",
              "      <td>NaN</td>\n",
              "    </tr>\n",
              "    <tr>\n",
              "      <th>...</th>\n",
              "      <td>...</td>\n",
              "      <td>...</td>\n",
              "      <td>...</td>\n",
              "      <td>...</td>\n",
              "      <td>...</td>\n",
              "    </tr>\n",
              "    <tr>\n",
              "      <th>5575</th>\n",
              "      <td>15</td>\n",
              "      <td>7</td>\n",
              "      <td>7</td>\n",
              "      <td>30</td>\n",
              "      <td>NaN</td>\n",
              "    </tr>\n",
              "    <tr>\n",
              "      <th>5576</th>\n",
              "      <td>15</td>\n",
              "      <td>8</td>\n",
              "      <td>7</td>\n",
              "      <td>30</td>\n",
              "      <td>NaN</td>\n",
              "    </tr>\n",
              "    <tr>\n",
              "      <th>5577</th>\n",
              "      <td>15</td>\n",
              "      <td>4</td>\n",
              "      <td>7</td>\n",
              "      <td>30</td>\n",
              "      <td>NaN</td>\n",
              "    </tr>\n",
              "    <tr>\n",
              "      <th>5578</th>\n",
              "      <td>15</td>\n",
              "      <td>9</td>\n",
              "      <td>7</td>\n",
              "      <td>30</td>\n",
              "      <td>NaN</td>\n",
              "    </tr>\n",
              "    <tr>\n",
              "      <th>5579</th>\n",
              "      <td>15</td>\n",
              "      <td>2</td>\n",
              "      <td>7</td>\n",
              "      <td>30</td>\n",
              "      <td>NaN</td>\n",
              "    </tr>\n",
              "  </tbody>\n",
              "</table>\n",
              "<p>5580 rows × 5 columns</p>\n",
              "</div>\n",
              "      <button class=\"colab-df-convert\" onclick=\"convertToInteractive('df-8ac73877-1d32-4db6-aef5-a145b4a5ccf5')\"\n",
              "              title=\"Convert this dataframe to an interactive table.\"\n",
              "              style=\"display:none;\">\n",
              "        \n",
              "  <svg xmlns=\"http://www.w3.org/2000/svg\" height=\"24px\"viewBox=\"0 0 24 24\"\n",
              "       width=\"24px\">\n",
              "    <path d=\"M0 0h24v24H0V0z\" fill=\"none\"/>\n",
              "    <path d=\"M18.56 5.44l.94 2.06.94-2.06 2.06-.94-2.06-.94-.94-2.06-.94 2.06-2.06.94zm-11 1L8.5 8.5l.94-2.06 2.06-.94-2.06-.94L8.5 2.5l-.94 2.06-2.06.94zm10 10l.94 2.06.94-2.06 2.06-.94-2.06-.94-.94-2.06-.94 2.06-2.06.94z\"/><path d=\"M17.41 7.96l-1.37-1.37c-.4-.4-.92-.59-1.43-.59-.52 0-1.04.2-1.43.59L10.3 9.45l-7.72 7.72c-.78.78-.78 2.05 0 2.83L4 21.41c.39.39.9.59 1.41.59.51 0 1.02-.2 1.41-.59l7.78-7.78 2.81-2.81c.8-.78.8-2.07 0-2.86zM5.41 20L4 18.59l7.72-7.72 1.47 1.35L5.41 20z\"/>\n",
              "  </svg>\n",
              "      </button>\n",
              "      \n",
              "  <style>\n",
              "    .colab-df-container {\n",
              "      display:flex;\n",
              "      flex-wrap:wrap;\n",
              "      gap: 12px;\n",
              "    }\n",
              "\n",
              "    .colab-df-convert {\n",
              "      background-color: #E8F0FE;\n",
              "      border: none;\n",
              "      border-radius: 50%;\n",
              "      cursor: pointer;\n",
              "      display: none;\n",
              "      fill: #1967D2;\n",
              "      height: 32px;\n",
              "      padding: 0 0 0 0;\n",
              "      width: 32px;\n",
              "    }\n",
              "\n",
              "    .colab-df-convert:hover {\n",
              "      background-color: #E2EBFA;\n",
              "      box-shadow: 0px 1px 2px rgba(60, 64, 67, 0.3), 0px 1px 3px 1px rgba(60, 64, 67, 0.15);\n",
              "      fill: #174EA6;\n",
              "    }\n",
              "\n",
              "    [theme=dark] .colab-df-convert {\n",
              "      background-color: #3B4455;\n",
              "      fill: #D2E3FC;\n",
              "    }\n",
              "\n",
              "    [theme=dark] .colab-df-convert:hover {\n",
              "      background-color: #434B5C;\n",
              "      box-shadow: 0px 1px 3px 1px rgba(0, 0, 0, 0.15);\n",
              "      filter: drop-shadow(0px 1px 2px rgba(0, 0, 0, 0.3));\n",
              "      fill: #FFFFFF;\n",
              "    }\n",
              "  </style>\n",
              "\n",
              "      <script>\n",
              "        const buttonEl =\n",
              "          document.querySelector('#df-8ac73877-1d32-4db6-aef5-a145b4a5ccf5 button.colab-df-convert');\n",
              "        buttonEl.style.display =\n",
              "          google.colab.kernel.accessAllowed ? 'block' : 'none';\n",
              "\n",
              "        async function convertToInteractive(key) {\n",
              "          const element = document.querySelector('#df-8ac73877-1d32-4db6-aef5-a145b4a5ccf5');\n",
              "          const dataTable =\n",
              "            await google.colab.kernel.invokeFunction('convertToInteractive',\n",
              "                                                     [key], {});\n",
              "          if (!dataTable) return;\n",
              "\n",
              "          const docLinkHtml = 'Like what you see? Visit the ' +\n",
              "            '<a target=\"_blank\" href=https://colab.research.google.com/notebooks/data_table.ipynb>data table notebook</a>'\n",
              "            + ' to learn more about interactive tables.';\n",
              "          element.innerHTML = '';\n",
              "          dataTable['output_type'] = 'display_data';\n",
              "          await google.colab.output.renderOutput(dataTable, element);\n",
              "          const docLink = document.createElement('div');\n",
              "          docLink.innerHTML = docLinkHtml;\n",
              "          element.appendChild(docLink);\n",
              "        }\n",
              "      </script>\n",
              "    </div>\n",
              "  </div>\n",
              "  "
            ]
          },
          "metadata": {},
          "execution_count": 21
        }
      ]
    },
    {
      "cell_type": "markdown",
      "source": [
        "# Testing File Saving"
      ],
      "metadata": {
        "id": "0QdM-q6jjMGn"
      }
    },
    {
      "cell_type": "code",
      "source": [
        "# Change the directory here\n",
        "# np.save('/content/drive/MyDrive/Thesis Project/Example_P300/Processed Data/BCI_IIb_testing_data', signal_testing)\n",
        "# np.save('/content/drive/MyDrive/Thesis Project/Example_P300/Processed Data/BCI_IIb_testing_label', testing_label)"
      ],
      "metadata": {
        "id": "fq1I2yJEKKJ_"
      },
      "execution_count": null,
      "outputs": []
    }
  ]
}