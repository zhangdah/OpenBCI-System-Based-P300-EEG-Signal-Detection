{
  "nbformat": 4,
  "nbformat_minor": 0,
  "metadata": {
    "colab": {
      "provenance": [],
      "toc_visible": true
    },
    "kernelspec": {
      "name": "python3",
      "display_name": "Python 3"
    },
    "language_info": {
      "name": "python"
    }
  },
  "cells": [
    {
      "cell_type": "code",
      "execution_count": null,
      "metadata": {
        "colab": {
          "base_uri": "https://localhost:8080/"
        },
        "id": "UATXKXETKs32",
        "outputId": "81fd2a23-e6bd-4782-8d62-8f7cbdf0f7dc"
      },
      "outputs": [
        {
          "output_type": "stream",
          "name": "stdout",
          "text": [
            "Drive already mounted at /content/drive; to attempt to forcibly remount, call drive.mount(\"/content/drive\", force_remount=True).\n"
          ]
        }
      ],
      "source": [
        "from google.colab import drive\n",
        "drive.mount('/content/drive')"
      ]
    },
    {
      "cell_type": "markdown",
      "source": [
        "# OCLNN Model with 64 Channels"
      ],
      "metadata": {
        "id": "W5o19j7Y4UXU"
      }
    },
    {
      "cell_type": "code",
      "source": [
        "# Import packages\n",
        "import argparse\n",
        "import sys\n",
        "import numpy as np\n",
        "# from OCLNN import OCLNN\n",
        "from tensorflow.keras.callbacks import EarlyStopping\n",
        "from tensorflow.keras.utils import to_categorical\n",
        "#from tensorflow import set_random_seed\n",
        "from sklearn.model_selection import *\n",
        "# from utils import *\n",
        "import tensorflow.keras.backend as K\n",
        "import matplotlib.pyplot as plt\n",
        "from tensorflow.keras import *\n",
        "from tensorflow.keras.regularizers import l2"
      ],
      "metadata": {
        "id": "asEmUBF-eF9J"
      },
      "execution_count": null,
      "outputs": []
    },
    {
      "cell_type": "markdown",
      "source": [
        "## Load Data"
      ],
      "metadata": {
        "id": "JtvGpIJP2hxh"
      }
    },
    {
      "cell_type": "code",
      "source": [
        "# Load Data\n",
        "import pandas as pd\n",
        "training_data = np.load(\"/content/drive/MyDrive/Thesis Project/Example_P300/Processed Data/BCI_IIb_training_data.npy\")\n",
        "training_labels = np.load(\"/content/drive/MyDrive/Thesis Project/Example_P300/Processed Data/BCI_IIb_training_label.npy\")\n",
        "testing_data = np.load(\"/content/drive/MyDrive/Thesis Project/Example_P300/Processed Data/BCI_IIb_testing_data.npy\")\n",
        "testing_labels = pd.DataFrame(np.load(\"/content/drive/MyDrive/Thesis Project/Example_P300/Processed Data/BCI_IIb_testing_label.npy\", allow_pickle=True), \n",
        "                              columns=['epoch','row/column', 'true_character', 'true_character_index', 'P300_prob'])\n",
        "\n",
        "subject = 0\n",
        "print(\"Training data size: {0}\".format(training_data.shape))\n",
        "print(\"Testing data size: {0}\".format(testing_data.shape))"
      ],
      "metadata": {
        "colab": {
          "base_uri": "https://localhost:8080/"
        },
        "id": "kyvk8xGZ1SrF",
        "outputId": "4a02dd22-721f-4e0e-e907-850c662d3417"
      },
      "execution_count": null,
      "outputs": [
        {
          "output_type": "stream",
          "name": "stdout",
          "text": [
            "Training data size: (1, 7560, 240, 64)\n",
            "Testing data size: (5580, 240, 64)\n"
          ]
        }
      ]
    },
    {
      "cell_type": "code",
      "source": [
        "# Train test split\n",
        "from sklearn.model_selection import train_test_split\n",
        "# X_train, X_test, y_train, y_test = train_test_split(data[subject], labels[subject], test_size = 0.2, shuffle = True)\n",
        "X_train, X_valid, y_train, y_valid = train_test_split(training_data[subject], training_labels[subject], test_size = 0.2, shuffle = True)"
      ],
      "metadata": {
        "id": "d4tTLjEb-c3e"
      },
      "execution_count": null,
      "outputs": []
    },
    {
      "cell_type": "markdown",
      "source": [
        "## Model Architecture"
      ],
      "metadata": {
        "id": "moTTb2TW2pLT"
      }
    },
    {
      "cell_type": "code",
      "source": [
        "K.clear_session()\n",
        "model = models.Sequential()\n",
        "model.add(layers.Input(shape = (240, 64)))\n",
        "# model.add(layers.ZeroPadding1D(padding = 2))\n",
        "model.add(layers.Conv1D(16, 16, strides = 16,\n",
        "                          padding = 'valid',\n",
        "                          data_format = 'channels_last',\n",
        "                          kernel_initializer = 'glorot_uniform',\n",
        "                          bias_initializer = 'zeros',\n",
        "                          kernel_regularizer = 'l2',\n",
        "                          bias_regularizer = 'l2',\n",
        "                          use_bias = True))\n",
        "# model.add(layers.Conv1D(16, kernel_size = (16,),strides = 16, activation='relu', input_shape=(240, 64)))\n",
        "model.add(layers.Dropout(0.25))\n",
        "model.add(layers.Flatten())\n",
        "model.add(layers.Dense(2, activation='softmax', kernel_regularizer= \"l2\", bias_regularizer= \"l2\"))\n",
        "# model.add(layers.Dense(2, activation='softmax'))\n",
        "model.add(layers.Flatten())"
      ],
      "metadata": {
        "id": "9aQXuMnAeHEX"
      },
      "execution_count": null,
      "outputs": []
    },
    {
      "cell_type": "code",
      "source": [
        "model.summary()"
      ],
      "metadata": {
        "id": "r2j2MuRYqcHJ",
        "colab": {
          "base_uri": "https://localhost:8080/"
        },
        "outputId": "94d7e249-ddcb-445d-8561-0433dca1d999"
      },
      "execution_count": null,
      "outputs": [
        {
          "output_type": "stream",
          "name": "stdout",
          "text": [
            "Model: \"sequential\"\n",
            "_________________________________________________________________\n",
            " Layer (type)                Output Shape              Param #   \n",
            "=================================================================\n",
            " conv1d (Conv1D)             (None, 15, 16)            16400     \n",
            "                                                                 \n",
            " dropout (Dropout)           (None, 15, 16)            0         \n",
            "                                                                 \n",
            " flatten (Flatten)           (None, 240)               0         \n",
            "                                                                 \n",
            " dense (Dense)               (None, 2)                 482       \n",
            "                                                                 \n",
            " flatten_1 (Flatten)         (None, 2)                 0         \n",
            "                                                                 \n",
            "=================================================================\n",
            "Total params: 16,882\n",
            "Trainable params: 16,882\n",
            "Non-trainable params: 0\n",
            "_________________________________________________________________\n"
          ]
        }
      ]
    },
    {
      "cell_type": "markdown",
      "source": [
        "## Run Model"
      ],
      "metadata": {
        "id": "MYfcecQM2y19"
      }
    },
    {
      "cell_type": "code",
      "source": [
        "# Run the model\n",
        "model.compile(optimizer = 'adam', loss = 'categorical_crossentropy', metrics=['accuracy'])\n",
        "\n",
        "# class_weight = {0: 5, 1: 1}\n",
        "es = EarlyStopping(monitor = 'val_loss', mode = 'min', patience = 50, restore_best_weights = True)\n",
        "history = model.fit(X_train, to_categorical(y_train),batch_size = 256,epochs = 200,validation_data = (X_valid, to_categorical(y_valid)),callbacks = [es])\n",
        "# history = model.fit(X_train, y_train, epochs= 150, batch_size = 128, validation_data= [X_test, y_test])"
      ],
      "metadata": {
        "id": "-W-VWX9neV5H",
        "colab": {
          "base_uri": "https://localhost:8080/"
        },
        "outputId": "4c901c6f-13fe-4584-e01d-94604955b9dc"
      },
      "execution_count": null,
      "outputs": [
        {
          "output_type": "stream",
          "name": "stdout",
          "text": [
            "Epoch 1/200\n",
            "24/24 [==============================] - 3s 78ms/step - loss: 1.1271 - accuracy: 0.6359 - val_loss: 0.8812 - val_accuracy: 0.7090\n",
            "Epoch 2/200\n",
            "24/24 [==============================] - 2s 73ms/step - loss: 0.7881 - accuracy: 0.7603 - val_loss: 0.7697 - val_accuracy: 0.7619\n",
            "Epoch 3/200\n",
            "24/24 [==============================] - 5s 203ms/step - loss: 0.6704 - accuracy: 0.8132 - val_loss: 0.6922 - val_accuracy: 0.8003\n",
            "Epoch 4/200\n",
            "24/24 [==============================] - 2s 77ms/step - loss: 0.6111 - accuracy: 0.8376 - val_loss: 0.6364 - val_accuracy: 0.8241\n",
            "Epoch 5/200\n",
            "24/24 [==============================] - 2s 70ms/step - loss: 0.5473 - accuracy: 0.8666 - val_loss: 0.5966 - val_accuracy: 0.8406\n",
            "Epoch 6/200\n",
            "24/24 [==============================] - 1s 40ms/step - loss: 0.5013 - accuracy: 0.8829 - val_loss: 0.5585 - val_accuracy: 0.8558\n",
            "Epoch 7/200\n",
            "24/24 [==============================] - 1s 40ms/step - loss: 0.4662 - accuracy: 0.8919 - val_loss: 0.5253 - val_accuracy: 0.8671\n",
            "Epoch 8/200\n",
            "24/24 [==============================] - 1s 41ms/step - loss: 0.4352 - accuracy: 0.9010 - val_loss: 0.5048 - val_accuracy: 0.8770\n",
            "Epoch 9/200\n",
            "24/24 [==============================] - 1s 43ms/step - loss: 0.4145 - accuracy: 0.9086 - val_loss: 0.4833 - val_accuracy: 0.8810\n",
            "Epoch 10/200\n",
            "24/24 [==============================] - 1s 38ms/step - loss: 0.3907 - accuracy: 0.9139 - val_loss: 0.4677 - val_accuracy: 0.8829\n",
            "Epoch 11/200\n",
            "24/24 [==============================] - 1s 42ms/step - loss: 0.3741 - accuracy: 0.9175 - val_loss: 0.4551 - val_accuracy: 0.8876\n",
            "Epoch 12/200\n",
            "24/24 [==============================] - 1s 38ms/step - loss: 0.3610 - accuracy: 0.9225 - val_loss: 0.4482 - val_accuracy: 0.8810\n",
            "Epoch 13/200\n",
            "24/24 [==============================] - 1s 37ms/step - loss: 0.3372 - accuracy: 0.9231 - val_loss: 0.4422 - val_accuracy: 0.8896\n",
            "Epoch 14/200\n",
            "24/24 [==============================] - 1s 40ms/step - loss: 0.3317 - accuracy: 0.9268 - val_loss: 0.4293 - val_accuracy: 0.8929\n",
            "Epoch 15/200\n",
            "24/24 [==============================] - 1s 39ms/step - loss: 0.3181 - accuracy: 0.9304 - val_loss: 0.4178 - val_accuracy: 0.8856\n",
            "Epoch 16/200\n",
            "24/24 [==============================] - 1s 55ms/step - loss: 0.3127 - accuracy: 0.9306 - val_loss: 0.4243 - val_accuracy: 0.8856\n",
            "Epoch 17/200\n",
            "24/24 [==============================] - 1s 60ms/step - loss: 0.3056 - accuracy: 0.9263 - val_loss: 0.4033 - val_accuracy: 0.8909\n",
            "Epoch 18/200\n",
            "24/24 [==============================] - 1s 62ms/step - loss: 0.2962 - accuracy: 0.9330 - val_loss: 0.3947 - val_accuracy: 0.8869\n",
            "Epoch 19/200\n",
            "24/24 [==============================] - 1s 56ms/step - loss: 0.2851 - accuracy: 0.9363 - val_loss: 0.4037 - val_accuracy: 0.8823\n",
            "Epoch 20/200\n",
            "24/24 [==============================] - 1s 42ms/step - loss: 0.2755 - accuracy: 0.9408 - val_loss: 0.4172 - val_accuracy: 0.8790\n",
            "Epoch 21/200\n",
            "24/24 [==============================] - 1s 40ms/step - loss: 0.2743 - accuracy: 0.9335 - val_loss: 0.3921 - val_accuracy: 0.8909\n",
            "Epoch 22/200\n",
            "24/24 [==============================] - 1s 37ms/step - loss: 0.2649 - accuracy: 0.9410 - val_loss: 0.3947 - val_accuracy: 0.8856\n",
            "Epoch 23/200\n",
            "24/24 [==============================] - 1s 41ms/step - loss: 0.2621 - accuracy: 0.9372 - val_loss: 0.3851 - val_accuracy: 0.8909\n",
            "Epoch 24/200\n",
            "24/24 [==============================] - 1s 37ms/step - loss: 0.2654 - accuracy: 0.9362 - val_loss: 0.3966 - val_accuracy: 0.8889\n",
            "Epoch 25/200\n",
            "24/24 [==============================] - 1s 38ms/step - loss: 0.2574 - accuracy: 0.9380 - val_loss: 0.3782 - val_accuracy: 0.8942\n",
            "Epoch 26/200\n",
            "24/24 [==============================] - 1s 38ms/step - loss: 0.2520 - accuracy: 0.9357 - val_loss: 0.3859 - val_accuracy: 0.8856\n",
            "Epoch 27/200\n",
            "24/24 [==============================] - 1s 38ms/step - loss: 0.2520 - accuracy: 0.9373 - val_loss: 0.3971 - val_accuracy: 0.8862\n",
            "Epoch 28/200\n",
            "24/24 [==============================] - 1s 39ms/step - loss: 0.2541 - accuracy: 0.9358 - val_loss: 0.3902 - val_accuracy: 0.8909\n",
            "Epoch 29/200\n",
            "24/24 [==============================] - 1s 38ms/step - loss: 0.2464 - accuracy: 0.9405 - val_loss: 0.3806 - val_accuracy: 0.8876\n",
            "Epoch 30/200\n",
            "24/24 [==============================] - 1s 52ms/step - loss: 0.2433 - accuracy: 0.9454 - val_loss: 0.3785 - val_accuracy: 0.8869\n",
            "Epoch 31/200\n",
            "24/24 [==============================] - 2s 64ms/step - loss: 0.2413 - accuracy: 0.9395 - val_loss: 0.3724 - val_accuracy: 0.8922\n",
            "Epoch 32/200\n",
            "24/24 [==============================] - 1s 62ms/step - loss: 0.2405 - accuracy: 0.9448 - val_loss: 0.3744 - val_accuracy: 0.8882\n",
            "Epoch 33/200\n",
            "24/24 [==============================] - 1s 51ms/step - loss: 0.2276 - accuracy: 0.9482 - val_loss: 0.3774 - val_accuracy: 0.8869\n",
            "Epoch 34/200\n",
            "24/24 [==============================] - 1s 40ms/step - loss: 0.2287 - accuracy: 0.9473 - val_loss: 0.3977 - val_accuracy: 0.8790\n",
            "Epoch 35/200\n",
            "24/24 [==============================] - 1s 37ms/step - loss: 0.2353 - accuracy: 0.9420 - val_loss: 0.3800 - val_accuracy: 0.8915\n",
            "Epoch 36/200\n",
            "24/24 [==============================] - 1s 38ms/step - loss: 0.2282 - accuracy: 0.9464 - val_loss: 0.3771 - val_accuracy: 0.8829\n",
            "Epoch 37/200\n",
            "24/24 [==============================] - 1s 40ms/step - loss: 0.2209 - accuracy: 0.9504 - val_loss: 0.3768 - val_accuracy: 0.8856\n",
            "Epoch 38/200\n",
            "24/24 [==============================] - 1s 41ms/step - loss: 0.2322 - accuracy: 0.9408 - val_loss: 0.3859 - val_accuracy: 0.8823\n",
            "Epoch 39/200\n",
            "24/24 [==============================] - 1s 40ms/step - loss: 0.2347 - accuracy: 0.9428 - val_loss: 0.3843 - val_accuracy: 0.8862\n",
            "Epoch 40/200\n",
            "24/24 [==============================] - 1s 37ms/step - loss: 0.2307 - accuracy: 0.9420 - val_loss: 0.3745 - val_accuracy: 0.8862\n",
            "Epoch 41/200\n",
            "24/24 [==============================] - 1s 40ms/step - loss: 0.2237 - accuracy: 0.9486 - val_loss: 0.3782 - val_accuracy: 0.8876\n",
            "Epoch 42/200\n",
            "24/24 [==============================] - 1s 37ms/step - loss: 0.2283 - accuracy: 0.9435 - val_loss: 0.3673 - val_accuracy: 0.8922\n",
            "Epoch 43/200\n",
            "24/24 [==============================] - 1s 39ms/step - loss: 0.2280 - accuracy: 0.9430 - val_loss: 0.3738 - val_accuracy: 0.8922\n",
            "Epoch 44/200\n",
            "24/24 [==============================] - 1s 57ms/step - loss: 0.2257 - accuracy: 0.9469 - val_loss: 0.3710 - val_accuracy: 0.8915\n",
            "Epoch 45/200\n",
            "24/24 [==============================] - 1s 61ms/step - loss: 0.2200 - accuracy: 0.9484 - val_loss: 0.3814 - val_accuracy: 0.8856\n",
            "Epoch 46/200\n",
            "24/24 [==============================] - 1s 59ms/step - loss: 0.2173 - accuracy: 0.9481 - val_loss: 0.3707 - val_accuracy: 0.8849\n",
            "Epoch 47/200\n",
            "24/24 [==============================] - 1s 56ms/step - loss: 0.2238 - accuracy: 0.9448 - val_loss: 0.3779 - val_accuracy: 0.8803\n",
            "Epoch 48/200\n",
            "24/24 [==============================] - 1s 41ms/step - loss: 0.2229 - accuracy: 0.9459 - val_loss: 0.3813 - val_accuracy: 0.8849\n",
            "Epoch 49/200\n",
            "24/24 [==============================] - 1s 38ms/step - loss: 0.2290 - accuracy: 0.9433 - val_loss: 0.3827 - val_accuracy: 0.8829\n",
            "Epoch 50/200\n",
            "24/24 [==============================] - 1s 40ms/step - loss: 0.2195 - accuracy: 0.9474 - val_loss: 0.3763 - val_accuracy: 0.8843\n",
            "Epoch 51/200\n",
            "24/24 [==============================] - 1s 42ms/step - loss: 0.2252 - accuracy: 0.9436 - val_loss: 0.3773 - val_accuracy: 0.8942\n",
            "Epoch 52/200\n",
            "24/24 [==============================] - 1s 41ms/step - loss: 0.2183 - accuracy: 0.9481 - val_loss: 0.3758 - val_accuracy: 0.8843\n",
            "Epoch 53/200\n",
            "24/24 [==============================] - 1s 40ms/step - loss: 0.2223 - accuracy: 0.9486 - val_loss: 0.3747 - val_accuracy: 0.8882\n",
            "Epoch 54/200\n",
            "24/24 [==============================] - 1s 41ms/step - loss: 0.2201 - accuracy: 0.9473 - val_loss: 0.3723 - val_accuracy: 0.8902\n",
            "Epoch 55/200\n",
            "24/24 [==============================] - 1s 38ms/step - loss: 0.2163 - accuracy: 0.9501 - val_loss: 0.3726 - val_accuracy: 0.8862\n",
            "Epoch 56/200\n",
            "24/24 [==============================] - 1s 39ms/step - loss: 0.2112 - accuracy: 0.9537 - val_loss: 0.3710 - val_accuracy: 0.8836\n",
            "Epoch 57/200\n",
            "24/24 [==============================] - 1s 38ms/step - loss: 0.2209 - accuracy: 0.9478 - val_loss: 0.3799 - val_accuracy: 0.8836\n",
            "Epoch 58/200\n",
            "24/24 [==============================] - 1s 59ms/step - loss: 0.2181 - accuracy: 0.9476 - val_loss: 0.3934 - val_accuracy: 0.8730\n",
            "Epoch 59/200\n",
            "24/24 [==============================] - 1s 60ms/step - loss: 0.2180 - accuracy: 0.9506 - val_loss: 0.3716 - val_accuracy: 0.8896\n",
            "Epoch 60/200\n",
            "24/24 [==============================] - 1s 61ms/step - loss: 0.2221 - accuracy: 0.9454 - val_loss: 0.3734 - val_accuracy: 0.8929\n",
            "Epoch 61/200\n",
            "24/24 [==============================] - 1s 46ms/step - loss: 0.2225 - accuracy: 0.9444 - val_loss: 0.3700 - val_accuracy: 0.8889\n",
            "Epoch 62/200\n",
            "24/24 [==============================] - 1s 38ms/step - loss: 0.2140 - accuracy: 0.9482 - val_loss: 0.3886 - val_accuracy: 0.8856\n",
            "Epoch 63/200\n",
            "24/24 [==============================] - 1s 41ms/step - loss: 0.2155 - accuracy: 0.9494 - val_loss: 0.3892 - val_accuracy: 0.8750\n",
            "Epoch 64/200\n",
            "24/24 [==============================] - 1s 41ms/step - loss: 0.2203 - accuracy: 0.9491 - val_loss: 0.3809 - val_accuracy: 0.8869\n",
            "Epoch 65/200\n",
            "24/24 [==============================] - 1s 58ms/step - loss: 0.2138 - accuracy: 0.9506 - val_loss: 0.3689 - val_accuracy: 0.8882\n",
            "Epoch 66/200\n",
            "24/24 [==============================] - 1s 38ms/step - loss: 0.2103 - accuracy: 0.9535 - val_loss: 0.3745 - val_accuracy: 0.8836\n",
            "Epoch 67/200\n",
            "24/24 [==============================] - 1s 40ms/step - loss: 0.2115 - accuracy: 0.9529 - val_loss: 0.3855 - val_accuracy: 0.8803\n",
            "Epoch 68/200\n",
            "24/24 [==============================] - 1s 40ms/step - loss: 0.2186 - accuracy: 0.9501 - val_loss: 0.3856 - val_accuracy: 0.8882\n",
            "Epoch 69/200\n",
            "24/24 [==============================] - 1s 42ms/step - loss: 0.2307 - accuracy: 0.9400 - val_loss: 0.3718 - val_accuracy: 0.8968\n",
            "Epoch 70/200\n",
            "24/24 [==============================] - 1s 42ms/step - loss: 0.2226 - accuracy: 0.9468 - val_loss: 0.3861 - val_accuracy: 0.8909\n",
            "Epoch 71/200\n",
            "24/24 [==============================] - 1s 54ms/step - loss: 0.2152 - accuracy: 0.9487 - val_loss: 0.3791 - val_accuracy: 0.8915\n",
            "Epoch 72/200\n",
            "24/24 [==============================] - 1s 61ms/step - loss: 0.2155 - accuracy: 0.9478 - val_loss: 0.3642 - val_accuracy: 0.8948\n",
            "Epoch 73/200\n",
            "24/24 [==============================] - 1s 60ms/step - loss: 0.2109 - accuracy: 0.9521 - val_loss: 0.3682 - val_accuracy: 0.8955\n",
            "Epoch 74/200\n",
            "24/24 [==============================] - 1s 52ms/step - loss: 0.2097 - accuracy: 0.9557 - val_loss: 0.3700 - val_accuracy: 0.8896\n",
            "Epoch 75/200\n",
            "24/24 [==============================] - 1s 41ms/step - loss: 0.2149 - accuracy: 0.9504 - val_loss: 0.3881 - val_accuracy: 0.8869\n",
            "Epoch 76/200\n",
            "24/24 [==============================] - 1s 42ms/step - loss: 0.2152 - accuracy: 0.9506 - val_loss: 0.3756 - val_accuracy: 0.8909\n",
            "Epoch 77/200\n",
            "24/24 [==============================] - 1s 38ms/step - loss: 0.2190 - accuracy: 0.9468 - val_loss: 0.3669 - val_accuracy: 0.8981\n",
            "Epoch 78/200\n",
            "24/24 [==============================] - 1s 42ms/step - loss: 0.2144 - accuracy: 0.9504 - val_loss: 0.3756 - val_accuracy: 0.8843\n",
            "Epoch 79/200\n",
            "24/24 [==============================] - 1s 38ms/step - loss: 0.2132 - accuracy: 0.9509 - val_loss: 0.3643 - val_accuracy: 0.8975\n",
            "Epoch 80/200\n",
            "24/24 [==============================] - 1s 37ms/step - loss: 0.2134 - accuracy: 0.9504 - val_loss: 0.3787 - val_accuracy: 0.8896\n",
            "Epoch 81/200\n",
            "24/24 [==============================] - 1s 38ms/step - loss: 0.2186 - accuracy: 0.9473 - val_loss: 0.3760 - val_accuracy: 0.8929\n",
            "Epoch 82/200\n",
            "24/24 [==============================] - 1s 40ms/step - loss: 0.2071 - accuracy: 0.9544 - val_loss: 0.3725 - val_accuracy: 0.8962\n",
            "Epoch 83/200\n",
            "24/24 [==============================] - 1s 40ms/step - loss: 0.2157 - accuracy: 0.9502 - val_loss: 0.3644 - val_accuracy: 0.8902\n",
            "Epoch 84/200\n",
            "24/24 [==============================] - 1s 37ms/step - loss: 0.2257 - accuracy: 0.9463 - val_loss: 0.3812 - val_accuracy: 0.8849\n",
            "Epoch 85/200\n",
            "24/24 [==============================] - 1s 55ms/step - loss: 0.2155 - accuracy: 0.9492 - val_loss: 0.3686 - val_accuracy: 0.8909\n",
            "Epoch 86/200\n",
            "24/24 [==============================] - 1s 60ms/step - loss: 0.2082 - accuracy: 0.9514 - val_loss: 0.3812 - val_accuracy: 0.8876\n",
            "Epoch 87/200\n",
            "24/24 [==============================] - 1s 56ms/step - loss: 0.2067 - accuracy: 0.9537 - val_loss: 0.3802 - val_accuracy: 0.8796\n",
            "Epoch 88/200\n",
            "24/24 [==============================] - 1s 53ms/step - loss: 0.2105 - accuracy: 0.9532 - val_loss: 0.3667 - val_accuracy: 0.8889\n",
            "Epoch 89/200\n",
            "24/24 [==============================] - 1s 37ms/step - loss: 0.2162 - accuracy: 0.9471 - val_loss: 0.3746 - val_accuracy: 0.8869\n",
            "Epoch 90/200\n",
            "24/24 [==============================] - 1s 39ms/step - loss: 0.2117 - accuracy: 0.9489 - val_loss: 0.3967 - val_accuracy: 0.8810\n",
            "Epoch 91/200\n",
            "24/24 [==============================] - 1s 38ms/step - loss: 0.2131 - accuracy: 0.9473 - val_loss: 0.3758 - val_accuracy: 0.8849\n",
            "Epoch 92/200\n",
            "24/24 [==============================] - 1s 40ms/step - loss: 0.2096 - accuracy: 0.9516 - val_loss: 0.3860 - val_accuracy: 0.8882\n",
            "Epoch 93/200\n",
            "24/24 [==============================] - 1s 42ms/step - loss: 0.2166 - accuracy: 0.9476 - val_loss: 0.3753 - val_accuracy: 0.8836\n",
            "Epoch 94/200\n",
            "24/24 [==============================] - 1s 38ms/step - loss: 0.1989 - accuracy: 0.9613 - val_loss: 0.3739 - val_accuracy: 0.8876\n",
            "Epoch 95/200\n",
            "24/24 [==============================] - 1s 40ms/step - loss: 0.2085 - accuracy: 0.9519 - val_loss: 0.3731 - val_accuracy: 0.8869\n",
            "Epoch 96/200\n",
            "24/24 [==============================] - 1s 38ms/step - loss: 0.2190 - accuracy: 0.9449 - val_loss: 0.3901 - val_accuracy: 0.8889\n",
            "Epoch 97/200\n",
            "24/24 [==============================] - 1s 37ms/step - loss: 0.2128 - accuracy: 0.9511 - val_loss: 0.3831 - val_accuracy: 0.8829\n",
            "Epoch 98/200\n",
            "24/24 [==============================] - 1s 42ms/step - loss: 0.2170 - accuracy: 0.9479 - val_loss: 0.3836 - val_accuracy: 0.8889\n",
            "Epoch 99/200\n",
            "24/24 [==============================] - 1s 55ms/step - loss: 0.2190 - accuracy: 0.9481 - val_loss: 0.3798 - val_accuracy: 0.8849\n",
            "Epoch 100/200\n",
            "24/24 [==============================] - 1s 59ms/step - loss: 0.2197 - accuracy: 0.9458 - val_loss: 0.3916 - val_accuracy: 0.8843\n",
            "Epoch 101/200\n",
            "24/24 [==============================] - 1s 60ms/step - loss: 0.2167 - accuracy: 0.9494 - val_loss: 0.3772 - val_accuracy: 0.8929\n",
            "Epoch 102/200\n",
            "24/24 [==============================] - 1s 57ms/step - loss: 0.2148 - accuracy: 0.9496 - val_loss: 0.3715 - val_accuracy: 0.8942\n",
            "Epoch 103/200\n",
            "24/24 [==============================] - 1s 38ms/step - loss: 0.2106 - accuracy: 0.9524 - val_loss: 0.3694 - val_accuracy: 0.8915\n",
            "Epoch 104/200\n",
            "24/24 [==============================] - 1s 39ms/step - loss: 0.2069 - accuracy: 0.9542 - val_loss: 0.3716 - val_accuracy: 0.8922\n",
            "Epoch 105/200\n",
            "24/24 [==============================] - 1s 37ms/step - loss: 0.2101 - accuracy: 0.9535 - val_loss: 0.3719 - val_accuracy: 0.8889\n",
            "Epoch 106/200\n",
            "24/24 [==============================] - 1s 38ms/step - loss: 0.2158 - accuracy: 0.9496 - val_loss: 0.3917 - val_accuracy: 0.8829\n",
            "Epoch 107/200\n",
            "24/24 [==============================] - 1s 36ms/step - loss: 0.2149 - accuracy: 0.9509 - val_loss: 0.3765 - val_accuracy: 0.8876\n",
            "Epoch 108/200\n",
            "24/24 [==============================] - 1s 37ms/step - loss: 0.2071 - accuracy: 0.9535 - val_loss: 0.3768 - val_accuracy: 0.8856\n",
            "Epoch 109/200\n",
            "24/24 [==============================] - 1s 39ms/step - loss: 0.2110 - accuracy: 0.9504 - val_loss: 0.3807 - val_accuracy: 0.8869\n",
            "Epoch 110/200\n",
            "24/24 [==============================] - 1s 37ms/step - loss: 0.2126 - accuracy: 0.9509 - val_loss: 0.3896 - val_accuracy: 0.8810\n",
            "Epoch 111/200\n",
            "24/24 [==============================] - 1s 38ms/step - loss: 0.2068 - accuracy: 0.9511 - val_loss: 0.3769 - val_accuracy: 0.8896\n",
            "Epoch 112/200\n",
            "24/24 [==============================] - 1s 37ms/step - loss: 0.2189 - accuracy: 0.9464 - val_loss: 0.3759 - val_accuracy: 0.8915\n",
            "Epoch 113/200\n",
            "24/24 [==============================] - 1s 44ms/step - loss: 0.2116 - accuracy: 0.9502 - val_loss: 0.3755 - val_accuracy: 0.8876\n",
            "Epoch 114/200\n",
            "24/24 [==============================] - 1s 58ms/step - loss: 0.2158 - accuracy: 0.9484 - val_loss: 0.3716 - val_accuracy: 0.8849\n",
            "Epoch 115/200\n",
            "24/24 [==============================] - 1s 58ms/step - loss: 0.2156 - accuracy: 0.9506 - val_loss: 0.3808 - val_accuracy: 0.8889\n",
            "Epoch 116/200\n",
            "24/24 [==============================] - 2s 64ms/step - loss: 0.2188 - accuracy: 0.9466 - val_loss: 0.3695 - val_accuracy: 0.8889\n",
            "Epoch 117/200\n",
            "24/24 [==============================] - 1s 43ms/step - loss: 0.2113 - accuracy: 0.9542 - val_loss: 0.3974 - val_accuracy: 0.8856\n",
            "Epoch 118/200\n",
            "24/24 [==============================] - 1s 41ms/step - loss: 0.2140 - accuracy: 0.9512 - val_loss: 0.3794 - val_accuracy: 0.8915\n",
            "Epoch 119/200\n",
            "24/24 [==============================] - 1s 58ms/step - loss: 0.2116 - accuracy: 0.9530 - val_loss: 0.3764 - val_accuracy: 0.8829\n",
            "Epoch 120/200\n",
            "24/24 [==============================] - 1s 58ms/step - loss: 0.2196 - accuracy: 0.9514 - val_loss: 0.3874 - val_accuracy: 0.8783\n",
            "Epoch 121/200\n",
            "24/24 [==============================] - 1s 39ms/step - loss: 0.2114 - accuracy: 0.9530 - val_loss: 0.3759 - val_accuracy: 0.8902\n",
            "Epoch 122/200\n",
            "24/24 [==============================] - 1s 40ms/step - loss: 0.2122 - accuracy: 0.9504 - val_loss: 0.3773 - val_accuracy: 0.8896\n"
          ]
        }
      ]
    },
    {
      "cell_type": "code",
      "source": [
        "plt.plot(history.history['accuracy'])\n",
        "plt.plot(history.history['val_accuracy'])\n",
        "plt.title('model accuracy')\n",
        "plt.ylabel('accuracy')\n",
        "plt.xlabel('epoch')\n",
        "plt.legend(['train', 'val'], loc='upper left')\n",
        "plt.show()\n",
        "\n",
        "plt.plot(history.history['loss'])\n",
        "plt.plot(history.history['val_loss'])\n",
        "plt.title('model loss')\n",
        "plt.ylabel('loss')\n",
        "plt.xlabel('epoch')\n",
        "plt.legend(['train', 'val'], loc='upper left')\n",
        "plt.show()"
      ],
      "metadata": {
        "id": "g8vSQDDnXZY2",
        "colab": {
          "base_uri": "https://localhost:8080/",
          "height": 927
        },
        "outputId": "bb1470ff-45ef-4e19-f408-80223f914b3e"
      },
      "execution_count": null,
      "outputs": [
        {
          "output_type": "display_data",
          "data": {
            "text/plain": [
              "<Figure size 640x480 with 1 Axes>"
            ],
            "image/png": "[encoded data removed]"
          },
          "metadata": {}
        },
        {
          "output_type": "display_data",
          "data": {
            "text/plain": [
              "<Figure size 640x480 with 1 Axes>"
            ],
            "image/png": "[encoded data removed]"
          },
          "metadata": {}
        }
      ]
    },
    {
      "cell_type": "code",
      "source": [
        "y_pred = model.predict(X_valid)"
      ],
      "metadata": {
        "id": "QoUAA71LZQQK",
        "colab": {
          "base_uri": "https://localhost:8080/"
        },
        "outputId": "8a20ac61-1984-4c6f-e3bb-25b43e20c556"
      },
      "execution_count": null,
      "outputs": [
        {
          "output_type": "stream",
          "name": "stdout",
          "text": [
            "48/48 [==============================] - 0s 5ms/step\n"
          ]
        }
      ]
    },
    {
      "cell_type": "code",
      "source": [
        "from sklearn.metrics import accuracy_score\n",
        "y_pred = np.argmax(y_pred, axis = 1)\n",
        "accuracy_score(y_valid, y_pred)"
      ],
      "metadata": {
        "colab": {
          "base_uri": "https://localhost:8080/"
        },
        "id": "bgkuxpaIHJUE",
        "outputId": "8a81ce5d-ce85-4367-ae68-8715893be743"
      },
      "execution_count": null,
      "outputs": [
        {
          "output_type": "execute_result",
          "data": {
            "text/plain": [
              "0.8948412698412699"
            ]
          },
          "metadata": {},
          "execution_count": 117
        }
      ]
    },
    {
      "cell_type": "code",
      "source": [
        "from sklearn.metrics import confusion_matrix\n",
        "confusion_matrix(y_valid, y_pred)"
      ],
      "metadata": {
        "id": "QBvMvPYCYzr5",
        "colab": {
          "base_uri": "https://localhost:8080/"
        },
        "outputId": "94300fe1-134b-48fb-f9fd-0629c09c5e6e"
      },
      "execution_count": null,
      "outputs": [
        {
          "output_type": "execute_result",
          "data": {
            "text/plain": [
              "array([[1203,   50],\n",
              "       [ 109,  150]])"
            ]
          },
          "metadata": {},
          "execution_count": 118
        }
      ]
    },
    {
      "cell_type": "markdown",
      "source": [
        "## Character spelling task"
      ],
      "metadata": {
        "id": "r2epdsOhQAEB"
      }
    },
    {
      "cell_type": "code",
      "source": [
        "# Plug in the predicted probability for intensification in each epoch\n",
        "testing_labels['P300_prob'] = model.predict(testing_data)[:, 1]\n",
        "testing_labels"
      ],
      "metadata": {
        "id": "ZR8cnVRMlcor",
        "colab": {
          "base_uri": "https://localhost:8080/",
          "height": 441
        },
        "outputId": "d0754309-9028-4feb-b371-74daa5b6b2ae"
      },
      "execution_count": null,
      "outputs": [
        {
          "output_type": "stream",
          "name": "stdout",
          "text": [
            "175/175 [==============================] - 1s 3ms/step\n"
          ]
        },
        {
          "output_type": "execute_result",
          "data": {
            "text/plain": [
              "     epoch row/column true_character true_character_index  P300_prob\n",
              "0        1          6              F                    0   0.830940\n",
              "1        1         12              F                    0   0.000381\n",
              "2        1          8              F                    0   0.337276\n",
              "3        1          3              F                    0   0.018137\n",
              "4        1          4              F                    0   0.018578\n",
              "...    ...        ...            ...                  ...        ...\n",
              "5575    15          7              7                   30   0.161297\n",
              "5576    15          8              7                   30   0.000787\n",
              "5577    15          4              7                   30   0.054845\n",
              "5578    15          9              7                   30   0.000006\n",
              "5579    15          2              7                   30   0.000509\n",
              "\n",
              "[5580 rows x 5 columns]"
            ],
            "text/html": [
              "\n",
              "  <div id=\"df-61ba2036-e4b6-4e29-b5f5-d8cd87ea7fb5\">\n",
              "    <div class=\"colab-df-container\">\n",
              "      <div>\n",
              "<style scoped>\n",
              "    .dataframe tbody tr th:only-of-type {\n",
              "        vertical-align: middle;\n",
              "    }\n",
              "\n",
              "    .dataframe tbody tr th {\n",
              "        vertical-align: top;\n",
              "    }\n",
              "\n",
              "    .dataframe thead th {\n",
              "        text-align: right;\n",
              "    }\n",
              "</style>\n",
              "<table border=\"1\" class=\"dataframe\">\n",
              "  <thead>\n",
              "    <tr style=\"text-align: right;\">\n",
              "      <th></th>\n",
              "      <th>epoch</th>\n",
              "      <th>row/column</th>\n",
              "      <th>true_character</th>\n",
              "      <th>true_character_index</th>\n",
              "      <th>P300_prob</th>\n",
              "    </tr>\n",
              "  </thead>\n",
              "  <tbody>\n",
              "    <tr>\n",
              "      <th>0</th>\n",
              "      <td>1</td>\n",
              "      <td>6</td>\n",
              "      <td>F</td>\n",
              "      <td>0</td>\n",
              "      <td>0.830940</td>\n",
              "    </tr>\n",
              "    <tr>\n",
              "      <th>1</th>\n",
              "      <td>1</td>\n",
              "      <td>12</td>\n",
              "      <td>F</td>\n",
              "      <td>0</td>\n",
              "      <td>0.000381</td>\n",
              "    </tr>\n",
              "    <tr>\n",
              "      <th>2</th>\n",
              "      <td>1</td>\n",
              "      <td>8</td>\n",
              "      <td>F</td>\n",
              "      <td>0</td>\n",
              "      <td>0.337276</td>\n",
              "    </tr>\n",
              "    <tr>\n",
              "      <th>3</th>\n",
              "      <td>1</td>\n",
              "      <td>3</td>\n",
              "      <td>F</td>\n",
              "      <td>0</td>\n",
              "      <td>0.018137</td>\n",
              "    </tr>\n",
              "    <tr>\n",
              "      <th>4</th>\n",
              "      <td>1</td>\n",
              "      <td>4</td>\n",
              "      <td>F</td>\n",
              "      <td>0</td>\n",
              "      <td>0.018578</td>\n",
              "    </tr>\n",
              "    <tr>\n",
              "      <th>...</th>\n",
              "      <td>...</td>\n",
              "      <td>...</td>\n",
              "      <td>...</td>\n",
              "      <td>...</td>\n",
              "      <td>...</td>\n",
              "    </tr>\n",
              "    <tr>\n",
              "      <th>5575</th>\n",
              "      <td>15</td>\n",
              "      <td>7</td>\n",
              "      <td>7</td>\n",
              "      <td>30</td>\n",
              "      <td>0.161297</td>\n",
              "    </tr>\n",
              "    <tr>\n",
              "      <th>5576</th>\n",
              "      <td>15</td>\n",
              "      <td>8</td>\n",
              "      <td>7</td>\n",
              "      <td>30</td>\n",
              "      <td>0.000787</td>\n",
              "    </tr>\n",
              "    <tr>\n",
              "      <th>5577</th>\n",
              "      <td>15</td>\n",
              "      <td>4</td>\n",
              "      <td>7</td>\n",
              "      <td>30</td>\n",
              "      <td>0.054845</td>\n",
              "    </tr>\n",
              "    <tr>\n",
              "      <th>5578</th>\n",
              "      <td>15</td>\n",
              "      <td>9</td>\n",
              "      <td>7</td>\n",
              "      <td>30</td>\n",
              "      <td>0.000006</td>\n",
              "    </tr>\n",
              "    <tr>\n",
              "      <th>5579</th>\n",
              "      <td>15</td>\n",
              "      <td>2</td>\n",
              "      <td>7</td>\n",
              "      <td>30</td>\n",
              "      <td>0.000509</td>\n",
              "    </tr>\n",
              "  </tbody>\n",
              "</table>\n",
              "<p>5580 rows × 5 columns</p>\n",
              "</div>\n",
              "      <button class=\"colab-df-convert\" onclick=\"convertToInteractive('df-61ba2036-e4b6-4e29-b5f5-d8cd87ea7fb5')\"\n",
              "              title=\"Convert this dataframe to an interactive table.\"\n",
              "              style=\"display:none;\">\n",
              "        \n",
              "  <svg xmlns=\"http://www.w3.org/2000/svg\" height=\"24px\"viewBox=\"0 0 24 24\"\n",
              "       width=\"24px\">\n",
              "    <path d=\"M0 0h24v24H0V0z\" fill=\"none\"/>\n",
              "    <path d=\"M18.56 5.44l.94 2.06.94-2.06 2.06-.94-2.06-.94-.94-2.06-.94 2.06-2.06.94zm-11 1L8.5 8.5l.94-2.06 2.06-.94-2.06-.94L8.5 2.5l-.94 2.06-2.06.94zm10 10l.94 2.06.94-2.06 2.06-.94-2.06-.94-.94-2.06-.94 2.06-2.06.94z\"/><path d=\"M17.41 7.96l-1.37-1.37c-.4-.4-.92-.59-1.43-.59-.52 0-1.04.2-1.43.59L10.3 9.45l-7.72 7.72c-.78.78-.78 2.05 0 2.83L4 21.41c.39.39.9.59 1.41.59.51 0 1.02-.2 1.41-.59l7.78-7.78 2.81-2.81c.8-.78.8-2.07 0-2.86zM5.41 20L4 18.59l7.72-7.72 1.47 1.35L5.41 20z\"/>\n",
              "  </svg>\n",
              "      </button>\n",
              "      \n",
              "  <style>\n",
              "    .colab-df-container {\n",
              "      display:flex;\n",
              "      flex-wrap:wrap;\n",
              "      gap: 12px;\n",
              "    }\n",
              "\n",
              "    .colab-df-convert {\n",
              "      background-color: #E8F0FE;\n",
              "      border: none;\n",
              "      border-radius: 50%;\n",
              "      cursor: pointer;\n",
              "      display: none;\n",
              "      fill: #1967D2;\n",
              "      height: 32px;\n",
              "      padding: 0 0 0 0;\n",
              "      width: 32px;\n",
              "    }\n",
              "\n",
              "    .colab-df-convert:hover {\n",
              "      background-color: #E2EBFA;\n",
              "      box-shadow: 0px 1px 2px rgba(60, 64, 67, 0.3), 0px 1px 3px 1px rgba(60, 64, 67, 0.15);\n",
              "      fill: #174EA6;\n",
              "    }\n",
              "\n",
              "    [theme=dark] .colab-df-convert {\n",
              "      background-color: #3B4455;\n",
              "      fill: #D2E3FC;\n",
              "    }\n",
              "\n",
              "    [theme=dark] .colab-df-convert:hover {\n",
              "      background-color: #434B5C;\n",
              "      box-shadow: 0px 1px 3px 1px rgba(0, 0, 0, 0.15);\n",
              "      filter: drop-shadow(0px 1px 2px rgba(0, 0, 0, 0.3));\n",
              "      fill: #FFFFFF;\n",
              "    }\n",
              "  </style>\n",
              "\n",
              "      <script>\n",
              "        const buttonEl =\n",
              "          document.querySelector('#df-61ba2036-e4b6-4e29-b5f5-d8cd87ea7fb5 button.colab-df-convert');\n",
              "        buttonEl.style.display =\n",
              "          google.colab.kernel.accessAllowed ? 'block' : 'none';\n",
              "\n",
              "        async function convertToInteractive(key) {\n",
              "          const element = document.querySelector('#df-61ba2036-e4b6-4e29-b5f5-d8cd87ea7fb5');\n",
              "          const dataTable =\n",
              "            await google.colab.kernel.invokeFunction('convertToInteractive',\n",
              "                                                     [key], {});\n",
              "          if (!dataTable) return;\n",
              "\n",
              "          const docLinkHtml = 'Like what you see? Visit the ' +\n",
              "            '<a target=\"_blank\" href=https://colab.research.google.com/notebooks/data_table.ipynb>data table notebook</a>'\n",
              "            + ' to learn more about interactive tables.';\n",
              "          element.innerHTML = '';\n",
              "          dataTable['output_type'] = 'display_data';\n",
              "          await google.colab.output.renderOutput(dataTable, element);\n",
              "          const docLink = document.createElement('div');\n",
              "          docLink.innerHTML = docLinkHtml;\n",
              "          element.appendChild(docLink);\n",
              "        }\n",
              "      </script>\n",
              "    </div>\n",
              "  </div>\n",
              "  "
            ]
          },
          "metadata": {},
          "execution_count": 121
        }
      ]
    },
    {
      "cell_type": "code",
      "source": [
        "chara_map = {(7, 1): 'A', (7, 2): 'B', (7, 3): 'C', (7, 4): 'D', (7, 5): 'E', (7, 6): 'F',\n",
        " (8, 1): 'G', (8, 2): 'H', (8, 3): 'I', (8, 4): 'J', (8, 5): 'K', (8, 6): 'L', \n",
        " (9, 1): 'M', (9, 2): 'N', (9, 3): 'O', (9, 4): 'P', (9, 5): 'Q', (9, 6): 'R',\n",
        " (10, 1): 'S',(10, 2): 'T', (10, 3): 'U', (10, 4): 'V', (10, 5): 'W', (10, 6): 'X',\n",
        " (11, 1): 'Y', (11, 2): 'Z', (11, 3): '1', (11, 4): '2', (11, 5): '3', (11, 6): '4',\n",
        " (12, 1): '5',(12, 2): '6', (12, 3): '7', (12, 4): '8', (12, 5): '9', (12, 6): '_'}\n",
        "\n",
        "for spelling_epoch in range(1, 16):\n",
        "    # print(testing_label[testing_label['epoch'] <= spelling_epoch].sort_values(['row/column', 'true_character_index']))\n",
        "    filtered_testing_label = testing_labels[testing_labels['epoch'] <= spelling_epoch].groupby(['row/column', 'true_character', 'true_character_index'], as_index = False).sum()[['row/column','true_character', 'true_character_index', 'P300_prob']]\n",
        "    # print(filtered_testing_label.sort_values(['row/column', 'true_character_index']))\n",
        "\n",
        "    row_argmax = filtered_testing_label[filtered_testing_label['row/column'] > 6]\n",
        "    # print(row_argmax[row_argmax['true_character'] == 'W'].sort_values(['true_character_index']))\n",
        "    row_argmax = row_argmax.sort_values('P300_prob', ascending=False).drop_duplicates(['true_character', 'true_character_index'])\n",
        "    # print(row_argmax.sort_values(['true_character_index']))\n",
        "    row_argmax = row_argmax.rename(columns = {'row/column' : 'max_row_index'})\n",
        "\n",
        "    # print(row_argmax.sort_values(['true_character_index']))\n",
        "\n",
        "    col_argmax = filtered_testing_label[filtered_testing_label['row/column'] <= 6]\n",
        "    col_argmax = col_argmax.sort_values('P300_prob', ascending=False).drop_duplicates(['true_character', 'true_character_index'])\n",
        "    col_argmax = col_argmax.rename(columns = {'row/column' : 'max_col_index'})\n",
        "\n",
        "    # print(col_argmax.sort_values(['true_character_index']))\n",
        "\n",
        "    # print(pd.merge(row_argmax, col_argmax, on = ['true_character','true_character_index']))\n",
        "    chara_df = pd.merge(row_argmax, col_argmax, on = ['true_character','true_character_index'])[['max_row_index', 'max_col_index', 'true_character','true_character_index']]\n",
        "    # print(chara_df)\n",
        "    chara_df['predicted_character'] = chara_df.apply(lambda x: chara_map[(x['max_row_index'], x['max_col_index'])], axis = 1)\n",
        "    chara_df['check_character'] = chara_df.apply(lambda x: x['true_character'] == x['predicted_character'], axis = 1)\n",
        "    # print(chara_df.sort_values(['true_character_index']))\n",
        "    spelling_accuracy = chara_df['check_character'].mean()\n",
        "    print('Character spelling accuracy with {0} epoches: {1}'.format(spelling_epoch, spelling_accuracy))"
      ],
      "metadata": {
        "colab": {
          "base_uri": "https://localhost:8080/"
        },
        "id": "YYifEVCdgt6M",
        "outputId": "a240a06b-5c4b-4e69-fa4c-dae762a6628f"
      },
      "execution_count": null,
      "outputs": [
        {
          "output_type": "stream",
          "name": "stdout",
          "text": [
            "Character spelling accuracy with 1 epoches: 0.8387096774193549\n",
            "Character spelling accuracy with 2 epoches: 0.8387096774193549\n",
            "Character spelling accuracy with 3 epoches: 0.9032258064516129\n",
            "Character spelling accuracy with 4 epoches: 0.9354838709677419\n",
            "Character spelling accuracy with 5 epoches: 0.9354838709677419\n",
            "Character spelling accuracy with 6 epoches: 0.967741935483871\n",
            "Character spelling accuracy with 7 epoches: 0.967741935483871\n",
            "Character spelling accuracy with 8 epoches: 1.0\n",
            "Character spelling accuracy with 9 epoches: 1.0\n",
            "Character spelling accuracy with 10 epoches: 1.0\n",
            "Character spelling accuracy with 11 epoches: 1.0\n",
            "Character spelling accuracy with 12 epoches: 1.0\n",
            "Character spelling accuracy with 13 epoches: 1.0\n",
            "Character spelling accuracy with 14 epoches: 1.0\n",
            "Character spelling accuracy with 15 epoches: 1.0\n"
          ]
        }
      ]
    },
    {
      "cell_type": "markdown",
      "source": [
        "# OCLNN Model with 8 channels"
      ],
      "metadata": {
        "id": "LfecsStfEnmY"
      }
    },
    {
      "cell_type": "markdown",
      "source": [
        "![image.png](data:image/png;base64,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)"
      ],
      "metadata": {
        "id": "ktM7dFlXEtKu"
      }
    },
    {
      "cell_type": "markdown",
      "source": [
        "##Load Data"
      ],
      "metadata": {
        "id": "f8BpnKIq3HBl"
      }
    },
    {
      "cell_type": "code",
      "source": [
        "import pandas as pd\n",
        "training_data = np.load(\"/content/drive/MyDrive/Thesis Project/Example_P300/Processed Data/BCI_IIb_training_data.npy\")\n",
        "training_labels = np.load(\"/content/drive/MyDrive/Thesis Project/Example_P300/Processed Data/BCI_IIb_training_label.npy\")\n",
        "testing_data = np.load(\"/content/drive/MyDrive/Thesis Project/Example_P300/Processed Data/BCI_IIb_testing_data.npy\")\n",
        "testing_labels = pd.DataFrame(np.load(\"/content/drive/MyDrive/Thesis Project/Example_P300/Processed Data/BCI_IIb_testing_label.npy\", allow_pickle=True), \n",
        "                              columns=['epoch','row/column', 'true_character', 'true_character_index', 'P300_prob'])\n",
        "\n",
        "subject = 0\n",
        "print(\"Training data size: {0}\".format(training_data.shape))\n",
        "print(\"Testing data size: {0}\".format(testing_data.shape))"
      ],
      "metadata": {
        "colab": {
          "base_uri": "https://localhost:8080/"
        },
        "outputId": "4111bdc8-2fcc-4297-901f-15243f81d1c3",
        "id": "LXWLN7fxTgdD"
      },
      "execution_count": null,
      "outputs": [
        {
          "output_type": "stream",
          "name": "stdout",
          "text": [
            "Training data size: (1, 7560, 240, 64)\n",
            "Testing data size: (5580, 240, 64)\n"
          ]
        }
      ]
    },
    {
      "cell_type": "code",
      "source": [
        "training_data.shape"
      ],
      "metadata": {
        "colab": {
          "base_uri": "https://localhost:8080/"
        },
        "id": "hqx4HqRIStei",
        "outputId": "b4cba072-d32d-464a-d464-455d69b3c422"
      },
      "execution_count": null,
      "outputs": [
        {
          "output_type": "execute_result",
          "data": {
            "text/plain": [
              "(1, 7560, 240, 64)"
            ]
          },
          "metadata": {},
          "execution_count": 169
        }
      ]
    },
    {
      "cell_type": "code",
      "source": [
        "testing_data.shape"
      ],
      "metadata": {
        "colab": {
          "base_uri": "https://localhost:8080/"
        },
        "id": "8yZgftQGUJ7x",
        "outputId": "82ea00d0-bf85-4e94-9af1-abb717b09709"
      },
      "execution_count": null,
      "outputs": [
        {
          "output_type": "execute_result",
          "data": {
            "text/plain": [
              "(5580, 240, 64)"
            ]
          },
          "metadata": {},
          "execution_count": 170
        }
      ]
    },
    {
      "cell_type": "markdown",
      "source": [
        "##Channel Subset Selection"
      ],
      "metadata": {
        "id": "4wFze4DD3Bfc"
      }
    },
    {
      "cell_type": "code",
      "source": [
        "selected_channel = ['Fz', 'Cz', 'P3', 'Pz', 'P4', 'PO7', 'PO8', 'Oz']\n",
        "\n",
        "all_channels = [ 'FC5', 'FC3', 'FC1', 'FCz', 'FC2', 'FC4', 'FC6', 'C5',\n",
        "                'C3',  'C1',  'Cz',  'C2',  'C4',  'C6',  'CP5', 'CP3',\n",
        "                'CP1', 'CPz', 'CP2', 'CP4', 'CP6', 'Fp1', 'Fpz', 'Fp2',\n",
        "                'AF7', 'AF3', 'AFz', 'AF4', 'AF8', 'F7',  'F5',  'F3',\n",
        "                'F1',  'Fz',  'F2',  'F4',  'F6',  'F8',  'FT7', 'FT8',\n",
        "                'T7',  'T8',  'T9',  'T10', 'TP7', 'TP8', 'P7',  'P5',\n",
        "                'P3',  'P1',  'Pz',  'P2',  'P4',  'P6',  'P8',  'PO7',\n",
        "                'PO3', 'POz', 'PO4', 'PO8', 'O1',  'Oz',  'O2',  'Iz' ] \n",
        "\n",
        "def Channel_Filter(all_channels, selected_channel, data):\n",
        "\n",
        "  channel_index = [all_channels.index(channel) for channel in selected_channel]\n",
        "  new_data = data[:, :, channel_index]\n",
        "\n",
        "  # shape = (240, num_selected_channel)\n",
        "  return new_data\n",
        "\n",
        "Channel_Filter(all_channels, selected_channel, training_data[0]).shape\n",
        "channel_8_training_data = np.expand_dims(Channel_Filter(all_channels, selected_channel, training_data[0]), axis=0)\n",
        "channel_8_testing_data = Channel_Filter(all_channels, selected_channel, testing_data)"
      ],
      "metadata": {
        "id": "gdvJnarjEmr1"
      },
      "execution_count": null,
      "outputs": []
    },
    {
      "cell_type": "code",
      "source": [
        "channel_8_training_data.shape"
      ],
      "metadata": {
        "colab": {
          "base_uri": "https://localhost:8080/"
        },
        "id": "ZNqFvAo1Uyxx",
        "outputId": "f42526b4-6f4d-44d7-bcc2-7d7b1dcc1ad2"
      },
      "execution_count": null,
      "outputs": [
        {
          "output_type": "execute_result",
          "data": {
            "text/plain": [
              "(1, 7560, 240, 8)"
            ]
          },
          "metadata": {},
          "execution_count": 172
        }
      ]
    },
    {
      "cell_type": "code",
      "source": [
        "channel_8_testing_data.shape"
      ],
      "metadata": {
        "colab": {
          "base_uri": "https://localhost:8080/"
        },
        "id": "RXIqBPFUU1j5",
        "outputId": "10c19607-ca38-4a2d-8b15-31aae5b5fd47"
      },
      "execution_count": null,
      "outputs": [
        {
          "output_type": "execute_result",
          "data": {
            "text/plain": [
              "(5580, 240, 8)"
            ]
          },
          "metadata": {},
          "execution_count": 173
        }
      ]
    },
    {
      "cell_type": "code",
      "source": [
        "from sklearn.model_selection import train_test_split\n",
        "# X_train, X_test, y_train, y_test = train_test_split(data[subject], labels[subject], test_size = 0.2, shuffle = True)\n",
        "X_train, X_valid, y_train, y_valid = train_test_split(channel_8_training_data[subject], training_labels[subject], test_size = 0.2, shuffle = True)"
      ],
      "metadata": {
        "id": "Mvqae-vSRrqk"
      },
      "execution_count": null,
      "outputs": []
    },
    {
      "cell_type": "code",
      "source": [
        "print(X_train.shape)\n",
        "print(y_train.shape)\n",
        "# print(X_test.shape)\n",
        "# print(y_test.shape)"
      ],
      "metadata": {
        "colab": {
          "base_uri": "https://localhost:8080/"
        },
        "id": "gvdgpLoQRrql",
        "outputId": "3d065430-345b-46a8-e253-8cc5b38b8c0e"
      },
      "execution_count": null,
      "outputs": [
        {
          "output_type": "stream",
          "name": "stdout",
          "text": [
            "(6048, 240, 8)\n",
            "(6048,)\n"
          ]
        }
      ]
    },
    {
      "cell_type": "markdown",
      "source": [
        "## Model Architecture"
      ],
      "metadata": {
        "id": "ydhEUGsx3MKD"
      }
    },
    {
      "cell_type": "code",
      "source": [
        "K.clear_session()\n",
        "model = models.Sequential()\n",
        "model.add(layers.Input(shape = (240, 8)))\n",
        "# model.add(layers.ZeroPadding1D(padding = 2))\n",
        "model.add(layers.Conv1D(16, 16, strides = 16,\n",
        "                          padding = 'valid',\n",
        "                          data_format = 'channels_last',\n",
        "                          kernel_initializer = 'glorot_uniform',\n",
        "                          bias_initializer = 'zeros',\n",
        "                          kernel_regularizer = 'l2',\n",
        "                          bias_regularizer = 'l2',\n",
        "                          use_bias = True))\n",
        "# model.add(layers.Conv1D(16, kernel_size = (16,),strides = 16, activation='relu', input_shape=(240, 64)))\n",
        "model.add(layers.Dropout(0.25))\n",
        "model.add(layers.Flatten())\n",
        "model.add(layers.Dense(2, activation='softmax', kernel_regularizer= \"l2\", bias_regularizer= \"l2\"))\n",
        "# model.add(layers.Dense(2, activation='softmax'))\n",
        "model.add(layers.Flatten())"
      ],
      "metadata": {
        "id": "-DxBaIf3TJ-L"
      },
      "execution_count": null,
      "outputs": []
    },
    {
      "cell_type": "code",
      "source": [
        "model.summary()"
      ],
      "metadata": {
        "colab": {
          "base_uri": "https://localhost:8080/"
        },
        "outputId": "4183ba34-19ea-4254-eada-c5f993249a57",
        "id": "VKKLZ_7wTJ-Q"
      },
      "execution_count": null,
      "outputs": [
        {
          "output_type": "stream",
          "name": "stdout",
          "text": [
            "Model: \"sequential\"\n",
            "_________________________________________________________________\n",
            " Layer (type)                Output Shape              Param #   \n",
            "=================================================================\n",
            " conv1d (Conv1D)             (None, 15, 16)            2064      \n",
            "                                                                 \n",
            " dropout (Dropout)           (None, 15, 16)            0         \n",
            "                                                                 \n",
            " flatten (Flatten)           (None, 240)               0         \n",
            "                                                                 \n",
            " dense (Dense)               (None, 2)                 482       \n",
            "                                                                 \n",
            " flatten_1 (Flatten)         (None, 2)                 0         \n",
            "                                                                 \n",
            "=================================================================\n",
            "Total params: 2,546\n",
            "Trainable params: 2,546\n",
            "Non-trainable params: 0\n",
            "_________________________________________________________________\n"
          ]
        }
      ]
    },
    {
      "cell_type": "markdown",
      "source": [
        "## Run Model"
      ],
      "metadata": {
        "id": "tdZw9Nu73QBx"
      }
    },
    {
      "cell_type": "code",
      "source": [
        "model.compile(optimizer = 'adam', loss = 'categorical_crossentropy', metrics=['accuracy'])\n",
        "\n",
        "# class_weight = {0: 5, 1: 1}\n",
        "es = EarlyStopping(monitor = 'val_loss', mode = 'min', patience = 50, restore_best_weights = True)\n",
        "history = model.fit(X_train, to_categorical(y_train),batch_size = 256,epochs = 200,validation_data = (X_valid, to_categorical(y_valid)),callbacks = [es])\n",
        "# history = model.fit(X_train, y_train, epochs= 150, batch_size = 128, validation_data= [X_test, y_test])"
      ],
      "metadata": {
        "colab": {
          "base_uri": "https://localhost:8080/"
        },
        "outputId": "7d1ee3f8-5652-4e64-a451-dd4852301d99",
        "id": "yNNXe8aeRrql"
      },
      "execution_count": null,
      "outputs": [
        {
          "output_type": "stream",
          "name": "stdout",
          "text": [
            "Epoch 1/200\n",
            "24/24 [==============================] - 1s 19ms/step - loss: 0.8561 - accuracy: 0.6128 - val_loss: 0.6498 - val_accuracy: 0.7540\n",
            "Epoch 2/200\n",
            "24/24 [==============================] - 0s 10ms/step - loss: 0.6552 - accuracy: 0.7434 - val_loss: 0.5646 - val_accuracy: 0.8042\n",
            "Epoch 3/200\n",
            "24/24 [==============================] - 0s 12ms/step - loss: 0.5597 - accuracy: 0.8062 - val_loss: 0.5060 - val_accuracy: 0.8353\n",
            "Epoch 4/200\n",
            "24/24 [==============================] - 0s 10ms/step - loss: 0.5026 - accuracy: 0.8381 - val_loss: 0.4621 - val_accuracy: 0.8585\n",
            "Epoch 5/200\n",
            "24/24 [==============================] - 0s 10ms/step - loss: 0.4666 - accuracy: 0.8560 - val_loss: 0.4311 - val_accuracy: 0.8743\n",
            "Epoch 6/200\n",
            "24/24 [==============================] - 0s 9ms/step - loss: 0.4345 - accuracy: 0.8697 - val_loss: 0.4072 - val_accuracy: 0.8770\n",
            "Epoch 7/200\n",
            "24/24 [==============================] - 0s 9ms/step - loss: 0.4183 - accuracy: 0.8733 - val_loss: 0.3922 - val_accuracy: 0.8796\n",
            "Epoch 8/200\n",
            "24/24 [==============================] - 0s 10ms/step - loss: 0.4039 - accuracy: 0.8724 - val_loss: 0.3784 - val_accuracy: 0.8849\n",
            "Epoch 9/200\n",
            "24/24 [==============================] - 0s 11ms/step - loss: 0.3926 - accuracy: 0.8801 - val_loss: 0.3708 - val_accuracy: 0.8876\n",
            "Epoch 10/200\n",
            "24/24 [==============================] - 0s 15ms/step - loss: 0.3804 - accuracy: 0.8853 - val_loss: 0.3607 - val_accuracy: 0.8862\n",
            "Epoch 11/200\n",
            "24/24 [==============================] - 0s 13ms/step - loss: 0.3738 - accuracy: 0.8869 - val_loss: 0.3539 - val_accuracy: 0.8922\n",
            "Epoch 12/200\n",
            "24/24 [==============================] - 0s 13ms/step - loss: 0.3624 - accuracy: 0.8866 - val_loss: 0.3466 - val_accuracy: 0.8929\n",
            "Epoch 13/200\n",
            "24/24 [==============================] - 0s 13ms/step - loss: 0.3576 - accuracy: 0.8891 - val_loss: 0.3456 - val_accuracy: 0.8948\n",
            "Epoch 14/200\n",
            "24/24 [==============================] - 0s 15ms/step - loss: 0.3559 - accuracy: 0.8889 - val_loss: 0.3368 - val_accuracy: 0.8948\n",
            "Epoch 15/200\n",
            "24/24 [==============================] - 0s 16ms/step - loss: 0.3454 - accuracy: 0.8887 - val_loss: 0.3336 - val_accuracy: 0.8968\n",
            "Epoch 16/200\n",
            "24/24 [==============================] - 0s 13ms/step - loss: 0.3411 - accuracy: 0.8938 - val_loss: 0.3306 - val_accuracy: 0.8935\n",
            "Epoch 17/200\n",
            "24/24 [==============================] - 0s 13ms/step - loss: 0.3366 - accuracy: 0.8947 - val_loss: 0.3258 - val_accuracy: 0.8968\n",
            "Epoch 18/200\n",
            "24/24 [==============================] - 0s 15ms/step - loss: 0.3362 - accuracy: 0.8904 - val_loss: 0.3235 - val_accuracy: 0.8962\n",
            "Epoch 19/200\n",
            "24/24 [==============================] - 0s 13ms/step - loss: 0.3322 - accuracy: 0.8897 - val_loss: 0.3216 - val_accuracy: 0.9021\n",
            "Epoch 20/200\n",
            "24/24 [==============================] - 0s 15ms/step - loss: 0.3277 - accuracy: 0.8935 - val_loss: 0.3180 - val_accuracy: 0.9001\n",
            "Epoch 21/200\n",
            "24/24 [==============================] - 0s 16ms/step - loss: 0.3302 - accuracy: 0.8914 - val_loss: 0.3187 - val_accuracy: 0.8962\n",
            "Epoch 22/200\n",
            "24/24 [==============================] - 0s 15ms/step - loss: 0.3266 - accuracy: 0.8930 - val_loss: 0.3142 - val_accuracy: 0.9015\n",
            "Epoch 23/200\n",
            "24/24 [==============================] - 0s 12ms/step - loss: 0.3242 - accuracy: 0.8896 - val_loss: 0.3150 - val_accuracy: 0.8942\n",
            "Epoch 24/200\n",
            "24/24 [==============================] - 0s 9ms/step - loss: 0.3223 - accuracy: 0.8897 - val_loss: 0.3136 - val_accuracy: 0.8955\n",
            "Epoch 25/200\n",
            "24/24 [==============================] - 0s 9ms/step - loss: 0.3170 - accuracy: 0.8960 - val_loss: 0.3092 - val_accuracy: 0.9008\n",
            "Epoch 26/200\n",
            "24/24 [==============================] - 0s 9ms/step - loss: 0.3199 - accuracy: 0.8914 - val_loss: 0.3103 - val_accuracy: 0.8929\n",
            "Epoch 27/200\n",
            "24/24 [==============================] - 0s 10ms/step - loss: 0.3169 - accuracy: 0.8905 - val_loss: 0.3091 - val_accuracy: 0.8995\n",
            "Epoch 28/200\n",
            "24/24 [==============================] - 0s 10ms/step - loss: 0.3167 - accuracy: 0.8915 - val_loss: 0.3095 - val_accuracy: 0.8962\n",
            "Epoch 29/200\n",
            "24/24 [==============================] - 0s 10ms/step - loss: 0.3125 - accuracy: 0.8962 - val_loss: 0.3043 - val_accuracy: 0.9028\n",
            "Epoch 30/200\n",
            "24/24 [==============================] - 0s 10ms/step - loss: 0.3133 - accuracy: 0.8920 - val_loss: 0.3073 - val_accuracy: 0.8948\n",
            "Epoch 31/200\n",
            "24/24 [==============================] - 0s 10ms/step - loss: 0.3125 - accuracy: 0.8965 - val_loss: 0.3014 - val_accuracy: 0.9008\n",
            "Epoch 32/200\n",
            "24/24 [==============================] - 0s 9ms/step - loss: 0.3118 - accuracy: 0.8927 - val_loss: 0.2998 - val_accuracy: 0.8948\n",
            "Epoch 33/200\n",
            "24/24 [==============================] - 0s 9ms/step - loss: 0.3116 - accuracy: 0.8977 - val_loss: 0.2998 - val_accuracy: 0.8962\n",
            "Epoch 34/200\n",
            "24/24 [==============================] - 0s 11ms/step - loss: 0.3101 - accuracy: 0.8929 - val_loss: 0.3009 - val_accuracy: 0.8988\n",
            "Epoch 35/200\n",
            "24/24 [==============================] - 0s 10ms/step - loss: 0.3070 - accuracy: 0.8937 - val_loss: 0.2991 - val_accuracy: 0.8981\n",
            "Epoch 36/200\n",
            "24/24 [==============================] - 0s 10ms/step - loss: 0.3045 - accuracy: 0.8937 - val_loss: 0.2992 - val_accuracy: 0.9015\n",
            "Epoch 37/200\n",
            "24/24 [==============================] - 0s 10ms/step - loss: 0.3049 - accuracy: 0.8927 - val_loss: 0.2984 - val_accuracy: 0.8948\n",
            "Epoch 38/200\n",
            "24/24 [==============================] - 0s 10ms/step - loss: 0.3023 - accuracy: 0.8950 - val_loss: 0.2997 - val_accuracy: 0.8948\n",
            "Epoch 39/200\n",
            "24/24 [==============================] - 0s 10ms/step - loss: 0.3075 - accuracy: 0.8909 - val_loss: 0.2970 - val_accuracy: 0.8988\n",
            "Epoch 40/200\n",
            "24/24 [==============================] - 0s 10ms/step - loss: 0.3089 - accuracy: 0.8942 - val_loss: 0.2995 - val_accuracy: 0.9001\n",
            "Epoch 41/200\n",
            "24/24 [==============================] - 0s 9ms/step - loss: 0.3037 - accuracy: 0.8943 - val_loss: 0.2964 - val_accuracy: 0.8981\n",
            "Epoch 42/200\n",
            "24/24 [==============================] - 0s 10ms/step - loss: 0.3034 - accuracy: 0.8960 - val_loss: 0.2970 - val_accuracy: 0.8988\n",
            "Epoch 43/200\n",
            "24/24 [==============================] - 0s 9ms/step - loss: 0.3039 - accuracy: 0.8914 - val_loss: 0.2976 - val_accuracy: 0.8995\n",
            "Epoch 44/200\n",
            "24/24 [==============================] - 0s 10ms/step - loss: 0.3030 - accuracy: 0.8935 - val_loss: 0.2981 - val_accuracy: 0.9021\n",
            "Epoch 45/200\n",
            "24/24 [==============================] - 0s 10ms/step - loss: 0.3076 - accuracy: 0.8937 - val_loss: 0.2967 - val_accuracy: 0.9015\n",
            "Epoch 46/200\n",
            "24/24 [==============================] - 0s 10ms/step - loss: 0.3021 - accuracy: 0.8953 - val_loss: 0.2962 - val_accuracy: 0.9008\n",
            "Epoch 47/200\n",
            "24/24 [==============================] - 0s 9ms/step - loss: 0.3046 - accuracy: 0.8945 - val_loss: 0.2997 - val_accuracy: 0.8975\n",
            "Epoch 48/200\n",
            "24/24 [==============================] - 0s 11ms/step - loss: 0.3042 - accuracy: 0.8952 - val_loss: 0.2970 - val_accuracy: 0.8975\n",
            "Epoch 49/200\n",
            "24/24 [==============================] - 0s 10ms/step - loss: 0.3036 - accuracy: 0.8972 - val_loss: 0.2963 - val_accuracy: 0.8968\n",
            "Epoch 50/200\n",
            "24/24 [==============================] - 0s 9ms/step - loss: 0.2998 - accuracy: 0.8962 - val_loss: 0.2962 - val_accuracy: 0.8981\n",
            "Epoch 51/200\n",
            "24/24 [==============================] - 0s 10ms/step - loss: 0.3008 - accuracy: 0.8958 - val_loss: 0.2983 - val_accuracy: 0.9008\n",
            "Epoch 52/200\n",
            "24/24 [==============================] - 0s 10ms/step - loss: 0.3020 - accuracy: 0.8980 - val_loss: 0.2980 - val_accuracy: 0.8995\n",
            "Epoch 53/200\n",
            "24/24 [==============================] - 0s 9ms/step - loss: 0.3048 - accuracy: 0.8942 - val_loss: 0.2970 - val_accuracy: 0.9021\n",
            "Epoch 54/200\n",
            "24/24 [==============================] - 0s 9ms/step - loss: 0.3015 - accuracy: 0.8955 - val_loss: 0.2948 - val_accuracy: 0.8981\n",
            "Epoch 55/200\n",
            "24/24 [==============================] - 0s 10ms/step - loss: 0.3038 - accuracy: 0.8957 - val_loss: 0.2966 - val_accuracy: 0.9001\n",
            "Epoch 56/200\n",
            "24/24 [==============================] - 0s 9ms/step - loss: 0.3020 - accuracy: 0.8981 - val_loss: 0.2980 - val_accuracy: 0.9001\n",
            "Epoch 57/200\n",
            "24/24 [==============================] - 0s 10ms/step - loss: 0.3025 - accuracy: 0.8922 - val_loss: 0.2944 - val_accuracy: 0.8981\n",
            "Epoch 58/200\n",
            "24/24 [==============================] - 0s 10ms/step - loss: 0.3032 - accuracy: 0.8952 - val_loss: 0.2936 - val_accuracy: 0.9015\n",
            "Epoch 59/200\n",
            "24/24 [==============================] - 0s 10ms/step - loss: 0.3008 - accuracy: 0.8942 - val_loss: 0.2956 - val_accuracy: 0.8981\n",
            "Epoch 60/200\n",
            "24/24 [==============================] - 0s 9ms/step - loss: 0.3026 - accuracy: 0.8937 - val_loss: 0.2963 - val_accuracy: 0.8975\n",
            "Epoch 61/200\n",
            "24/24 [==============================] - 0s 9ms/step - loss: 0.3024 - accuracy: 0.8955 - val_loss: 0.2945 - val_accuracy: 0.8988\n",
            "Epoch 62/200\n",
            "24/24 [==============================] - 0s 9ms/step - loss: 0.3043 - accuracy: 0.8935 - val_loss: 0.2945 - val_accuracy: 0.8981\n",
            "Epoch 63/200\n",
            "24/24 [==============================] - 0s 9ms/step - loss: 0.3011 - accuracy: 0.8953 - val_loss: 0.2946 - val_accuracy: 0.8935\n",
            "Epoch 64/200\n",
            "24/24 [==============================] - 0s 11ms/step - loss: 0.3005 - accuracy: 0.8952 - val_loss: 0.2958 - val_accuracy: 0.8988\n",
            "Epoch 65/200\n",
            "24/24 [==============================] - 0s 14ms/step - loss: 0.2998 - accuracy: 0.8950 - val_loss: 0.2944 - val_accuracy: 0.8962\n",
            "Epoch 66/200\n",
            "24/24 [==============================] - 0s 15ms/step - loss: 0.3024 - accuracy: 0.8950 - val_loss: 0.2939 - val_accuracy: 0.8962\n",
            "Epoch 67/200\n",
            "24/24 [==============================] - 0s 16ms/step - loss: 0.3007 - accuracy: 0.8973 - val_loss: 0.2957 - val_accuracy: 0.8995\n",
            "Epoch 68/200\n",
            "24/24 [==============================] - 0s 15ms/step - loss: 0.3032 - accuracy: 0.8937 - val_loss: 0.2997 - val_accuracy: 0.8988\n",
            "Epoch 69/200\n",
            "24/24 [==============================] - 0s 14ms/step - loss: 0.3042 - accuracy: 0.8947 - val_loss: 0.2972 - val_accuracy: 0.8955\n",
            "Epoch 70/200\n",
            "24/24 [==============================] - 0s 15ms/step - loss: 0.3018 - accuracy: 0.8942 - val_loss: 0.2949 - val_accuracy: 0.8988\n",
            "Epoch 71/200\n",
            "24/24 [==============================] - 0s 14ms/step - loss: 0.3034 - accuracy: 0.8927 - val_loss: 0.2958 - val_accuracy: 0.8995\n",
            "Epoch 72/200\n",
            "24/24 [==============================] - 0s 15ms/step - loss: 0.2990 - accuracy: 0.8947 - val_loss: 0.2951 - val_accuracy: 0.9001\n",
            "Epoch 73/200\n",
            "24/24 [==============================] - 0s 16ms/step - loss: 0.3016 - accuracy: 0.8947 - val_loss: 0.2942 - val_accuracy: 0.8981\n",
            "Epoch 74/200\n",
            "24/24 [==============================] - 0s 15ms/step - loss: 0.2998 - accuracy: 0.8977 - val_loss: 0.2943 - val_accuracy: 0.8968\n",
            "Epoch 75/200\n",
            "24/24 [==============================] - 0s 16ms/step - loss: 0.3013 - accuracy: 0.8910 - val_loss: 0.2947 - val_accuracy: 0.8988\n",
            "Epoch 76/200\n",
            "24/24 [==============================] - 0s 17ms/step - loss: 0.3035 - accuracy: 0.8950 - val_loss: 0.2940 - val_accuracy: 0.9001\n",
            "Epoch 77/200\n",
            "24/24 [==============================] - 0s 13ms/step - loss: 0.3016 - accuracy: 0.8990 - val_loss: 0.2937 - val_accuracy: 0.9015\n",
            "Epoch 78/200\n",
            "24/24 [==============================] - 0s 12ms/step - loss: 0.3003 - accuracy: 0.8957 - val_loss: 0.2958 - val_accuracy: 0.8962\n",
            "Epoch 79/200\n",
            "24/24 [==============================] - 0s 10ms/step - loss: 0.3023 - accuracy: 0.8929 - val_loss: 0.2961 - val_accuracy: 0.8962\n",
            "Epoch 80/200\n",
            "24/24 [==============================] - 0s 10ms/step - loss: 0.2989 - accuracy: 0.8968 - val_loss: 0.2948 - val_accuracy: 0.8968\n",
            "Epoch 81/200\n",
            "24/24 [==============================] - 0s 10ms/step - loss: 0.3034 - accuracy: 0.8960 - val_loss: 0.2949 - val_accuracy: 0.9001\n",
            "Epoch 82/200\n",
            "24/24 [==============================] - 0s 9ms/step - loss: 0.3006 - accuracy: 0.8963 - val_loss: 0.2950 - val_accuracy: 0.9001\n",
            "Epoch 83/200\n",
            "24/24 [==============================] - 0s 10ms/step - loss: 0.3011 - accuracy: 0.8958 - val_loss: 0.2977 - val_accuracy: 0.8981\n",
            "Epoch 84/200\n",
            "24/24 [==============================] - 0s 9ms/step - loss: 0.3050 - accuracy: 0.8957 - val_loss: 0.2945 - val_accuracy: 0.8962\n",
            "Epoch 85/200\n",
            "24/24 [==============================] - 0s 10ms/step - loss: 0.3054 - accuracy: 0.8950 - val_loss: 0.2953 - val_accuracy: 0.8962\n",
            "Epoch 86/200\n",
            "24/24 [==============================] - 0s 9ms/step - loss: 0.3013 - accuracy: 0.8947 - val_loss: 0.2968 - val_accuracy: 0.9001\n",
            "Epoch 87/200\n",
            "24/24 [==============================] - 0s 11ms/step - loss: 0.3022 - accuracy: 0.8938 - val_loss: 0.2951 - val_accuracy: 0.8968\n",
            "Epoch 88/200\n",
            "24/24 [==============================] - 0s 9ms/step - loss: 0.3013 - accuracy: 0.8950 - val_loss: 0.2943 - val_accuracy: 0.9001\n",
            "Epoch 89/200\n",
            "24/24 [==============================] - 0s 10ms/step - loss: 0.2992 - accuracy: 0.8996 - val_loss: 0.2946 - val_accuracy: 0.8975\n",
            "Epoch 90/200\n",
            "24/24 [==============================] - 0s 9ms/step - loss: 0.3011 - accuracy: 0.8935 - val_loss: 0.2961 - val_accuracy: 0.9015\n",
            "Epoch 91/200\n",
            "24/24 [==============================] - 0s 10ms/step - loss: 0.2987 - accuracy: 0.8996 - val_loss: 0.2969 - val_accuracy: 0.9001\n",
            "Epoch 92/200\n",
            "24/24 [==============================] - 0s 10ms/step - loss: 0.3025 - accuracy: 0.8942 - val_loss: 0.2959 - val_accuracy: 0.8955\n",
            "Epoch 93/200\n",
            "24/24 [==============================] - 0s 10ms/step - loss: 0.3003 - accuracy: 0.8988 - val_loss: 0.2984 - val_accuracy: 0.8968\n",
            "Epoch 94/200\n",
            "24/24 [==============================] - 0s 10ms/step - loss: 0.3028 - accuracy: 0.8970 - val_loss: 0.3000 - val_accuracy: 0.9001\n",
            "Epoch 95/200\n",
            "24/24 [==============================] - 0s 10ms/step - loss: 0.3030 - accuracy: 0.8912 - val_loss: 0.2959 - val_accuracy: 0.8975\n",
            "Epoch 96/200\n",
            "24/24 [==============================] - 0s 9ms/step - loss: 0.3005 - accuracy: 0.8977 - val_loss: 0.2955 - val_accuracy: 0.8988\n",
            "Epoch 97/200\n",
            "24/24 [==============================] - 0s 10ms/step - loss: 0.2984 - accuracy: 0.8953 - val_loss: 0.2938 - val_accuracy: 0.8975\n",
            "Epoch 98/200\n",
            "24/24 [==============================] - 0s 10ms/step - loss: 0.3007 - accuracy: 0.8958 - val_loss: 0.2946 - val_accuracy: 0.9008\n",
            "Epoch 99/200\n",
            "24/24 [==============================] - 0s 11ms/step - loss: 0.3032 - accuracy: 0.8938 - val_loss: 0.2938 - val_accuracy: 0.8995\n",
            "Epoch 100/200\n",
            "24/24 [==============================] - 0s 9ms/step - loss: 0.3014 - accuracy: 0.8955 - val_loss: 0.2953 - val_accuracy: 0.8995\n",
            "Epoch 101/200\n",
            "24/24 [==============================] - 0s 10ms/step - loss: 0.3016 - accuracy: 0.8963 - val_loss: 0.2937 - val_accuracy: 0.9001\n",
            "Epoch 102/200\n",
            "24/24 [==============================] - 0s 10ms/step - loss: 0.3003 - accuracy: 0.8960 - val_loss: 0.2946 - val_accuracy: 0.8988\n",
            "Epoch 103/200\n",
            "24/24 [==============================] - 0s 10ms/step - loss: 0.3002 - accuracy: 0.8945 - val_loss: 0.2955 - val_accuracy: 0.9021\n",
            "Epoch 104/200\n",
            "24/24 [==============================] - 0s 10ms/step - loss: 0.2998 - accuracy: 0.8970 - val_loss: 0.2946 - val_accuracy: 0.8975\n",
            "Epoch 105/200\n",
            "24/24 [==============================] - 0s 10ms/step - loss: 0.3016 - accuracy: 0.8945 - val_loss: 0.2975 - val_accuracy: 0.9015\n",
            "Epoch 106/200\n",
            "24/24 [==============================] - 0s 9ms/step - loss: 0.3018 - accuracy: 0.8952 - val_loss: 0.2996 - val_accuracy: 0.9008\n",
            "Epoch 107/200\n",
            "24/24 [==============================] - 0s 10ms/step - loss: 0.3017 - accuracy: 0.8950 - val_loss: 0.3026 - val_accuracy: 0.8988\n",
            "Epoch 108/200\n",
            "24/24 [==============================] - 0s 11ms/step - loss: 0.3000 - accuracy: 0.8965 - val_loss: 0.2941 - val_accuracy: 0.8988\n"
          ]
        }
      ]
    },
    {
      "cell_type": "code",
      "source": [
        "plt.plot(history.history['accuracy'])\n",
        "plt.plot(history.history['val_accuracy'])\n",
        "plt.title('model accuracy')\n",
        "plt.ylabel('accuracy')\n",
        "plt.xlabel('epoch')\n",
        "plt.legend(['train', 'val'], loc='upper left')\n",
        "plt.show()\n",
        "\n",
        "plt.plot(history.history['loss'])\n",
        "plt.plot(history.history['val_loss'])\n",
        "plt.title('model loss')\n",
        "plt.ylabel('loss')\n",
        "plt.xlabel('epoch')\n",
        "plt.legend(['train', 'val'], loc='upper left')\n",
        "plt.show()"
      ],
      "metadata": {
        "colab": {
          "base_uri": "https://localhost:8080/",
          "height": 927
        },
        "outputId": "844e663f-bf75-4c74-f809-1d44c7661e1d",
        "id": "nlEHrymzTWRL"
      },
      "execution_count": null,
      "outputs": [
        {
          "output_type": "display_data",
          "data": {
            "text/plain": [
              "<Figure size 640x480 with 1 Axes>"
            ],
            "image/png": "[encoded data removed]"
          },
          "metadata": {}
        },
        {
          "output_type": "display_data",
          "data": {
            "text/plain": [
              "<Figure size 640x480 with 1 Axes>"
            ],
            "image/png": "[encoded data removed]"
          },
          "metadata": {}
        }
      ]
    },
    {
      "cell_type": "code",
      "source": [
        "channel_8_testing_data.shape"
      ],
      "metadata": {
        "colab": {
          "base_uri": "https://localhost:8080/"
        },
        "id": "LCHWCU_XT7fq",
        "outputId": "d9230a8d-1ef3-4932-b469-f9da238babbd"
      },
      "execution_count": null,
      "outputs": [
        {
          "output_type": "execute_result",
          "data": {
            "text/plain": [
              "(5580, 240, 8)"
            ]
          },
          "metadata": {},
          "execution_count": 180
        }
      ]
    },
    {
      "cell_type": "code",
      "source": [
        "testing_labels['P300_prob'] = model.predict(channel_8_testing_data)[:, 1]\n",
        "testing_labels"
      ],
      "metadata": {
        "colab": {
          "base_uri": "https://localhost:8080/",
          "height": 441
        },
        "outputId": "18a39161-a316-4bd6-8afc-aa5c35fc072b",
        "id": "47OykD9_TsUC"
      },
      "execution_count": null,
      "outputs": [
        {
          "output_type": "stream",
          "name": "stdout",
          "text": [
            "175/175 [==============================] - 1s 3ms/step\n"
          ]
        },
        {
          "output_type": "execute_result",
          "data": {
            "text/plain": [
              "     epoch row/column true_character true_character_index  P300_prob\n",
              "0        1          6              F                    0   0.460250\n",
              "1        1         12              F                    0   0.014568\n",
              "2        1          8              F                    0   0.290271\n",
              "3        1          3              F                    0   0.112063\n",
              "4        1          4              F                    0   0.034496\n",
              "...    ...        ...            ...                  ...        ...\n",
              "5575    15          7              7                   30   0.332552\n",
              "5576    15          8              7                   30   0.091438\n",
              "5577    15          4              7                   30   0.064321\n",
              "5578    15          9              7                   30   0.020245\n",
              "5579    15          2              7                   30   0.031942\n",
              "\n",
              "[5580 rows x 5 columns]"
            ],
            "text/html": [
              "\n",
              "  <div id=\"df-bc19618b-438f-4004-8318-e7d096e09e0f\">\n",
              "    <div class=\"colab-df-container\">\n",
              "      <div>\n",
              "<style scoped>\n",
              "    .dataframe tbody tr th:only-of-type {\n",
              "        vertical-align: middle;\n",
              "    }\n",
              "\n",
              "    .dataframe tbody tr th {\n",
              "        vertical-align: top;\n",
              "    }\n",
              "\n",
              "    .dataframe thead th {\n",
              "        text-align: right;\n",
              "    }\n",
              "</style>\n",
              "<table border=\"1\" class=\"dataframe\">\n",
              "  <thead>\n",
              "    <tr style=\"text-align: right;\">\n",
              "      <th></th>\n",
              "      <th>epoch</th>\n",
              "      <th>row/column</th>\n",
              "      <th>true_character</th>\n",
              "      <th>true_character_index</th>\n",
              "      <th>P300_prob</th>\n",
              "    </tr>\n",
              "  </thead>\n",
              "  <tbody>\n",
              "    <tr>\n",
              "      <th>0</th>\n",
              "      <td>1</td>\n",
              "      <td>6</td>\n",
              "      <td>F</td>\n",
              "      <td>0</td>\n",
              "      <td>0.460250</td>\n",
              "    </tr>\n",
              "    <tr>\n",
              "      <th>1</th>\n",
              "      <td>1</td>\n",
              "      <td>12</td>\n",
              "      <td>F</td>\n",
              "      <td>0</td>\n",
              "      <td>0.014568</td>\n",
              "    </tr>\n",
              "    <tr>\n",
              "      <th>2</th>\n",
              "      <td>1</td>\n",
              "      <td>8</td>\n",
              "      <td>F</td>\n",
              "      <td>0</td>\n",
              "      <td>0.290271</td>\n",
              "    </tr>\n",
              "    <tr>\n",
              "      <th>3</th>\n",
              "      <td>1</td>\n",
              "      <td>3</td>\n",
              "      <td>F</td>\n",
              "      <td>0</td>\n",
              "      <td>0.112063</td>\n",
              "    </tr>\n",
              "    <tr>\n",
              "      <th>4</th>\n",
              "      <td>1</td>\n",
              "      <td>4</td>\n",
              "      <td>F</td>\n",
              "      <td>0</td>\n",
              "      <td>0.034496</td>\n",
              "    </tr>\n",
              "    <tr>\n",
              "      <th>...</th>\n",
              "      <td>...</td>\n",
              "      <td>...</td>\n",
              "      <td>...</td>\n",
              "      <td>...</td>\n",
              "      <td>...</td>\n",
              "    </tr>\n",
              "    <tr>\n",
              "      <th>5575</th>\n",
              "      <td>15</td>\n",
              "      <td>7</td>\n",
              "      <td>7</td>\n",
              "      <td>30</td>\n",
              "      <td>0.332552</td>\n",
              "    </tr>\n",
              "    <tr>\n",
              "      <th>5576</th>\n",
              "      <td>15</td>\n",
              "      <td>8</td>\n",
              "      <td>7</td>\n",
              "      <td>30</td>\n",
              "      <td>0.091438</td>\n",
              "    </tr>\n",
              "    <tr>\n",
              "      <th>5577</th>\n",
              "      <td>15</td>\n",
              "      <td>4</td>\n",
              "      <td>7</td>\n",
              "      <td>30</td>\n",
              "      <td>0.064321</td>\n",
              "    </tr>\n",
              "    <tr>\n",
              "      <th>5578</th>\n",
              "      <td>15</td>\n",
              "      <td>9</td>\n",
              "      <td>7</td>\n",
              "      <td>30</td>\n",
              "      <td>0.020245</td>\n",
              "    </tr>\n",
              "    <tr>\n",
              "      <th>5579</th>\n",
              "      <td>15</td>\n",
              "      <td>2</td>\n",
              "      <td>7</td>\n",
              "      <td>30</td>\n",
              "      <td>0.031942</td>\n",
              "    </tr>\n",
              "  </tbody>\n",
              "</table>\n",
              "<p>5580 rows × 5 columns</p>\n",
              "</div>\n",
              "      <button class=\"colab-df-convert\" onclick=\"convertToInteractive('df-bc19618b-438f-4004-8318-e7d096e09e0f')\"\n",
              "              title=\"Convert this dataframe to an interactive table.\"\n",
              "              style=\"display:none;\">\n",
              "        \n",
              "  <svg xmlns=\"http://www.w3.org/2000/svg\" height=\"24px\"viewBox=\"0 0 24 24\"\n",
              "       width=\"24px\">\n",
              "    <path d=\"M0 0h24v24H0V0z\" fill=\"none\"/>\n",
              "    <path d=\"M18.56 5.44l.94 2.06.94-2.06 2.06-.94-2.06-.94-.94-2.06-.94 2.06-2.06.94zm-11 1L8.5 8.5l.94-2.06 2.06-.94-2.06-.94L8.5 2.5l-.94 2.06-2.06.94zm10 10l.94 2.06.94-2.06 2.06-.94-2.06-.94-.94-2.06-.94 2.06-2.06.94z\"/><path d=\"M17.41 7.96l-1.37-1.37c-.4-.4-.92-.59-1.43-.59-.52 0-1.04.2-1.43.59L10.3 9.45l-7.72 7.72c-.78.78-.78 2.05 0 2.83L4 21.41c.39.39.9.59 1.41.59.51 0 1.02-.2 1.41-.59l7.78-7.78 2.81-2.81c.8-.78.8-2.07 0-2.86zM5.41 20L4 18.59l7.72-7.72 1.47 1.35L5.41 20z\"/>\n",
              "  </svg>\n",
              "      </button>\n",
              "      \n",
              "  <style>\n",
              "    .colab-df-container {\n",
              "      display:flex;\n",
              "      flex-wrap:wrap;\n",
              "      gap: 12px;\n",
              "    }\n",
              "\n",
              "    .colab-df-convert {\n",
              "      background-color: #E8F0FE;\n",
              "      border: none;\n",
              "      border-radius: 50%;\n",
              "      cursor: pointer;\n",
              "      display: none;\n",
              "      fill: #1967D2;\n",
              "      height: 32px;\n",
              "      padding: 0 0 0 0;\n",
              "      width: 32px;\n",
              "    }\n",
              "\n",
              "    .colab-df-convert:hover {\n",
              "      background-color: #E2EBFA;\n",
              "      box-shadow: 0px 1px 2px rgba(60, 64, 67, 0.3), 0px 1px 3px 1px rgba(60, 64, 67, 0.15);\n",
              "      fill: #174EA6;\n",
              "    }\n",
              "\n",
              "    [theme=dark] .colab-df-convert {\n",
              "      background-color: #3B4455;\n",
              "      fill: #D2E3FC;\n",
              "    }\n",
              "\n",
              "    [theme=dark] .colab-df-convert:hover {\n",
              "      background-color: #434B5C;\n",
              "      box-shadow: 0px 1px 3px 1px rgba(0, 0, 0, 0.15);\n",
              "      filter: drop-shadow(0px 1px 2px rgba(0, 0, 0, 0.3));\n",
              "      fill: #FFFFFF;\n",
              "    }\n",
              "  </style>\n",
              "\n",
              "      <script>\n",
              "        const buttonEl =\n",
              "          document.querySelector('#df-bc19618b-438f-4004-8318-e7d096e09e0f button.colab-df-convert');\n",
              "        buttonEl.style.display =\n",
              "          google.colab.kernel.accessAllowed ? 'block' : 'none';\n",
              "\n",
              "        async function convertToInteractive(key) {\n",
              "          const element = document.querySelector('#df-bc19618b-438f-4004-8318-e7d096e09e0f');\n",
              "          const dataTable =\n",
              "            await google.colab.kernel.invokeFunction('convertToInteractive',\n",
              "                                                     [key], {});\n",
              "          if (!dataTable) return;\n",
              "\n",
              "          const docLinkHtml = 'Like what you see? Visit the ' +\n",
              "            '<a target=\"_blank\" href=https://colab.research.google.com/notebooks/data_table.ipynb>data table notebook</a>'\n",
              "            + ' to learn more about interactive tables.';\n",
              "          element.innerHTML = '';\n",
              "          dataTable['output_type'] = 'display_data';\n",
              "          await google.colab.output.renderOutput(dataTable, element);\n",
              "          const docLink = document.createElement('div');\n",
              "          docLink.innerHTML = docLinkHtml;\n",
              "          element.appendChild(docLink);\n",
              "        }\n",
              "      </script>\n",
              "    </div>\n",
              "  </div>\n",
              "  "
            ]
          },
          "metadata": {},
          "execution_count": 181
        }
      ]
    },
    {
      "cell_type": "markdown",
      "source": [
        "## Character spelling task"
      ],
      "metadata": {
        "id": "1Ijt9hw93Vx4"
      }
    },
    {
      "cell_type": "code",
      "source": [
        "chara_map = {(7, 1): 'A', (7, 2): 'B', (7, 3): 'C', (7, 4): 'D', (7, 5): 'E', (7, 6): 'F',\n",
        " (8, 1): 'G', (8, 2): 'H', (8, 3): 'I', (8, 4): 'J', (8, 5): 'K', (8, 6): 'L', \n",
        " (9, 1): 'M', (9, 2): 'N', (9, 3): 'O', (9, 4): 'P', (9, 5): 'Q', (9, 6): 'R',\n",
        " (10, 1): 'S',(10, 2): 'T', (10, 3): 'U', (10, 4): 'V', (10, 5): 'W', (10, 6): 'X',\n",
        " (11, 1): 'Y', (11, 2): 'Z', (11, 3): '1', (11, 4): '2', (11, 5): '3', (11, 6): '4',\n",
        " (12, 1): '5',(12, 2): '6', (12, 3): '7', (12, 4): '8', (12, 5): '9', (12, 6): '_'}\n",
        "\n",
        "for spelling_epoch in range(1, 16):\n",
        "    # print(testing_label[testing_label['epoch'] <= spelling_epoch].sort_values(['row/column', 'true_character_index']))\n",
        "    filtered_testing_label = testing_labels[testing_labels['epoch'] <= spelling_epoch].groupby(['row/column', 'true_character', 'true_character_index'], as_index = False).sum()[['row/column','true_character', 'true_character_index', 'P300_prob']]\n",
        "    # print(filtered_testing_label.sort_values(['row/column', 'true_character_index']))\n",
        "\n",
        "    row_argmax = filtered_testing_label[filtered_testing_label['row/column'] > 6]\n",
        "    # print(row_argmax[row_argmax['true_character'] == 'W'].sort_values(['true_character_index']))\n",
        "    row_argmax = row_argmax.sort_values('P300_prob', ascending=False).drop_duplicates(['true_character', 'true_character_index'])\n",
        "    # print(row_argmax.sort_values(['true_character_index']))\n",
        "    row_argmax = row_argmax.rename(columns = {'row/column' : 'max_row_index'})\n",
        "\n",
        "    # print(row_argmax.sort_values(['true_character_index']))\n",
        "\n",
        "    col_argmax = filtered_testing_label[filtered_testing_label['row/column'] <= 6]\n",
        "    col_argmax = col_argmax.sort_values('P300_prob', ascending=False).drop_duplicates(['true_character', 'true_character_index'])\n",
        "    col_argmax = col_argmax.rename(columns = {'row/column' : 'max_col_index'})\n",
        "\n",
        "    # print(col_argmax.sort_values(['true_character_index']))\n",
        "\n",
        "    # print(pd.merge(row_argmax, col_argmax, on = ['true_character','true_character_index']))\n",
        "    chara_df = pd.merge(row_argmax, col_argmax, on = ['true_character','true_character_index'])[['max_row_index', 'max_col_index', 'true_character','true_character_index']]\n",
        "    # print(chara_df)\n",
        "    chara_df['predicted_character'] = chara_df.apply(lambda x: chara_map[(x['max_row_index'], x['max_col_index'])], axis = 1)\n",
        "    chara_df['check_character'] = chara_df.apply(lambda x: x['true_character'] == x['predicted_character'], axis = 1)\n",
        "    # print(chara_df.sort_values(['true_character_index']))\n",
        "    spelling_accuracy = chara_df['check_character'].mean()\n",
        "    print('Character spelling accuracy with {0} epoches: {1}'.format(spelling_epoch, spelling_accuracy))"
      ],
      "metadata": {
        "colab": {
          "base_uri": "https://localhost:8080/"
        },
        "outputId": "fa612082-99d2-4552-bd23-418b036ea643",
        "id": "_S_xLyRcTsUD"
      },
      "execution_count": null,
      "outputs": [
        {
          "output_type": "stream",
          "name": "stdout",
          "text": [
            "Character spelling accuracy with 1 epoches: 0.6774193548387096\n",
            "Character spelling accuracy with 2 epoches: 0.7419354838709677\n",
            "Character spelling accuracy with 3 epoches: 0.8709677419354839\n",
            "Character spelling accuracy with 4 epoches: 0.967741935483871\n",
            "Character spelling accuracy with 5 epoches: 0.967741935483871\n",
            "Character spelling accuracy with 6 epoches: 0.9354838709677419\n",
            "Character spelling accuracy with 7 epoches: 0.967741935483871\n",
            "Character spelling accuracy with 8 epoches: 0.9354838709677419\n",
            "Character spelling accuracy with 9 epoches: 1.0\n",
            "Character spelling accuracy with 10 epoches: 1.0\n",
            "Character spelling accuracy with 11 epoches: 1.0\n",
            "Character spelling accuracy with 12 epoches: 1.0\n",
            "Character spelling accuracy with 13 epoches: 1.0\n",
            "Character spelling accuracy with 14 epoches: 1.0\n",
            "Character spelling accuracy with 15 epoches: 1.0\n"
          ]
        }
      ]
    },
    {
      "cell_type": "code",
      "source": [],
      "metadata": {
        "id": "zk4rXqTPVgwB"
      },
      "execution_count": null,
      "outputs": []
    },
    {
      "cell_type": "markdown",
      "source": [
        "# OCLNN Model with 4 channels"
      ],
      "metadata": {
        "id": "QraZjpa-3b_m"
      }
    },
    {
      "cell_type": "markdown",
      "source": [
        "![image.png](data:image/png;base64,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)"
      ],
      "metadata": {
        "id": "l5RSQYlaVVej"
      }
    },
    {
      "cell_type": "markdown",
      "source": [
        "##Load Data"
      ],
      "metadata": {
        "id": "LVwCBVxm3iEj"
      }
    },
    {
      "cell_type": "code",
      "source": [
        "import pandas as pd\n",
        "training_data = np.load(\"/content/drive/MyDrive/Thesis Project/Example_P300/Processed Data/BCI_IIb_training_data.npy\")\n",
        "training_labels = np.load(\"/content/drive/MyDrive/Thesis Project/Example_P300/Processed Data/BCI_IIb_training_label.npy\")\n",
        "testing_data = np.load(\"/content/drive/MyDrive/Thesis Project/Example_P300/Processed Data/BCI_IIb_testing_data.npy\")\n",
        "testing_labels = pd.DataFrame(np.load(\"/content/drive/MyDrive/Thesis Project/Example_P300/Processed Data/BCI_IIb_testing_label.npy\", allow_pickle=True), \n",
        "                              columns=['epoch','row/column', 'true_character', 'true_character_index', 'P300_prob'])\n",
        "\n",
        "subject = 0\n",
        "print(\"Training data size: {0}\".format(training_data.shape))\n",
        "print(\"Testing data size: {0}\".format(testing_data.shape))"
      ],
      "metadata": {
        "colab": {
          "base_uri": "https://localhost:8080/"
        },
        "outputId": "0f5f3b9a-53cf-42c9-ff0e-937fea71a4ed",
        "id": "SK-VTab9VVel"
      },
      "execution_count": null,
      "outputs": [
        {
          "output_type": "stream",
          "name": "stdout",
          "text": [
            "Training data size: (1, 7560, 240, 64)\n",
            "Testing data size: (5580, 240, 64)\n"
          ]
        }
      ]
    },
    {
      "cell_type": "code",
      "source": [
        "training_data.shape"
      ],
      "metadata": {
        "colab": {
          "base_uri": "https://localhost:8080/"
        },
        "outputId": "19606bad-3018-470d-e613-5280c29860dc",
        "id": "DpNg8KqUVVel"
      },
      "execution_count": null,
      "outputs": [
        {
          "output_type": "execute_result",
          "data": {
            "text/plain": [
              "(1, 7560, 240, 64)"
            ]
          },
          "metadata": {},
          "execution_count": 184
        }
      ]
    },
    {
      "cell_type": "code",
      "source": [
        "testing_data.shape"
      ],
      "metadata": {
        "colab": {
          "base_uri": "https://localhost:8080/"
        },
        "outputId": "6564441a-45cf-4b49-8461-e461837f8427",
        "id": "QiFcsofoVVel"
      },
      "execution_count": null,
      "outputs": [
        {
          "output_type": "execute_result",
          "data": {
            "text/plain": [
              "(5580, 240, 64)"
            ]
          },
          "metadata": {},
          "execution_count": 185
        }
      ]
    },
    {
      "cell_type": "markdown",
      "source": [
        "##Channel Subset Selection"
      ],
      "metadata": {
        "id": "PHRjgLKc3lL0"
      }
    },
    {
      "cell_type": "code",
      "source": [
        "selected_channel = ['Pz', 'PO7', 'PO8', 'Oz']\n",
        "\n",
        "all_channels = [ 'FC5', 'FC3', 'FC1', 'FCz', 'FC2', 'FC4', 'FC6', 'C5',\n",
        "                'C3',  'C1',  'Cz',  'C2',  'C4',  'C6',  'CP5', 'CP3',\n",
        "                'CP1', 'CPz', 'CP2', 'CP4', 'CP6', 'Fp1', 'Fpz', 'Fp2',\n",
        "                'AF7', 'AF3', 'AFz', 'AF4', 'AF8', 'F7',  'F5',  'F3',\n",
        "                'F1',  'Fz',  'F2',  'F4',  'F6',  'F8',  'FT7', 'FT8',\n",
        "                'T7',  'T8',  'T9',  'T10', 'TP7', 'TP8', 'P7',  'P5',\n",
        "                'P3',  'P1',  'Pz',  'P2',  'P4',  'P6',  'P8',  'PO7',\n",
        "                'PO3', 'POz', 'PO4', 'PO8', 'O1',  'Oz',  'O2',  'Iz' ] \n",
        "\n",
        "def Channel_Filter(all_channels, selected_channel, data):\n",
        "\n",
        "  channel_index = [all_channels.index(channel) for channel in selected_channel]\n",
        "  new_data = data[:, :, channel_index]\n",
        "\n",
        "  # shape = (240, num_selected_channel)\n",
        "  return new_data\n",
        "\n",
        "Channel_Filter(all_channels, selected_channel, training_data[0]).shape\n",
        "channel_4_training_data = np.expand_dims(Channel_Filter(all_channels, selected_channel, training_data[0]), axis=0)\n",
        "channel_4_testing_data = Channel_Filter(all_channels, selected_channel, testing_data)"
      ],
      "metadata": {
        "id": "zMiadJr7VVel"
      },
      "execution_count": null,
      "outputs": []
    },
    {
      "cell_type": "code",
      "source": [
        "channel_4_training_data.shape"
      ],
      "metadata": {
        "colab": {
          "base_uri": "https://localhost:8080/"
        },
        "outputId": "f32a59be-88be-49ca-d718-352ce81946ab",
        "id": "opOJCzr_VVel"
      },
      "execution_count": null,
      "outputs": [
        {
          "output_type": "execute_result",
          "data": {
            "text/plain": [
              "(1, 7560, 240, 4)"
            ]
          },
          "metadata": {},
          "execution_count": 187
        }
      ]
    },
    {
      "cell_type": "code",
      "source": [
        "channel_4_testing_data.shape"
      ],
      "metadata": {
        "colab": {
          "base_uri": "https://localhost:8080/"
        },
        "outputId": "39562e12-bd7f-4f9a-f0d1-ee429f4e9128",
        "id": "Gi58CmmWVVel"
      },
      "execution_count": null,
      "outputs": [
        {
          "output_type": "execute_result",
          "data": {
            "text/plain": [
              "(5580, 240, 4)"
            ]
          },
          "metadata": {},
          "execution_count": 188
        }
      ]
    },
    {
      "cell_type": "code",
      "source": [
        "from sklearn.model_selection import train_test_split\n",
        "# X_train, X_test, y_train, y_test = train_test_split(data[subject], labels[subject], test_size = 0.2, shuffle = True)\n",
        "X_train, X_valid, y_train, y_valid = train_test_split(channel_4_training_data[subject], training_labels[subject], test_size = 0.2, shuffle = True)"
      ],
      "metadata": {
        "id": "9HyF6hSHVVem"
      },
      "execution_count": null,
      "outputs": []
    },
    {
      "cell_type": "code",
      "source": [
        "print(X_train.shape)\n",
        "print(y_train.shape)\n",
        "# print(X_test.shape)\n",
        "# print(y_test.shape)"
      ],
      "metadata": {
        "colab": {
          "base_uri": "https://localhost:8080/"
        },
        "outputId": "6e1bf6cb-8245-4537-ad54-f2c1c20a0b77",
        "id": "JhjVQ74IVVem"
      },
      "execution_count": null,
      "outputs": [
        {
          "output_type": "stream",
          "name": "stdout",
          "text": [
            "(6048, 240, 4)\n",
            "(6048,)\n"
          ]
        }
      ]
    },
    {
      "cell_type": "markdown",
      "source": [
        "## Model Architecture"
      ],
      "metadata": {
        "id": "e98V3Mh43oum"
      }
    },
    {
      "cell_type": "code",
      "source": [
        "K.clear_session()\n",
        "model = models.Sequential()\n",
        "model.add(layers.Input(shape = (240, 4)))\n",
        "# model.add(layers.ZeroPadding1D(padding = 2))\n",
        "model.add(layers.Conv1D(16, 16, strides = 16,\n",
        "                          padding = 'valid',\n",
        "                          data_format = 'channels_last',\n",
        "                          kernel_initializer = 'glorot_uniform',\n",
        "                          bias_initializer = 'zeros',\n",
        "                          kernel_regularizer = 'l2',\n",
        "                          bias_regularizer = 'l2',\n",
        "                          use_bias = True))\n",
        "# model.add(layers.Conv1D(16, kernel_size = (16,),strides = 16, activation='relu', input_shape=(240, 64)))\n",
        "model.add(layers.Dropout(0.25))\n",
        "model.add(layers.Flatten())\n",
        "model.add(layers.Dense(2, activation='softmax', kernel_regularizer= \"l2\", bias_regularizer= \"l2\"))\n",
        "# model.add(layers.Dense(2, activation='softmax'))\n",
        "model.add(layers.Flatten())"
      ],
      "metadata": {
        "id": "JBaMLxv-VVem"
      },
      "execution_count": null,
      "outputs": []
    },
    {
      "cell_type": "code",
      "source": [
        "model.summary()"
      ],
      "metadata": {
        "colab": {
          "base_uri": "https://localhost:8080/"
        },
        "outputId": "041e91bc-1339-43c1-8958-22739754355d",
        "id": "jNtBbUu5VVem"
      },
      "execution_count": null,
      "outputs": [
        {
          "output_type": "stream",
          "name": "stdout",
          "text": [
            "Model: \"sequential\"\n",
            "_________________________________________________________________\n",
            " Layer (type)                Output Shape              Param #   \n",
            "=================================================================\n",
            " conv1d (Conv1D)             (None, 15, 16)            1040      \n",
            "                                                                 \n",
            " dropout (Dropout)           (None, 15, 16)            0         \n",
            "                                                                 \n",
            " flatten (Flatten)           (None, 240)               0         \n",
            "                                                                 \n",
            " dense (Dense)               (None, 2)                 482       \n",
            "                                                                 \n",
            " flatten_1 (Flatten)         (None, 2)                 0         \n",
            "                                                                 \n",
            "=================================================================\n",
            "Total params: 1,522\n",
            "Trainable params: 1,522\n",
            "Non-trainable params: 0\n",
            "_________________________________________________________________\n"
          ]
        }
      ]
    },
    {
      "cell_type": "markdown",
      "source": [
        "## Run Model"
      ],
      "metadata": {
        "id": "SiCgzBQ33rVd"
      }
    },
    {
      "cell_type": "code",
      "source": [
        "model.compile(optimizer = 'adam', loss = 'categorical_crossentropy', metrics=['accuracy'])\n",
        "\n",
        "# class_weight = {0: 5, 1: 1}\n",
        "es = EarlyStopping(monitor = 'val_loss', mode = 'min', patience = 50, restore_best_weights = True)\n",
        "history = model.fit(X_train, to_categorical(y_train),batch_size = 256,epochs = 200,validation_data = (X_valid, to_categorical(y_valid)),callbacks = [es])\n",
        "# history = model.fit(X_train, y_train, epochs= 150, batch_size = 128, validation_data= [X_test, y_test])"
      ],
      "metadata": {
        "colab": {
          "base_uri": "https://localhost:8080/"
        },
        "outputId": "7367608c-3bbd-46c0-ac7d-ac9f159efc1e",
        "id": "VDDmif72VVem"
      },
      "execution_count": null,
      "outputs": [
        {
          "output_type": "stream",
          "name": "stdout",
          "text": [
            "Epoch 1/200\n",
            "24/24 [==============================] - 2s 20ms/step - loss: 0.7757 - accuracy: 0.6101 - val_loss: 0.6410 - val_accuracy: 0.7222\n",
            "Epoch 2/200\n",
            "24/24 [==============================] - 0s 8ms/step - loss: 0.6196 - accuracy: 0.7497 - val_loss: 0.5529 - val_accuracy: 0.7870\n",
            "Epoch 3/200\n",
            "24/24 [==============================] - 0s 8ms/step - loss: 0.5443 - accuracy: 0.8029 - val_loss: 0.4801 - val_accuracy: 0.8366\n",
            "Epoch 4/200\n",
            "24/24 [==============================] - 0s 9ms/step - loss: 0.4762 - accuracy: 0.8424 - val_loss: 0.4241 - val_accuracy: 0.8638\n",
            "Epoch 5/200\n",
            "24/24 [==============================] - 0s 8ms/step - loss: 0.4274 - accuracy: 0.8628 - val_loss: 0.3924 - val_accuracy: 0.8770\n",
            "Epoch 6/200\n",
            "24/24 [==============================] - 0s 9ms/step - loss: 0.4080 - accuracy: 0.8661 - val_loss: 0.3737 - val_accuracy: 0.8803\n",
            "Epoch 7/200\n",
            "24/24 [==============================] - 0s 8ms/step - loss: 0.3893 - accuracy: 0.8729 - val_loss: 0.3590 - val_accuracy: 0.8843\n",
            "Epoch 8/200\n",
            "24/24 [==============================] - 0s 8ms/step - loss: 0.3750 - accuracy: 0.8791 - val_loss: 0.3516 - val_accuracy: 0.8876\n",
            "Epoch 9/200\n",
            "24/24 [==============================] - 0s 8ms/step - loss: 0.3714 - accuracy: 0.8776 - val_loss: 0.3426 - val_accuracy: 0.8902\n",
            "Epoch 10/200\n",
            "24/24 [==============================] - 0s 8ms/step - loss: 0.3662 - accuracy: 0.8757 - val_loss: 0.3378 - val_accuracy: 0.8922\n",
            "Epoch 11/200\n",
            "24/24 [==============================] - 0s 8ms/step - loss: 0.3540 - accuracy: 0.8841 - val_loss: 0.3321 - val_accuracy: 0.8962\n",
            "Epoch 12/200\n",
            "24/24 [==============================] - 0s 8ms/step - loss: 0.3518 - accuracy: 0.8829 - val_loss: 0.3282 - val_accuracy: 0.8942\n",
            "Epoch 13/200\n",
            "24/24 [==============================] - 0s 8ms/step - loss: 0.3506 - accuracy: 0.8806 - val_loss: 0.3240 - val_accuracy: 0.8962\n",
            "Epoch 14/200\n",
            "24/24 [==============================] - 0s 8ms/step - loss: 0.3435 - accuracy: 0.8872 - val_loss: 0.3207 - val_accuracy: 0.8962\n",
            "Epoch 15/200\n",
            "24/24 [==============================] - 0s 8ms/step - loss: 0.3416 - accuracy: 0.8856 - val_loss: 0.3191 - val_accuracy: 0.8975\n",
            "Epoch 16/200\n",
            "24/24 [==============================] - 0s 9ms/step - loss: 0.3406 - accuracy: 0.8839 - val_loss: 0.3176 - val_accuracy: 0.8962\n",
            "Epoch 17/200\n",
            "24/24 [==============================] - 0s 8ms/step - loss: 0.3364 - accuracy: 0.8874 - val_loss: 0.3133 - val_accuracy: 0.8981\n",
            "Epoch 18/200\n",
            "24/24 [==============================] - 0s 9ms/step - loss: 0.3324 - accuracy: 0.8853 - val_loss: 0.3105 - val_accuracy: 0.8955\n",
            "Epoch 19/200\n",
            "24/24 [==============================] - 0s 10ms/step - loss: 0.3315 - accuracy: 0.8798 - val_loss: 0.3098 - val_accuracy: 0.8962\n",
            "Epoch 20/200\n",
            "24/24 [==============================] - 0s 8ms/step - loss: 0.3275 - accuracy: 0.8864 - val_loss: 0.3084 - val_accuracy: 0.8995\n",
            "Epoch 21/200\n",
            "24/24 [==============================] - 0s 9ms/step - loss: 0.3253 - accuracy: 0.8876 - val_loss: 0.3059 - val_accuracy: 0.8988\n",
            "Epoch 22/200\n",
            "24/24 [==============================] - 0s 8ms/step - loss: 0.3281 - accuracy: 0.8831 - val_loss: 0.3059 - val_accuracy: 0.8988\n",
            "Epoch 23/200\n",
            "24/24 [==============================] - 0s 8ms/step - loss: 0.3238 - accuracy: 0.8881 - val_loss: 0.3040 - val_accuracy: 0.8995\n",
            "Epoch 24/200\n",
            "24/24 [==============================] - 0s 8ms/step - loss: 0.3237 - accuracy: 0.8841 - val_loss: 0.3030 - val_accuracy: 0.8995\n",
            "Epoch 25/200\n",
            "24/24 [==============================] - 0s 8ms/step - loss: 0.3230 - accuracy: 0.8872 - val_loss: 0.3024 - val_accuracy: 0.8981\n",
            "Epoch 26/200\n",
            "24/24 [==============================] - 0s 9ms/step - loss: 0.3204 - accuracy: 0.8879 - val_loss: 0.3009 - val_accuracy: 0.8988\n",
            "Epoch 27/200\n",
            "24/24 [==============================] - 0s 8ms/step - loss: 0.3179 - accuracy: 0.8891 - val_loss: 0.3020 - val_accuracy: 0.8962\n",
            "Epoch 28/200\n",
            "24/24 [==============================] - 0s 9ms/step - loss: 0.3177 - accuracy: 0.8867 - val_loss: 0.3001 - val_accuracy: 0.8975\n",
            "Epoch 29/200\n",
            "24/24 [==============================] - 0s 8ms/step - loss: 0.3188 - accuracy: 0.8882 - val_loss: 0.3004 - val_accuracy: 0.8968\n",
            "Epoch 30/200\n",
            "24/24 [==============================] - 0s 8ms/step - loss: 0.3184 - accuracy: 0.8862 - val_loss: 0.2976 - val_accuracy: 0.8988\n",
            "Epoch 31/200\n",
            "24/24 [==============================] - 0s 8ms/step - loss: 0.3177 - accuracy: 0.8849 - val_loss: 0.2975 - val_accuracy: 0.8981\n",
            "Epoch 32/200\n",
            "24/24 [==============================] - 0s 8ms/step - loss: 0.3163 - accuracy: 0.8884 - val_loss: 0.2963 - val_accuracy: 0.8981\n",
            "Epoch 33/200\n",
            "24/24 [==============================] - 0s 8ms/step - loss: 0.3147 - accuracy: 0.8859 - val_loss: 0.2966 - val_accuracy: 0.8995\n",
            "Epoch 34/200\n",
            "24/24 [==============================] - 0s 8ms/step - loss: 0.3134 - accuracy: 0.8851 - val_loss: 0.2965 - val_accuracy: 0.9001\n",
            "Epoch 35/200\n",
            "24/24 [==============================] - 0s 8ms/step - loss: 0.3119 - accuracy: 0.8914 - val_loss: 0.2954 - val_accuracy: 0.8995\n",
            "Epoch 36/200\n",
            "24/24 [==============================] - 0s 9ms/step - loss: 0.3156 - accuracy: 0.8902 - val_loss: 0.2958 - val_accuracy: 0.8995\n",
            "Epoch 37/200\n",
            "24/24 [==============================] - 0s 11ms/step - loss: 0.3175 - accuracy: 0.8876 - val_loss: 0.2950 - val_accuracy: 0.8962\n",
            "Epoch 38/200\n",
            "24/24 [==============================] - 0s 14ms/step - loss: 0.3140 - accuracy: 0.8894 - val_loss: 0.2960 - val_accuracy: 0.9015\n",
            "Epoch 39/200\n",
            "24/24 [==============================] - 0s 14ms/step - loss: 0.3122 - accuracy: 0.8900 - val_loss: 0.2971 - val_accuracy: 0.8962\n",
            "Epoch 40/200\n",
            "24/24 [==============================] - 0s 15ms/step - loss: 0.3119 - accuracy: 0.8881 - val_loss: 0.2937 - val_accuracy: 0.9015\n",
            "Epoch 41/200\n",
            "24/24 [==============================] - 0s 14ms/step - loss: 0.3123 - accuracy: 0.8894 - val_loss: 0.2955 - val_accuracy: 0.8995\n",
            "Epoch 42/200\n",
            "24/24 [==============================] - 0s 12ms/step - loss: 0.3131 - accuracy: 0.8891 - val_loss: 0.2943 - val_accuracy: 0.8981\n",
            "Epoch 43/200\n",
            "24/24 [==============================] - 0s 11ms/step - loss: 0.3121 - accuracy: 0.8854 - val_loss: 0.2931 - val_accuracy: 0.8995\n",
            "Epoch 44/200\n",
            "24/24 [==============================] - 0s 9ms/step - loss: 0.3131 - accuracy: 0.8854 - val_loss: 0.2941 - val_accuracy: 0.9001\n",
            "Epoch 45/200\n",
            "24/24 [==============================] - 0s 14ms/step - loss: 0.3105 - accuracy: 0.8900 - val_loss: 0.2926 - val_accuracy: 0.9001\n",
            "Epoch 46/200\n",
            "24/24 [==============================] - 0s 14ms/step - loss: 0.3092 - accuracy: 0.8914 - val_loss: 0.2943 - val_accuracy: 0.9001\n",
            "Epoch 47/200\n",
            "24/24 [==============================] - 0s 12ms/step - loss: 0.3119 - accuracy: 0.8866 - val_loss: 0.2931 - val_accuracy: 0.8988\n",
            "Epoch 48/200\n",
            "24/24 [==============================] - 0s 12ms/step - loss: 0.3117 - accuracy: 0.8887 - val_loss: 0.2940 - val_accuracy: 0.8968\n",
            "Epoch 49/200\n",
            "24/24 [==============================] - 0s 12ms/step - loss: 0.3113 - accuracy: 0.8872 - val_loss: 0.2925 - val_accuracy: 0.8981\n",
            "Epoch 50/200\n",
            "24/24 [==============================] - 0s 13ms/step - loss: 0.3090 - accuracy: 0.8892 - val_loss: 0.2934 - val_accuracy: 0.8988\n",
            "Epoch 51/200\n",
            "24/24 [==============================] - 0s 14ms/step - loss: 0.3104 - accuracy: 0.8884 - val_loss: 0.2932 - val_accuracy: 0.8968\n",
            "Epoch 52/200\n",
            "24/24 [==============================] - 0s 12ms/step - loss: 0.3109 - accuracy: 0.8891 - val_loss: 0.2945 - val_accuracy: 0.9008\n",
            "Epoch 53/200\n",
            "24/24 [==============================] - 0s 15ms/step - loss: 0.3099 - accuracy: 0.8900 - val_loss: 0.2931 - val_accuracy: 0.8988\n",
            "Epoch 54/200\n",
            "24/24 [==============================] - 0s 12ms/step - loss: 0.3088 - accuracy: 0.8920 - val_loss: 0.2923 - val_accuracy: 0.8988\n",
            "Epoch 55/200\n",
            "24/24 [==============================] - 0s 14ms/step - loss: 0.3138 - accuracy: 0.8886 - val_loss: 0.2945 - val_accuracy: 0.8988\n",
            "Epoch 56/200\n",
            "24/24 [==============================] - 0s 14ms/step - loss: 0.3111 - accuracy: 0.8902 - val_loss: 0.2923 - val_accuracy: 0.8995\n",
            "Epoch 57/200\n",
            "24/24 [==============================] - 0s 13ms/step - loss: 0.3096 - accuracy: 0.8884 - val_loss: 0.2939 - val_accuracy: 0.9008\n",
            "Epoch 58/200\n",
            "24/24 [==============================] - 0s 12ms/step - loss: 0.3084 - accuracy: 0.8899 - val_loss: 0.2937 - val_accuracy: 0.8988\n",
            "Epoch 59/200\n",
            "24/24 [==============================] - 0s 14ms/step - loss: 0.3108 - accuracy: 0.8899 - val_loss: 0.2920 - val_accuracy: 0.9008\n",
            "Epoch 60/200\n",
            "24/24 [==============================] - 0s 8ms/step - loss: 0.3095 - accuracy: 0.8871 - val_loss: 0.2927 - val_accuracy: 0.9001\n",
            "Epoch 61/200\n",
            "24/24 [==============================] - 0s 8ms/step - loss: 0.3107 - accuracy: 0.8904 - val_loss: 0.2926 - val_accuracy: 0.9001\n",
            "Epoch 62/200\n",
            "24/24 [==============================] - 0s 10ms/step - loss: 0.3129 - accuracy: 0.8884 - val_loss: 0.2942 - val_accuracy: 0.8988\n",
            "Epoch 63/200\n",
            "24/24 [==============================] - 0s 8ms/step - loss: 0.3093 - accuracy: 0.8924 - val_loss: 0.2927 - val_accuracy: 0.8975\n",
            "Epoch 64/200\n",
            "24/24 [==============================] - 0s 8ms/step - loss: 0.3100 - accuracy: 0.8877 - val_loss: 0.2931 - val_accuracy: 0.9015\n",
            "Epoch 65/200\n",
            "24/24 [==============================] - 0s 8ms/step - loss: 0.3123 - accuracy: 0.8857 - val_loss: 0.2930 - val_accuracy: 0.8995\n",
            "Epoch 66/200\n",
            "24/24 [==============================] - 0s 8ms/step - loss: 0.3104 - accuracy: 0.8889 - val_loss: 0.2930 - val_accuracy: 0.8995\n",
            "Epoch 67/200\n",
            "24/24 [==============================] - 0s 8ms/step - loss: 0.3073 - accuracy: 0.8912 - val_loss: 0.2924 - val_accuracy: 0.9021\n",
            "Epoch 68/200\n",
            "24/24 [==============================] - 0s 9ms/step - loss: 0.3126 - accuracy: 0.8876 - val_loss: 0.2924 - val_accuracy: 0.9001\n",
            "Epoch 69/200\n",
            "24/24 [==============================] - 0s 9ms/step - loss: 0.3085 - accuracy: 0.8896 - val_loss: 0.2916 - val_accuracy: 0.8995\n",
            "Epoch 70/200\n",
            "24/24 [==============================] - 0s 9ms/step - loss: 0.3102 - accuracy: 0.8882 - val_loss: 0.2925 - val_accuracy: 0.9008\n",
            "Epoch 71/200\n",
            "24/24 [==============================] - 0s 9ms/step - loss: 0.3107 - accuracy: 0.8897 - val_loss: 0.2935 - val_accuracy: 0.8981\n",
            "Epoch 72/200\n",
            "24/24 [==============================] - 0s 9ms/step - loss: 0.3093 - accuracy: 0.8912 - val_loss: 0.2918 - val_accuracy: 0.9001\n",
            "Epoch 73/200\n",
            "24/24 [==============================] - 0s 8ms/step - loss: 0.3073 - accuracy: 0.8917 - val_loss: 0.2918 - val_accuracy: 0.9008\n",
            "Epoch 74/200\n",
            "24/24 [==============================] - 0s 8ms/step - loss: 0.3096 - accuracy: 0.8882 - val_loss: 0.2932 - val_accuracy: 0.9028\n",
            "Epoch 75/200\n",
            "24/24 [==============================] - 0s 7ms/step - loss: 0.3105 - accuracy: 0.8857 - val_loss: 0.2932 - val_accuracy: 0.9001\n",
            "Epoch 76/200\n",
            "24/24 [==============================] - 0s 8ms/step - loss: 0.3096 - accuracy: 0.8919 - val_loss: 0.2920 - val_accuracy: 0.8981\n",
            "Epoch 77/200\n",
            "24/24 [==============================] - 0s 7ms/step - loss: 0.3121 - accuracy: 0.8871 - val_loss: 0.2921 - val_accuracy: 0.9034\n",
            "Epoch 78/200\n",
            "24/24 [==============================] - 0s 8ms/step - loss: 0.3093 - accuracy: 0.8930 - val_loss: 0.2932 - val_accuracy: 0.8981\n",
            "Epoch 79/200\n",
            "24/24 [==============================] - 0s 9ms/step - loss: 0.3090 - accuracy: 0.8872 - val_loss: 0.2924 - val_accuracy: 0.8995\n",
            "Epoch 80/200\n",
            "24/24 [==============================] - 0s 9ms/step - loss: 0.3094 - accuracy: 0.8886 - val_loss: 0.2912 - val_accuracy: 0.8975\n",
            "Epoch 81/200\n",
            "24/24 [==============================] - 0s 10ms/step - loss: 0.3117 - accuracy: 0.8871 - val_loss: 0.2921 - val_accuracy: 0.9021\n",
            "Epoch 82/200\n",
            "24/24 [==============================] - 0s 18ms/step - loss: 0.3073 - accuracy: 0.8896 - val_loss: 0.2932 - val_accuracy: 0.8981\n",
            "Epoch 83/200\n",
            "24/24 [==============================] - 1s 38ms/step - loss: 0.3083 - accuracy: 0.8900 - val_loss: 0.2922 - val_accuracy: 0.9001\n",
            "Epoch 84/200\n",
            "24/24 [==============================] - 1s 55ms/step - loss: 0.3092 - accuracy: 0.8919 - val_loss: 0.2916 - val_accuracy: 0.8981\n",
            "Epoch 85/200\n",
            "24/24 [==============================] - 2s 83ms/step - loss: 0.3103 - accuracy: 0.8912 - val_loss: 0.2924 - val_accuracy: 0.9008\n",
            "Epoch 86/200\n",
            "24/24 [==============================] - 1s 58ms/step - loss: 0.3102 - accuracy: 0.8894 - val_loss: 0.2915 - val_accuracy: 0.9008\n",
            "Epoch 87/200\n",
            "24/24 [==============================] - 0s 20ms/step - loss: 0.3100 - accuracy: 0.8861 - val_loss: 0.2912 - val_accuracy: 0.8995\n",
            "Epoch 88/200\n",
            "24/24 [==============================] - 0s 14ms/step - loss: 0.3088 - accuracy: 0.8879 - val_loss: 0.2922 - val_accuracy: 0.9008\n",
            "Epoch 89/200\n",
            "24/24 [==============================] - 0s 13ms/step - loss: 0.3076 - accuracy: 0.8909 - val_loss: 0.2917 - val_accuracy: 0.8995\n",
            "Epoch 90/200\n",
            "24/24 [==============================] - 0s 17ms/step - loss: 0.3103 - accuracy: 0.8891 - val_loss: 0.2929 - val_accuracy: 0.8975\n",
            "Epoch 91/200\n",
            "24/24 [==============================] - 0s 20ms/step - loss: 0.3123 - accuracy: 0.8866 - val_loss: 0.2922 - val_accuracy: 0.9001\n",
            "Epoch 92/200\n",
            "24/24 [==============================] - 0s 19ms/step - loss: 0.3114 - accuracy: 0.8876 - val_loss: 0.2935 - val_accuracy: 0.8988\n",
            "Epoch 93/200\n",
            "24/24 [==============================] - 0s 17ms/step - loss: 0.3074 - accuracy: 0.8892 - val_loss: 0.2922 - val_accuracy: 0.9015\n",
            "Epoch 94/200\n",
            "24/24 [==============================] - 0s 13ms/step - loss: 0.3088 - accuracy: 0.8900 - val_loss: 0.2920 - val_accuracy: 0.9015\n",
            "Epoch 95/200\n",
            "24/24 [==============================] - 0s 19ms/step - loss: 0.3113 - accuracy: 0.8876 - val_loss: 0.2929 - val_accuracy: 0.9008\n",
            "Epoch 96/200\n",
            "24/24 [==============================] - 0s 15ms/step - loss: 0.3114 - accuracy: 0.8889 - val_loss: 0.2933 - val_accuracy: 0.8995\n",
            "Epoch 97/200\n",
            "24/24 [==============================] - 0s 16ms/step - loss: 0.3092 - accuracy: 0.8900 - val_loss: 0.2913 - val_accuracy: 0.9015\n",
            "Epoch 98/200\n",
            "24/24 [==============================] - 1s 22ms/step - loss: 0.3111 - accuracy: 0.8862 - val_loss: 0.2929 - val_accuracy: 0.8995\n",
            "Epoch 99/200\n",
            "24/24 [==============================] - 0s 17ms/step - loss: 0.3108 - accuracy: 0.8884 - val_loss: 0.2925 - val_accuracy: 0.8981\n",
            "Epoch 100/200\n",
            "24/24 [==============================] - 0s 12ms/step - loss: 0.3119 - accuracy: 0.8856 - val_loss: 0.2923 - val_accuracy: 0.9015\n",
            "Epoch 101/200\n",
            "24/24 [==============================] - 0s 12ms/step - loss: 0.3124 - accuracy: 0.8884 - val_loss: 0.2953 - val_accuracy: 0.8995\n",
            "Epoch 102/200\n",
            "24/24 [==============================] - 0s 13ms/step - loss: 0.3082 - accuracy: 0.8929 - val_loss: 0.2931 - val_accuracy: 0.8968\n",
            "Epoch 103/200\n",
            "24/24 [==============================] - 0s 12ms/step - loss: 0.3115 - accuracy: 0.8876 - val_loss: 0.2924 - val_accuracy: 0.8995\n",
            "Epoch 104/200\n",
            "24/24 [==============================] - 0s 13ms/step - loss: 0.3074 - accuracy: 0.8902 - val_loss: 0.2928 - val_accuracy: 0.9008\n",
            "Epoch 105/200\n",
            "24/24 [==============================] - 0s 14ms/step - loss: 0.3086 - accuracy: 0.8904 - val_loss: 0.2920 - val_accuracy: 0.9028\n",
            "Epoch 106/200\n",
            "24/24 [==============================] - 0s 20ms/step - loss: 0.3111 - accuracy: 0.8887 - val_loss: 0.2926 - val_accuracy: 0.8995\n",
            "Epoch 107/200\n",
            "24/24 [==============================] - 0s 18ms/step - loss: 0.3101 - accuracy: 0.8902 - val_loss: 0.2934 - val_accuracy: 0.8955\n",
            "Epoch 108/200\n",
            "24/24 [==============================] - 0s 12ms/step - loss: 0.3094 - accuracy: 0.8892 - val_loss: 0.2919 - val_accuracy: 0.8995\n",
            "Epoch 109/200\n",
            "24/24 [==============================] - 0s 8ms/step - loss: 0.3085 - accuracy: 0.8886 - val_loss: 0.2919 - val_accuracy: 0.8975\n",
            "Epoch 110/200\n",
            "24/24 [==============================] - 0s 8ms/step - loss: 0.3114 - accuracy: 0.8889 - val_loss: 0.2924 - val_accuracy: 0.8988\n",
            "Epoch 111/200\n",
            "24/24 [==============================] - 0s 9ms/step - loss: 0.3075 - accuracy: 0.8886 - val_loss: 0.2928 - val_accuracy: 0.8981\n",
            "Epoch 112/200\n",
            "24/24 [==============================] - 0s 8ms/step - loss: 0.3057 - accuracy: 0.8905 - val_loss: 0.2930 - val_accuracy: 0.8995\n",
            "Epoch 113/200\n",
            "24/24 [==============================] - 0s 8ms/step - loss: 0.3093 - accuracy: 0.8899 - val_loss: 0.2936 - val_accuracy: 0.8968\n",
            "Epoch 114/200\n",
            "24/24 [==============================] - 0s 9ms/step - loss: 0.3055 - accuracy: 0.8894 - val_loss: 0.2929 - val_accuracy: 0.9028\n",
            "Epoch 115/200\n",
            "24/24 [==============================] - 0s 8ms/step - loss: 0.3112 - accuracy: 0.8848 - val_loss: 0.2920 - val_accuracy: 0.9001\n",
            "Epoch 116/200\n",
            "24/24 [==============================] - 0s 8ms/step - loss: 0.3069 - accuracy: 0.8881 - val_loss: 0.2918 - val_accuracy: 0.9001\n",
            "Epoch 117/200\n",
            "24/24 [==============================] - 0s 9ms/step - loss: 0.3099 - accuracy: 0.8910 - val_loss: 0.2916 - val_accuracy: 0.8995\n",
            "Epoch 118/200\n",
            "24/24 [==============================] - 0s 8ms/step - loss: 0.3105 - accuracy: 0.8902 - val_loss: 0.2923 - val_accuracy: 0.8988\n",
            "Epoch 119/200\n",
            "24/24 [==============================] - 0s 8ms/step - loss: 0.3088 - accuracy: 0.8900 - val_loss: 0.2916 - val_accuracy: 0.8988\n",
            "Epoch 120/200\n",
            "24/24 [==============================] - 0s 8ms/step - loss: 0.3082 - accuracy: 0.8881 - val_loss: 0.2903 - val_accuracy: 0.9028\n",
            "Epoch 121/200\n",
            "24/24 [==============================] - 0s 9ms/step - loss: 0.3091 - accuracy: 0.8934 - val_loss: 0.2913 - val_accuracy: 0.9001\n",
            "Epoch 122/200\n",
            "24/24 [==============================] - 0s 8ms/step - loss: 0.3106 - accuracy: 0.8877 - val_loss: 0.2941 - val_accuracy: 0.8981\n",
            "Epoch 123/200\n",
            "24/24 [==============================] - 0s 8ms/step - loss: 0.3090 - accuracy: 0.8891 - val_loss: 0.2918 - val_accuracy: 0.9001\n",
            "Epoch 124/200\n",
            "24/24 [==============================] - 0s 9ms/step - loss: 0.3110 - accuracy: 0.8899 - val_loss: 0.2923 - val_accuracy: 0.9001\n",
            "Epoch 125/200\n",
            "24/24 [==============================] - 0s 8ms/step - loss: 0.3092 - accuracy: 0.8897 - val_loss: 0.2923 - val_accuracy: 0.9001\n",
            "Epoch 126/200\n",
            "24/24 [==============================] - 0s 8ms/step - loss: 0.3089 - accuracy: 0.8879 - val_loss: 0.2925 - val_accuracy: 0.9015\n",
            "Epoch 127/200\n",
            "24/24 [==============================] - 0s 8ms/step - loss: 0.3094 - accuracy: 0.8874 - val_loss: 0.2923 - val_accuracy: 0.8988\n",
            "Epoch 128/200\n",
            "24/24 [==============================] - 0s 8ms/step - loss: 0.3091 - accuracy: 0.8871 - val_loss: 0.2923 - val_accuracy: 0.9028\n",
            "Epoch 129/200\n",
            "24/24 [==============================] - 0s 8ms/step - loss: 0.3138 - accuracy: 0.8879 - val_loss: 0.2927 - val_accuracy: 0.9015\n",
            "Epoch 130/200\n",
            "24/24 [==============================] - 0s 8ms/step - loss: 0.3110 - accuracy: 0.8904 - val_loss: 0.2931 - val_accuracy: 0.8981\n",
            "Epoch 131/200\n",
            "24/24 [==============================] - 0s 8ms/step - loss: 0.3099 - accuracy: 0.8905 - val_loss: 0.2921 - val_accuracy: 0.9008\n",
            "Epoch 132/200\n",
            "24/24 [==============================] - 0s 8ms/step - loss: 0.3091 - accuracy: 0.8910 - val_loss: 0.2923 - val_accuracy: 0.9008\n",
            "Epoch 133/200\n",
            "24/24 [==============================] - 0s 8ms/step - loss: 0.3097 - accuracy: 0.8904 - val_loss: 0.2931 - val_accuracy: 0.8981\n",
            "Epoch 134/200\n",
            "24/24 [==============================] - 0s 9ms/step - loss: 0.3083 - accuracy: 0.8902 - val_loss: 0.2942 - val_accuracy: 0.9015\n",
            "Epoch 135/200\n",
            "24/24 [==============================] - 0s 8ms/step - loss: 0.3072 - accuracy: 0.8887 - val_loss: 0.2933 - val_accuracy: 0.8975\n",
            "Epoch 136/200\n",
            "24/24 [==============================] - 0s 8ms/step - loss: 0.3095 - accuracy: 0.8894 - val_loss: 0.2940 - val_accuracy: 0.9028\n",
            "Epoch 137/200\n",
            "24/24 [==============================] - 0s 8ms/step - loss: 0.3104 - accuracy: 0.8920 - val_loss: 0.2922 - val_accuracy: 0.8981\n",
            "Epoch 138/200\n",
            "24/24 [==============================] - 0s 8ms/step - loss: 0.3104 - accuracy: 0.8891 - val_loss: 0.2946 - val_accuracy: 0.8995\n",
            "Epoch 139/200\n",
            "24/24 [==============================] - 0s 8ms/step - loss: 0.3085 - accuracy: 0.8907 - val_loss: 0.2926 - val_accuracy: 0.8995\n",
            "Epoch 140/200\n",
            "24/24 [==============================] - 0s 8ms/step - loss: 0.3127 - accuracy: 0.8889 - val_loss: 0.2925 - val_accuracy: 0.8968\n",
            "Epoch 141/200\n",
            "24/24 [==============================] - 0s 8ms/step - loss: 0.3115 - accuracy: 0.8871 - val_loss: 0.2934 - val_accuracy: 0.8975\n",
            "Epoch 142/200\n",
            "24/24 [==============================] - 0s 13ms/step - loss: 0.3088 - accuracy: 0.8881 - val_loss: 0.2944 - val_accuracy: 0.8988\n",
            "Epoch 143/200\n",
            "24/24 [==============================] - 0s 14ms/step - loss: 0.3101 - accuracy: 0.8925 - val_loss: 0.2934 - val_accuracy: 0.9008\n",
            "Epoch 144/200\n",
            "24/24 [==============================] - 0s 12ms/step - loss: 0.3071 - accuracy: 0.8897 - val_loss: 0.2933 - val_accuracy: 0.8995\n",
            "Epoch 145/200\n",
            "24/24 [==============================] - 0s 12ms/step - loss: 0.3079 - accuracy: 0.8935 - val_loss: 0.2940 - val_accuracy: 0.9008\n",
            "Epoch 146/200\n",
            "24/24 [==============================] - 0s 12ms/step - loss: 0.3082 - accuracy: 0.8892 - val_loss: 0.2926 - val_accuracy: 0.8975\n",
            "Epoch 147/200\n",
            "24/24 [==============================] - 0s 12ms/step - loss: 0.3101 - accuracy: 0.8859 - val_loss: 0.2934 - val_accuracy: 0.9001\n",
            "Epoch 148/200\n",
            "24/24 [==============================] - 0s 12ms/step - loss: 0.3119 - accuracy: 0.8889 - val_loss: 0.2930 - val_accuracy: 0.9001\n",
            "Epoch 149/200\n",
            "24/24 [==============================] - 0s 14ms/step - loss: 0.3061 - accuracy: 0.8932 - val_loss: 0.2924 - val_accuracy: 0.8995\n",
            "Epoch 150/200\n",
            "24/24 [==============================] - 0s 17ms/step - loss: 0.3105 - accuracy: 0.8905 - val_loss: 0.2926 - val_accuracy: 0.8988\n",
            "Epoch 151/200\n",
            "24/24 [==============================] - 1s 21ms/step - loss: 0.3097 - accuracy: 0.8876 - val_loss: 0.2926 - val_accuracy: 0.8962\n",
            "Epoch 152/200\n",
            "24/24 [==============================] - 0s 19ms/step - loss: 0.3082 - accuracy: 0.8894 - val_loss: 0.2942 - val_accuracy: 0.8988\n",
            "Epoch 153/200\n",
            "24/24 [==============================] - 0s 16ms/step - loss: 0.3071 - accuracy: 0.8902 - val_loss: 0.2922 - val_accuracy: 0.9001\n",
            "Epoch 154/200\n",
            "24/24 [==============================] - 1s 21ms/step - loss: 0.3094 - accuracy: 0.8889 - val_loss: 0.2945 - val_accuracy: 0.8981\n",
            "Epoch 155/200\n",
            "24/24 [==============================] - 0s 14ms/step - loss: 0.3102 - accuracy: 0.8882 - val_loss: 0.2934 - val_accuracy: 0.9021\n",
            "Epoch 156/200\n",
            "24/24 [==============================] - 0s 19ms/step - loss: 0.3121 - accuracy: 0.8884 - val_loss: 0.2935 - val_accuracy: 0.8988\n",
            "Epoch 157/200\n",
            "24/24 [==============================] - 0s 14ms/step - loss: 0.3109 - accuracy: 0.8887 - val_loss: 0.2959 - val_accuracy: 0.8962\n",
            "Epoch 158/200\n",
            "24/24 [==============================] - 0s 12ms/step - loss: 0.3101 - accuracy: 0.8894 - val_loss: 0.2928 - val_accuracy: 0.9008\n",
            "Epoch 159/200\n",
            "24/24 [==============================] - 0s 12ms/step - loss: 0.3098 - accuracy: 0.8896 - val_loss: 0.2912 - val_accuracy: 0.9041\n",
            "Epoch 160/200\n",
            "24/24 [==============================] - 0s 14ms/step - loss: 0.3108 - accuracy: 0.8900 - val_loss: 0.2920 - val_accuracy: 0.9008\n",
            "Epoch 161/200\n",
            "24/24 [==============================] - 1s 24ms/step - loss: 0.3097 - accuracy: 0.8919 - val_loss: 0.2941 - val_accuracy: 0.8995\n",
            "Epoch 162/200\n",
            "24/24 [==============================] - 0s 14ms/step - loss: 0.3077 - accuracy: 0.8905 - val_loss: 0.2918 - val_accuracy: 0.9008\n",
            "Epoch 163/200\n",
            "24/24 [==============================] - 0s 13ms/step - loss: 0.3090 - accuracy: 0.8902 - val_loss: 0.2926 - val_accuracy: 0.9008\n",
            "Epoch 164/200\n",
            "24/24 [==============================] - 0s 14ms/step - loss: 0.3082 - accuracy: 0.8905 - val_loss: 0.2937 - val_accuracy: 0.9001\n",
            "Epoch 165/200\n",
            "24/24 [==============================] - 0s 13ms/step - loss: 0.3088 - accuracy: 0.8896 - val_loss: 0.2919 - val_accuracy: 0.9021\n",
            "Epoch 166/200\n",
            "24/24 [==============================] - 0s 9ms/step - loss: 0.3072 - accuracy: 0.8925 - val_loss: 0.2924 - val_accuracy: 0.9015\n",
            "Epoch 167/200\n",
            "24/24 [==============================] - 0s 14ms/step - loss: 0.3134 - accuracy: 0.8869 - val_loss: 0.2926 - val_accuracy: 0.9041\n",
            "Epoch 168/200\n",
            "24/24 [==============================] - 0s 17ms/step - loss: 0.3073 - accuracy: 0.8904 - val_loss: 0.2928 - val_accuracy: 0.8995\n",
            "Epoch 169/200\n",
            "24/24 [==============================] - 0s 15ms/step - loss: 0.3092 - accuracy: 0.8919 - val_loss: 0.2925 - val_accuracy: 0.9015\n",
            "Epoch 170/200\n",
            "24/24 [==============================] - 0s 16ms/step - loss: 0.3081 - accuracy: 0.8932 - val_loss: 0.2928 - val_accuracy: 0.8995\n"
          ]
        }
      ]
    },
    {
      "cell_type": "code",
      "source": [
        "plt.plot(history.history['accuracy'])\n",
        "plt.plot(history.history['val_accuracy'])\n",
        "plt.title('model accuracy')\n",
        "plt.ylabel('accuracy')\n",
        "plt.xlabel('epoch')\n",
        "plt.legend(['train', 'val'], loc='upper left')\n",
        "plt.show()\n",
        "\n",
        "plt.plot(history.history['loss'])\n",
        "plt.plot(history.history['val_loss'])\n",
        "plt.title('model loss')\n",
        "plt.ylabel('loss')\n",
        "plt.xlabel('epoch')\n",
        "plt.legend(['train', 'val'], loc='upper left')\n",
        "plt.show()"
      ],
      "metadata": {
        "colab": {
          "base_uri": "https://localhost:8080/",
          "height": 927
        },
        "outputId": "616eb7b3-71eb-4654-e52b-4725dcc95d3e",
        "id": "V8HajLBUVVem"
      },
      "execution_count": null,
      "outputs": [
        {
          "output_type": "display_data",
          "data": {
            "text/plain": [
              "<Figure size 640x480 with 1 Axes>"
            ],
            "image/png": "[encoded data removed]"
          },
          "metadata": {}
        },
        {
          "output_type": "display_data",
          "data": {
            "text/plain": [
              "<Figure size 640x480 with 1 Axes>"
            ],
            "image/png": "[encoded data removed]"
          },
          "metadata": {}
        }
      ]
    },
    {
      "cell_type": "code",
      "source": [
        "channel_4_testing_data.shape"
      ],
      "metadata": {
        "colab": {
          "base_uri": "https://localhost:8080/"
        },
        "outputId": "ccb6171a-4f93-4e9a-bd49-6dfd8ab7681c",
        "id": "Cm1DjwGEVVem"
      },
      "execution_count": null,
      "outputs": [
        {
          "output_type": "execute_result",
          "data": {
            "text/plain": [
              "(5580, 240, 4)"
            ]
          },
          "metadata": {},
          "execution_count": 195
        }
      ]
    },
    {
      "cell_type": "markdown",
      "source": [
        "## Character spelling task"
      ],
      "metadata": {
        "id": "H52DzPfl3uCM"
      }
    },
    {
      "cell_type": "code",
      "source": [
        "testing_labels['P300_prob'] = model.predict(channel_4_testing_data)[:, 1]\n",
        "testing_labels"
      ],
      "metadata": {
        "colab": {
          "base_uri": "https://localhost:8080/",
          "height": 441
        },
        "outputId": "01765c57-3776-47bd-ce8c-4c9cb1c1d82b",
        "id": "reNYZDY9VVem"
      },
      "execution_count": null,
      "outputs": [
        {
          "output_type": "stream",
          "name": "stdout",
          "text": [
            "175/175 [==============================] - 0s 2ms/step\n"
          ]
        },
        {
          "output_type": "execute_result",
          "data": {
            "text/plain": [
              "     epoch row/column true_character true_character_index  P300_prob\n",
              "0        1          6              F                    0   0.328117\n",
              "1        1         12              F                    0   0.029008\n",
              "2        1          8              F                    0   0.356734\n",
              "3        1          3              F                    0   0.060053\n",
              "4        1          4              F                    0   0.036883\n",
              "...    ...        ...            ...                  ...        ...\n",
              "5575    15          7              7                   30   0.313326\n",
              "5576    15          8              7                   30   0.136846\n",
              "5577    15          4              7                   30   0.048978\n",
              "5578    15          9              7                   30   0.048300\n",
              "5579    15          2              7                   30   0.145606\n",
              "\n",
              "[5580 rows x 5 columns]"
            ],
            "text/html": [
              "\n",
              "  <div id=\"df-6924c179-ba76-41de-ada2-0baccb8cfeab\">\n",
              "    <div class=\"colab-df-container\">\n",
              "      <div>\n",
              "<style scoped>\n",
              "    .dataframe tbody tr th:only-of-type {\n",
              "        vertical-align: middle;\n",
              "    }\n",
              "\n",
              "    .dataframe tbody tr th {\n",
              "        vertical-align: top;\n",
              "    }\n",
              "\n",
              "    .dataframe thead th {\n",
              "        text-align: right;\n",
              "    }\n",
              "</style>\n",
              "<table border=\"1\" class=\"dataframe\">\n",
              "  <thead>\n",
              "    <tr style=\"text-align: right;\">\n",
              "      <th></th>\n",
              "      <th>epoch</th>\n",
              "      <th>row/column</th>\n",
              "      <th>true_character</th>\n",
              "      <th>true_character_index</th>\n",
              "      <th>P300_prob</th>\n",
              "    </tr>\n",
              "  </thead>\n",
              "  <tbody>\n",
              "    <tr>\n",
              "      <th>0</th>\n",
              "      <td>1</td>\n",
              "      <td>6</td>\n",
              "      <td>F</td>\n",
              "      <td>0</td>\n",
              "      <td>0.328117</td>\n",
              "    </tr>\n",
              "    <tr>\n",
              "      <th>1</th>\n",
              "      <td>1</td>\n",
              "      <td>12</td>\n",
              "      <td>F</td>\n",
              "      <td>0</td>\n",
              "      <td>0.029008</td>\n",
              "    </tr>\n",
              "    <tr>\n",
              "      <th>2</th>\n",
              "      <td>1</td>\n",
              "      <td>8</td>\n",
              "      <td>F</td>\n",
              "      <td>0</td>\n",
              "      <td>0.356734</td>\n",
              "    </tr>\n",
              "    <tr>\n",
              "      <th>3</th>\n",
              "      <td>1</td>\n",
              "      <td>3</td>\n",
              "      <td>F</td>\n",
              "      <td>0</td>\n",
              "      <td>0.060053</td>\n",
              "    </tr>\n",
              "    <tr>\n",
              "      <th>4</th>\n",
              "      <td>1</td>\n",
              "      <td>4</td>\n",
              "      <td>F</td>\n",
              "      <td>0</td>\n",
              "      <td>0.036883</td>\n",
              "    </tr>\n",
              "    <tr>\n",
              "      <th>...</th>\n",
              "      <td>...</td>\n",
              "      <td>...</td>\n",
              "      <td>...</td>\n",
              "      <td>...</td>\n",
              "      <td>...</td>\n",
              "    </tr>\n",
              "    <tr>\n",
              "      <th>5575</th>\n",
              "      <td>15</td>\n",
              "      <td>7</td>\n",
              "      <td>7</td>\n",
              "      <td>30</td>\n",
              "      <td>0.313326</td>\n",
              "    </tr>\n",
              "    <tr>\n",
              "      <th>5576</th>\n",
              "      <td>15</td>\n",
              "      <td>8</td>\n",
              "      <td>7</td>\n",
              "      <td>30</td>\n",
              "      <td>0.136846</td>\n",
              "    </tr>\n",
              "    <tr>\n",
              "      <th>5577</th>\n",
              "      <td>15</td>\n",
              "      <td>4</td>\n",
              "      <td>7</td>\n",
              "      <td>30</td>\n",
              "      <td>0.048978</td>\n",
              "    </tr>\n",
              "    <tr>\n",
              "      <th>5578</th>\n",
              "      <td>15</td>\n",
              "      <td>9</td>\n",
              "      <td>7</td>\n",
              "      <td>30</td>\n",
              "      <td>0.048300</td>\n",
              "    </tr>\n",
              "    <tr>\n",
              "      <th>5579</th>\n",
              "      <td>15</td>\n",
              "      <td>2</td>\n",
              "      <td>7</td>\n",
              "      <td>30</td>\n",
              "      <td>0.145606</td>\n",
              "    </tr>\n",
              "  </tbody>\n",
              "</table>\n",
              "<p>5580 rows × 5 columns</p>\n",
              "</div>\n",
              "      <button class=\"colab-df-convert\" onclick=\"convertToInteractive('df-6924c179-ba76-41de-ada2-0baccb8cfeab')\"\n",
              "              title=\"Convert this dataframe to an interactive table.\"\n",
              "              style=\"display:none;\">\n",
              "        \n",
              "  <svg xmlns=\"http://www.w3.org/2000/svg\" height=\"24px\"viewBox=\"0 0 24 24\"\n",
              "       width=\"24px\">\n",
              "    <path d=\"M0 0h24v24H0V0z\" fill=\"none\"/>\n",
              "    <path d=\"M18.56 5.44l.94 2.06.94-2.06 2.06-.94-2.06-.94-.94-2.06-.94 2.06-2.06.94zm-11 1L8.5 8.5l.94-2.06 2.06-.94-2.06-.94L8.5 2.5l-.94 2.06-2.06.94zm10 10l.94 2.06.94-2.06 2.06-.94-2.06-.94-.94-2.06-.94 2.06-2.06.94z\"/><path d=\"M17.41 7.96l-1.37-1.37c-.4-.4-.92-.59-1.43-.59-.52 0-1.04.2-1.43.59L10.3 9.45l-7.72 7.72c-.78.78-.78 2.05 0 2.83L4 21.41c.39.39.9.59 1.41.59.51 0 1.02-.2 1.41-.59l7.78-7.78 2.81-2.81c.8-.78.8-2.07 0-2.86zM5.41 20L4 18.59l7.72-7.72 1.47 1.35L5.41 20z\"/>\n",
              "  </svg>\n",
              "      </button>\n",
              "      \n",
              "  <style>\n",
              "    .colab-df-container {\n",
              "      display:flex;\n",
              "      flex-wrap:wrap;\n",
              "      gap: 12px;\n",
              "    }\n",
              "\n",
              "    .colab-df-convert {\n",
              "      background-color: #E8F0FE;\n",
              "      border: none;\n",
              "      border-radius: 50%;\n",
              "      cursor: pointer;\n",
              "      display: none;\n",
              "      fill: #1967D2;\n",
              "      height: 32px;\n",
              "      padding: 0 0 0 0;\n",
              "      width: 32px;\n",
              "    }\n",
              "\n",
              "    .colab-df-convert:hover {\n",
              "      background-color: #E2EBFA;\n",
              "      box-shadow: 0px 1px 2px rgba(60, 64, 67, 0.3), 0px 1px 3px 1px rgba(60, 64, 67, 0.15);\n",
              "      fill: #174EA6;\n",
              "    }\n",
              "\n",
              "    [theme=dark] .colab-df-convert {\n",
              "      background-color: #3B4455;\n",
              "      fill: #D2E3FC;\n",
              "    }\n",
              "\n",
              "    [theme=dark] .colab-df-convert:hover {\n",
              "      background-color: #434B5C;\n",
              "      box-shadow: 0px 1px 3px 1px rgba(0, 0, 0, 0.15);\n",
              "      filter: drop-shadow(0px 1px 2px rgba(0, 0, 0, 0.3));\n",
              "      fill: #FFFFFF;\n",
              "    }\n",
              "  </style>\n",
              "\n",
              "      <script>\n",
              "        const buttonEl =\n",
              "          document.querySelector('#df-6924c179-ba76-41de-ada2-0baccb8cfeab button.colab-df-convert');\n",
              "        buttonEl.style.display =\n",
              "          google.colab.kernel.accessAllowed ? 'block' : 'none';\n",
              "\n",
              "        async function convertToInteractive(key) {\n",
              "          const element = document.querySelector('#df-6924c179-ba76-41de-ada2-0baccb8cfeab');\n",
              "          const dataTable =\n",
              "            await google.colab.kernel.invokeFunction('convertToInteractive',\n",
              "                                                     [key], {});\n",
              "          if (!dataTable) return;\n",
              "\n",
              "          const docLinkHtml = 'Like what you see? Visit the ' +\n",
              "            '<a target=\"_blank\" href=https://colab.research.google.com/notebooks/data_table.ipynb>data table notebook</a>'\n",
              "            + ' to learn more about interactive tables.';\n",
              "          element.innerHTML = '';\n",
              "          dataTable['output_type'] = 'display_data';\n",
              "          await google.colab.output.renderOutput(dataTable, element);\n",
              "          const docLink = document.createElement('div');\n",
              "          docLink.innerHTML = docLinkHtml;\n",
              "          element.appendChild(docLink);\n",
              "        }\n",
              "      </script>\n",
              "    </div>\n",
              "  </div>\n",
              "  "
            ]
          },
          "metadata": {},
          "execution_count": 196
        }
      ]
    },
    {
      "cell_type": "code",
      "source": [
        "chara_map = {(7, 1): 'A', (7, 2): 'B', (7, 3): 'C', (7, 4): 'D', (7, 5): 'E', (7, 6): 'F',\n",
        " (8, 1): 'G', (8, 2): 'H', (8, 3): 'I', (8, 4): 'J', (8, 5): 'K', (8, 6): 'L', \n",
        " (9, 1): 'M', (9, 2): 'N', (9, 3): 'O', (9, 4): 'P', (9, 5): 'Q', (9, 6): 'R',\n",
        " (10, 1): 'S',(10, 2): 'T', (10, 3): 'U', (10, 4): 'V', (10, 5): 'W', (10, 6): 'X',\n",
        " (11, 1): 'Y', (11, 2): 'Z', (11, 3): '1', (11, 4): '2', (11, 5): '3', (11, 6): '4',\n",
        " (12, 1): '5',(12, 2): '6', (12, 3): '7', (12, 4): '8', (12, 5): '9', (12, 6): '_'}\n",
        "\n",
        "for spelling_epoch in range(1, 16):\n",
        "    # print(testing_label[testing_label['epoch'] <= spelling_epoch].sort_values(['row/column', 'true_character_index']))\n",
        "    filtered_testing_label = testing_labels[testing_labels['epoch'] <= spelling_epoch].groupby(['row/column', 'true_character', 'true_character_index'], as_index = False).sum()[['row/column','true_character', 'true_character_index', 'P300_prob']]\n",
        "    # print(filtered_testing_label.sort_values(['row/column', 'true_character_index']))\n",
        "\n",
        "    row_argmax = filtered_testing_label[filtered_testing_label['row/column'] > 6]\n",
        "    # print(row_argmax[row_argmax['true_character'] == 'W'].sort_values(['true_character_index']))\n",
        "    row_argmax = row_argmax.sort_values('P300_prob', ascending=False).drop_duplicates(['true_character', 'true_character_index'])\n",
        "    # print(row_argmax.sort_values(['true_character_index']))\n",
        "    row_argmax = row_argmax.rename(columns = {'row/column' : 'max_row_index'})\n",
        "\n",
        "    # print(row_argmax.sort_values(['true_character_index']))\n",
        "\n",
        "    col_argmax = filtered_testing_label[filtered_testing_label['row/column'] <= 6]\n",
        "    col_argmax = col_argmax.sort_values('P300_prob', ascending=False).drop_duplicates(['true_character', 'true_character_index'])\n",
        "    col_argmax = col_argmax.rename(columns = {'row/column' : 'max_col_index'})\n",
        "\n",
        "    # print(col_argmax.sort_values(['true_character_index']))\n",
        "\n",
        "    # print(pd.merge(row_argmax, col_argmax, on = ['true_character','true_character_index']))\n",
        "    chara_df = pd.merge(row_argmax, col_argmax, on = ['true_character','true_character_index'])[['max_row_index', 'max_col_index', 'true_character','true_character_index']]\n",
        "    # print(chara_df)\n",
        "    chara_df['predicted_character'] = chara_df.apply(lambda x: chara_map[(x['max_row_index'], x['max_col_index'])], axis = 1)\n",
        "    chara_df['check_character'] = chara_df.apply(lambda x: x['true_character'] == x['predicted_character'], axis = 1)\n",
        "    # print(chara_df.sort_values(['true_character_index']))\n",
        "    spelling_accuracy = chara_df['check_character'].mean()\n",
        "    print('Character spelling accuracy with {0} epoches: {1}'.format(spelling_epoch, spelling_accuracy))"
      ],
      "metadata": {
        "colab": {
          "base_uri": "https://localhost:8080/"
        },
        "outputId": "adc614f2-3e88-428c-be7e-98fe0e417270",
        "id": "Du2_eHWSVVem"
      },
      "execution_count": null,
      "outputs": [
        {
          "output_type": "stream",
          "name": "stdout",
          "text": [
            "Character spelling accuracy with 1 epoches: 0.6129032258064516\n",
            "Character spelling accuracy with 2 epoches: 0.7419354838709677\n",
            "Character spelling accuracy with 3 epoches: 0.8387096774193549\n",
            "Character spelling accuracy with 4 epoches: 1.0\n",
            "Character spelling accuracy with 5 epoches: 0.967741935483871\n",
            "Character spelling accuracy with 6 epoches: 0.9354838709677419\n",
            "Character spelling accuracy with 7 epoches: 0.9354838709677419\n",
            "Character spelling accuracy with 8 epoches: 0.967741935483871\n",
            "Character spelling accuracy with 9 epoches: 1.0\n",
            "Character spelling accuracy with 10 epoches: 1.0\n",
            "Character spelling accuracy with 11 epoches: 1.0\n",
            "Character spelling accuracy with 12 epoches: 1.0\n",
            "Character spelling accuracy with 13 epoches: 1.0\n",
            "Character spelling accuracy with 14 epoches: 1.0\n",
            "Character spelling accuracy with 15 epoches: 1.0\n"
          ]
        }
      ]
    },
    {
      "cell_type": "markdown",
      "source": [
        "# OCLNN Model with 1 channels"
      ],
      "metadata": {
        "id": "7ifOjboh3w2b"
      }
    },
    {
      "cell_type": "markdown",
      "source": [
        "![image.png](data:image/png;base64,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)"
      ],
      "metadata": {
        "id": "peVRDHbSzTee"
      }
    },
    {
      "cell_type": "markdown",
      "source": [
        "##Load Data"
      ],
      "metadata": {
        "id": "fsaLFMza3zce"
      }
    },
    {
      "cell_type": "code",
      "source": [
        "import pandas as pd\n",
        "training_data = np.load(\"/content/drive/MyDrive/Thesis Project/Example_P300/Processed Data/BCI_IIb_training_data.npy\")\n",
        "training_labels = np.load(\"/content/drive/MyDrive/Thesis Project/Example_P300/Processed Data/BCI_IIb_training_label.npy\")\n",
        "testing_data = np.load(\"/content/drive/MyDrive/Thesis Project/Example_P300/Processed Data/BCI_IIb_testing_data.npy\")\n",
        "testing_labels = pd.DataFrame(np.load(\"/content/drive/MyDrive/Thesis Project/Example_P300/Processed Data/BCI_IIb_testing_label.npy\", allow_pickle=True), \n",
        "                              columns=['epoch','row/column', 'true_character', 'true_character_index', 'P300_prob'])\n",
        "\n",
        "subject = 0\n",
        "print(\"Training data size: {0}\".format(training_data.shape))\n",
        "print(\"Testing data size: {0}\".format(testing_data.shape))"
      ],
      "metadata": {
        "colab": {
          "base_uri": "https://localhost:8080/"
        },
        "outputId": "eab4d0ea-1562-4b3d-e325-29cce01809e0",
        "id": "R9rm9pfYzTef"
      },
      "execution_count": null,
      "outputs": [
        {
          "output_type": "stream",
          "name": "stdout",
          "text": [
            "Training data size: (1, 7560, 240, 64)\n",
            "Testing data size: (5580, 240, 64)\n"
          ]
        }
      ]
    },
    {
      "cell_type": "code",
      "source": [
        "training_data.shape"
      ],
      "metadata": {
        "colab": {
          "base_uri": "https://localhost:8080/"
        },
        "outputId": "f89f4b73-26e8-480e-ece9-f96766a25ee6",
        "id": "vzA6LudyzTef"
      },
      "execution_count": null,
      "outputs": [
        {
          "output_type": "execute_result",
          "data": {
            "text/plain": [
              "(1, 7560, 240, 64)"
            ]
          },
          "metadata": {},
          "execution_count": 214
        }
      ]
    },
    {
      "cell_type": "code",
      "source": [
        "testing_data.shape"
      ],
      "metadata": {
        "colab": {
          "base_uri": "https://localhost:8080/"
        },
        "outputId": "2fd17bef-4434-435c-a03e-238a112a9733",
        "id": "0LHyIoqdzTeg"
      },
      "execution_count": null,
      "outputs": [
        {
          "output_type": "execute_result",
          "data": {
            "text/plain": [
              "(5580, 240, 64)"
            ]
          },
          "metadata": {},
          "execution_count": 215
        }
      ]
    },
    {
      "cell_type": "markdown",
      "source": [
        "##Single Channel Selection"
      ],
      "metadata": {
        "id": "gomEX4K-32QO"
      }
    },
    {
      "cell_type": "code",
      "source": [
        "selected_channel = ['PO7']\n",
        "\n",
        "all_channels = [ 'FC5', 'FC3', 'FC1', 'FCz', 'FC2', 'FC4', 'FC6', 'C5',\n",
        "                'C3',  'C1',  'Cz',  'C2',  'C4',  'C6',  'CP5', 'CP3',\n",
        "                'CP1', 'CPz', 'CP2', 'CP4', 'CP6', 'Fp1', 'Fpz', 'Fp2',\n",
        "                'AF7', 'AF3', 'AFz', 'AF4', 'AF8', 'F7',  'F5',  'F3',\n",
        "                'F1',  'Fz',  'F2',  'F4',  'F6',  'F8',  'FT7', 'FT8',\n",
        "                'T7',  'T8',  'T9',  'T10', 'TP7', 'TP8', 'P7',  'P5',\n",
        "                'P3',  'P1',  'Pz',  'P2',  'P4',  'P6',  'P8',  'PO7',\n",
        "                'PO3', 'POz', 'PO4', 'PO8', 'O1',  'Oz',  'O2',  'Iz' ] \n",
        "\n",
        "def Channel_Filter(all_channels, selected_channel, data):\n",
        "\n",
        "  channel_index = [all_channels.index(channel) for channel in selected_channel]\n",
        "  new_data = data[:, :, channel_index]\n",
        "\n",
        "  # shape = (240, num_selected_channel)\n",
        "  return new_data\n",
        "\n",
        "Channel_Filter(all_channels, selected_channel, training_data[0]).shape\n",
        "channel_4_training_data = np.expand_dims(Channel_Filter(all_channels, selected_channel, training_data[0]), axis=0)\n",
        "channel_4_testing_data = Channel_Filter(all_channels, selected_channel, testing_data)"
      ],
      "metadata": {
        "id": "2mJ-sVO2zTeg"
      },
      "execution_count": null,
      "outputs": []
    },
    {
      "cell_type": "code",
      "source": [
        "channel_4_training_data.shape"
      ],
      "metadata": {
        "colab": {
          "base_uri": "https://localhost:8080/"
        },
        "outputId": "b6c54ae5-6932-44a9-818e-d033c805c2c3",
        "id": "VInHxIqQzTeg"
      },
      "execution_count": null,
      "outputs": [
        {
          "output_type": "execute_result",
          "data": {
            "text/plain": [
              "(1, 7560, 240, 1)"
            ]
          },
          "metadata": {},
          "execution_count": 313
        }
      ]
    },
    {
      "cell_type": "code",
      "source": [
        "channel_4_testing_data.shape"
      ],
      "metadata": {
        "colab": {
          "base_uri": "https://localhost:8080/"
        },
        "outputId": "44c071a6-ab77-4a79-f618-d95baac5833d",
        "id": "NDU4tujDzTeg"
      },
      "execution_count": null,
      "outputs": [
        {
          "output_type": "execute_result",
          "data": {
            "text/plain": [
              "(5580, 240, 1)"
            ]
          },
          "metadata": {},
          "execution_count": 314
        }
      ]
    },
    {
      "cell_type": "code",
      "source": [
        "from sklearn.model_selection import train_test_split\n",
        "# X_train, X_test, y_train, y_test = train_test_split(data[subject], labels[subject], test_size = 0.2, shuffle = True)\n",
        "X_train, X_valid, y_train, y_valid = train_test_split(channel_4_training_data[subject], training_labels[subject], test_size = 0.2, shuffle = True)"
      ],
      "metadata": {
        "id": "o76EoAMXzTeg"
      },
      "execution_count": null,
      "outputs": []
    },
    {
      "cell_type": "code",
      "source": [
        "print(X_train.shape)\n",
        "print(y_train.shape)\n",
        "# print(X_test.shape)\n",
        "# print(y_test.shape)"
      ],
      "metadata": {
        "colab": {
          "base_uri": "https://localhost:8080/"
        },
        "outputId": "0108cd23-41ef-4a96-f99e-61e87ff8dfc3",
        "id": "p-hSEZVczTeg"
      },
      "execution_count": null,
      "outputs": [
        {
          "output_type": "stream",
          "name": "stdout",
          "text": [
            "(6048, 240, 1)\n",
            "(6048,)\n"
          ]
        }
      ]
    },
    {
      "cell_type": "markdown",
      "source": [
        "## Model Architecture"
      ],
      "metadata": {
        "id": "A7rOOD9z3680"
      }
    },
    {
      "cell_type": "code",
      "source": [
        "K.clear_session()\n",
        "model = models.Sequential()\n",
        "model.add(layers.Input(shape = (240, 1)))\n",
        "# model.add(layers.ZeroPadding1D(padding = 2))\n",
        "model.add(layers.Conv1D(16, 16, strides = 16,\n",
        "                          padding = 'valid',\n",
        "                          data_format = 'channels_last',\n",
        "                          kernel_initializer = 'glorot_uniform',\n",
        "                          bias_initializer = 'zeros',\n",
        "                          kernel_regularizer = 'l2',\n",
        "                          bias_regularizer = 'l2',\n",
        "                          use_bias = True))\n",
        "# model.add(layers.Conv1D(16, kernel_size = (16,),strides = 16, activation='relu', input_shape=(240, 64)))\n",
        "model.add(layers.Dropout(0.25))\n",
        "model.add(layers.Flatten())\n",
        "model.add(layers.Dense(2, activation='softmax', kernel_regularizer= \"l2\", bias_regularizer= \"l2\"))\n",
        "# model.add(layers.Dense(2, activation='softmax'))\n",
        "model.add(layers.Flatten())"
      ],
      "metadata": {
        "id": "IlGdkSDuzTeg"
      },
      "execution_count": null,
      "outputs": []
    },
    {
      "cell_type": "code",
      "source": [
        "model.summary()"
      ],
      "metadata": {
        "colab": {
          "base_uri": "https://localhost:8080/"
        },
        "outputId": "3261027e-0bc5-46b8-f47c-6deecc3794b5",
        "id": "0yWxUlPTzTeh"
      },
      "execution_count": null,
      "outputs": [
        {
          "output_type": "stream",
          "name": "stdout",
          "text": [
            "Model: \"sequential\"\n",
            "_________________________________________________________________\n",
            " Layer (type)                Output Shape              Param #   \n",
            "=================================================================\n",
            " conv1d (Conv1D)             (None, 15, 16)            272       \n",
            "                                                                 \n",
            " dropout (Dropout)           (None, 15, 16)            0         \n",
            "                                                                 \n",
            " flatten (Flatten)           (None, 240)               0         \n",
            "                                                                 \n",
            " dense (Dense)               (None, 2)                 482       \n",
            "                                                                 \n",
            " flatten_1 (Flatten)         (None, 2)                 0         \n",
            "                                                                 \n",
            "=================================================================\n",
            "Total params: 754\n",
            "Trainable params: 754\n",
            "Non-trainable params: 0\n",
            "_________________________________________________________________\n"
          ]
        }
      ]
    },
    {
      "cell_type": "markdown",
      "source": [
        "## Run Model"
      ],
      "metadata": {
        "id": "UGMm3o6439qJ"
      }
    },
    {
      "cell_type": "code",
      "source": [
        "model.compile(optimizer = 'adam', loss = 'categorical_crossentropy', metrics=['accuracy'])\n",
        "\n",
        "# class_weight = {0: 5, 1: 1}\n",
        "es = EarlyStopping(monitor = 'val_loss', mode = 'min', patience = 50, restore_best_weights = True)\n",
        "history = model.fit(X_train, to_categorical(y_train),batch_size = 256,epochs = 200,validation_data = (X_valid, to_categorical(y_valid)),callbacks = [es])\n",
        "# history = model.fit(X_train, y_train, epochs= 150, batch_size = 128, validation_data= [X_test, y_test])"
      ],
      "metadata": {
        "colab": {
          "base_uri": "https://localhost:8080/"
        },
        "outputId": "2078570d-e6c7-4e0f-8e6f-0ab799422664",
        "id": "RN5qquhIzTeh"
      },
      "execution_count": null,
      "outputs": [
        {
          "output_type": "stream",
          "name": "stdout",
          "text": [
            "Epoch 1/200\n",
            "24/24 [==============================] - 1s 14ms/step - loss: 0.7409 - accuracy: 0.5815 - val_loss: 0.6500 - val_accuracy: 0.6911\n",
            "Epoch 2/200\n",
            "24/24 [==============================] - 0s 6ms/step - loss: 0.6086 - accuracy: 0.7416 - val_loss: 0.5457 - val_accuracy: 0.8049\n",
            "Epoch 3/200\n",
            "24/24 [==============================] - 0s 7ms/step - loss: 0.5266 - accuracy: 0.8156 - val_loss: 0.4876 - val_accuracy: 0.8347\n",
            "Epoch 4/200\n",
            "24/24 [==============================] - 0s 8ms/step - loss: 0.4942 - accuracy: 0.8302 - val_loss: 0.4700 - val_accuracy: 0.8399\n",
            "Epoch 5/200\n",
            "24/24 [==============================] - 0s 6ms/step - loss: 0.4818 - accuracy: 0.8318 - val_loss: 0.4609 - val_accuracy: 0.8373\n",
            "Epoch 6/200\n",
            "24/24 [==============================] - 0s 7ms/step - loss: 0.4760 - accuracy: 0.8309 - val_loss: 0.4545 - val_accuracy: 0.8373\n",
            "Epoch 7/200\n",
            "24/24 [==============================] - 0s 7ms/step - loss: 0.4691 - accuracy: 0.8315 - val_loss: 0.4504 - val_accuracy: 0.8366\n",
            "Epoch 8/200\n",
            "24/24 [==============================] - 0s 7ms/step - loss: 0.4643 - accuracy: 0.8309 - val_loss: 0.4457 - val_accuracy: 0.8380\n",
            "Epoch 9/200\n",
            "24/24 [==============================] - 0s 7ms/step - loss: 0.4617 - accuracy: 0.8317 - val_loss: 0.4435 - val_accuracy: 0.8380\n",
            "Epoch 10/200\n",
            "24/24 [==============================] - 0s 8ms/step - loss: 0.4591 - accuracy: 0.8309 - val_loss: 0.4394 - val_accuracy: 0.8373\n",
            "Epoch 11/200\n",
            "24/24 [==============================] - 0s 7ms/step - loss: 0.4571 - accuracy: 0.8307 - val_loss: 0.4384 - val_accuracy: 0.8373\n",
            "Epoch 12/200\n",
            "24/24 [==============================] - 0s 7ms/step - loss: 0.4515 - accuracy: 0.8317 - val_loss: 0.4352 - val_accuracy: 0.8373\n",
            "Epoch 13/200\n",
            "24/24 [==============================] - 0s 6ms/step - loss: 0.4496 - accuracy: 0.8297 - val_loss: 0.4332 - val_accuracy: 0.8366\n",
            "Epoch 14/200\n",
            "24/24 [==============================] - 0s 7ms/step - loss: 0.4479 - accuracy: 0.8312 - val_loss: 0.4315 - val_accuracy: 0.8366\n",
            "Epoch 15/200\n",
            "24/24 [==============================] - 0s 7ms/step - loss: 0.4466 - accuracy: 0.8305 - val_loss: 0.4305 - val_accuracy: 0.8373\n",
            "Epoch 16/200\n",
            "24/24 [==============================] - 0s 7ms/step - loss: 0.4470 - accuracy: 0.8317 - val_loss: 0.4292 - val_accuracy: 0.8373\n",
            "Epoch 17/200\n",
            "24/24 [==============================] - 0s 11ms/step - loss: 0.4447 - accuracy: 0.8325 - val_loss: 0.4278 - val_accuracy: 0.8373\n",
            "Epoch 18/200\n",
            "24/24 [==============================] - 0s 7ms/step - loss: 0.4425 - accuracy: 0.8312 - val_loss: 0.4263 - val_accuracy: 0.8380\n",
            "Epoch 19/200\n",
            "24/24 [==============================] - 0s 7ms/step - loss: 0.4411 - accuracy: 0.8315 - val_loss: 0.4253 - val_accuracy: 0.8373\n",
            "Epoch 20/200\n",
            "24/24 [==============================] - 0s 7ms/step - loss: 0.4413 - accuracy: 0.8320 - val_loss: 0.4246 - val_accuracy: 0.8373\n",
            "Epoch 21/200\n",
            "24/24 [==============================] - 0s 8ms/step - loss: 0.4408 - accuracy: 0.8325 - val_loss: 0.4236 - val_accuracy: 0.8373\n",
            "Epoch 22/200\n",
            "24/24 [==============================] - 0s 7ms/step - loss: 0.4400 - accuracy: 0.8320 - val_loss: 0.4230 - val_accuracy: 0.8366\n",
            "Epoch 23/200\n",
            "24/24 [==============================] - 0s 7ms/step - loss: 0.4380 - accuracy: 0.8317 - val_loss: 0.4223 - val_accuracy: 0.8366\n",
            "Epoch 24/200\n",
            "24/24 [==============================] - 0s 6ms/step - loss: 0.4391 - accuracy: 0.8317 - val_loss: 0.4217 - val_accuracy: 0.8380\n",
            "Epoch 25/200\n",
            "24/24 [==============================] - 0s 9ms/step - loss: 0.4383 - accuracy: 0.8315 - val_loss: 0.4224 - val_accuracy: 0.8360\n",
            "Epoch 26/200\n",
            "24/24 [==============================] - 0s 14ms/step - loss: 0.4385 - accuracy: 0.8318 - val_loss: 0.4206 - val_accuracy: 0.8366\n",
            "Epoch 27/200\n",
            "24/24 [==============================] - 0s 9ms/step - loss: 0.4376 - accuracy: 0.8313 - val_loss: 0.4205 - val_accuracy: 0.8373\n",
            "Epoch 28/200\n",
            "24/24 [==============================] - 0s 12ms/step - loss: 0.4361 - accuracy: 0.8323 - val_loss: 0.4195 - val_accuracy: 0.8380\n",
            "Epoch 29/200\n",
            "24/24 [==============================] - 0s 15ms/step - loss: 0.4362 - accuracy: 0.8318 - val_loss: 0.4201 - val_accuracy: 0.8373\n",
            "Epoch 30/200\n",
            "24/24 [==============================] - 0s 17ms/step - loss: 0.4352 - accuracy: 0.8315 - val_loss: 0.4194 - val_accuracy: 0.8373\n",
            "Epoch 31/200\n",
            "24/24 [==============================] - 0s 18ms/step - loss: 0.4359 - accuracy: 0.8310 - val_loss: 0.4192 - val_accuracy: 0.8380\n",
            "Epoch 32/200\n",
            "24/24 [==============================] - 0s 17ms/step - loss: 0.4357 - accuracy: 0.8305 - val_loss: 0.4188 - val_accuracy: 0.8366\n",
            "Epoch 33/200\n",
            "24/24 [==============================] - 0s 14ms/step - loss: 0.4342 - accuracy: 0.8310 - val_loss: 0.4186 - val_accuracy: 0.8366\n",
            "Epoch 34/200\n",
            "24/24 [==============================] - 0s 20ms/step - loss: 0.4355 - accuracy: 0.8309 - val_loss: 0.4186 - val_accuracy: 0.8366\n",
            "Epoch 35/200\n",
            "24/24 [==============================] - 1s 22ms/step - loss: 0.4348 - accuracy: 0.8304 - val_loss: 0.4185 - val_accuracy: 0.8360\n",
            "Epoch 36/200\n",
            "24/24 [==============================] - 0s 14ms/step - loss: 0.4335 - accuracy: 0.8309 - val_loss: 0.4177 - val_accuracy: 0.8373\n",
            "Epoch 37/200\n",
            "24/24 [==============================] - 0s 18ms/step - loss: 0.4355 - accuracy: 0.8318 - val_loss: 0.4174 - val_accuracy: 0.8373\n",
            "Epoch 38/200\n",
            "24/24 [==============================] - 0s 18ms/step - loss: 0.4340 - accuracy: 0.8310 - val_loss: 0.4187 - val_accuracy: 0.8366\n",
            "Epoch 39/200\n",
            "24/24 [==============================] - 0s 16ms/step - loss: 0.4344 - accuracy: 0.8327 - val_loss: 0.4168 - val_accuracy: 0.8373\n",
            "Epoch 40/200\n",
            "24/24 [==============================] - 0s 14ms/step - loss: 0.4356 - accuracy: 0.8309 - val_loss: 0.4178 - val_accuracy: 0.8366\n",
            "Epoch 41/200\n",
            "24/24 [==============================] - 0s 10ms/step - loss: 0.4355 - accuracy: 0.8317 - val_loss: 0.4182 - val_accuracy: 0.8366\n",
            "Epoch 42/200\n",
            "24/24 [==============================] - 0s 10ms/step - loss: 0.4336 - accuracy: 0.8318 - val_loss: 0.4180 - val_accuracy: 0.8360\n",
            "Epoch 43/200\n",
            "24/24 [==============================] - 0s 6ms/step - loss: 0.4347 - accuracy: 0.8313 - val_loss: 0.4173 - val_accuracy: 0.8366\n",
            "Epoch 44/200\n",
            "24/24 [==============================] - 0s 8ms/step - loss: 0.4353 - accuracy: 0.8313 - val_loss: 0.4178 - val_accuracy: 0.8366\n",
            "Epoch 45/200\n",
            "24/24 [==============================] - 0s 6ms/step - loss: 0.4329 - accuracy: 0.8320 - val_loss: 0.4172 - val_accuracy: 0.8360\n",
            "Epoch 46/200\n",
            "24/24 [==============================] - 0s 7ms/step - loss: 0.4344 - accuracy: 0.8313 - val_loss: 0.4171 - val_accuracy: 0.8380\n",
            "Epoch 47/200\n",
            "24/24 [==============================] - 0s 7ms/step - loss: 0.4337 - accuracy: 0.8312 - val_loss: 0.4169 - val_accuracy: 0.8366\n",
            "Epoch 48/200\n",
            "24/24 [==============================] - 0s 7ms/step - loss: 0.4337 - accuracy: 0.8317 - val_loss: 0.4165 - val_accuracy: 0.8366\n",
            "Epoch 49/200\n",
            "24/24 [==============================] - 0s 6ms/step - loss: 0.4344 - accuracy: 0.8315 - val_loss: 0.4169 - val_accuracy: 0.8366\n",
            "Epoch 50/200\n",
            "24/24 [==============================] - 0s 8ms/step - loss: 0.4336 - accuracy: 0.8312 - val_loss: 0.4167 - val_accuracy: 0.8373\n",
            "Epoch 51/200\n",
            "24/24 [==============================] - 0s 7ms/step - loss: 0.4324 - accuracy: 0.8317 - val_loss: 0.4168 - val_accuracy: 0.8373\n",
            "Epoch 52/200\n",
            "24/24 [==============================] - 0s 7ms/step - loss: 0.4334 - accuracy: 0.8320 - val_loss: 0.4172 - val_accuracy: 0.8373\n",
            "Epoch 53/200\n",
            "24/24 [==============================] - 0s 7ms/step - loss: 0.4334 - accuracy: 0.8312 - val_loss: 0.4171 - val_accuracy: 0.8380\n",
            "Epoch 54/200\n",
            "24/24 [==============================] - 0s 6ms/step - loss: 0.4324 - accuracy: 0.8323 - val_loss: 0.4165 - val_accuracy: 0.8366\n",
            "Epoch 55/200\n",
            "24/24 [==============================] - 0s 7ms/step - loss: 0.4328 - accuracy: 0.8325 - val_loss: 0.4170 - val_accuracy: 0.8373\n",
            "Epoch 56/200\n",
            "24/24 [==============================] - 0s 7ms/step - loss: 0.4344 - accuracy: 0.8318 - val_loss: 0.4164 - val_accuracy: 0.8373\n",
            "Epoch 57/200\n",
            "24/24 [==============================] - 0s 7ms/step - loss: 0.4342 - accuracy: 0.8318 - val_loss: 0.4172 - val_accuracy: 0.8373\n",
            "Epoch 58/200\n",
            "24/24 [==============================] - 0s 8ms/step - loss: 0.4341 - accuracy: 0.8312 - val_loss: 0.4161 - val_accuracy: 0.8373\n",
            "Epoch 59/200\n",
            "24/24 [==============================] - 0s 7ms/step - loss: 0.4330 - accuracy: 0.8313 - val_loss: 0.4176 - val_accuracy: 0.8373\n",
            "Epoch 60/200\n",
            "24/24 [==============================] - 0s 7ms/step - loss: 0.4317 - accuracy: 0.8325 - val_loss: 0.4163 - val_accuracy: 0.8360\n",
            "Epoch 61/200\n",
            "24/24 [==============================] - 0s 7ms/step - loss: 0.4332 - accuracy: 0.8320 - val_loss: 0.4159 - val_accuracy: 0.8366\n",
            "Epoch 62/200\n",
            "24/24 [==============================] - 0s 7ms/step - loss: 0.4328 - accuracy: 0.8313 - val_loss: 0.4163 - val_accuracy: 0.8380\n",
            "Epoch 63/200\n",
            "24/24 [==============================] - 0s 7ms/step - loss: 0.4335 - accuracy: 0.8318 - val_loss: 0.4172 - val_accuracy: 0.8366\n",
            "Epoch 64/200\n",
            "24/24 [==============================] - 0s 6ms/step - loss: 0.4333 - accuracy: 0.8320 - val_loss: 0.4160 - val_accuracy: 0.8366\n",
            "Epoch 65/200\n",
            "24/24 [==============================] - 0s 7ms/step - loss: 0.4338 - accuracy: 0.8305 - val_loss: 0.4165 - val_accuracy: 0.8373\n",
            "Epoch 66/200\n",
            "24/24 [==============================] - 0s 6ms/step - loss: 0.4319 - accuracy: 0.8320 - val_loss: 0.4171 - val_accuracy: 0.8366\n",
            "Epoch 67/200\n",
            "24/24 [==============================] - 0s 6ms/step - loss: 0.4331 - accuracy: 0.8315 - val_loss: 0.4167 - val_accuracy: 0.8366\n",
            "Epoch 68/200\n",
            "24/24 [==============================] - 0s 7ms/step - loss: 0.4334 - accuracy: 0.8318 - val_loss: 0.4165 - val_accuracy: 0.8366\n",
            "Epoch 69/200\n",
            "24/24 [==============================] - 0s 6ms/step - loss: 0.4336 - accuracy: 0.8313 - val_loss: 0.4166 - val_accuracy: 0.8360\n",
            "Epoch 70/200\n",
            "24/24 [==============================] - 0s 7ms/step - loss: 0.4336 - accuracy: 0.8315 - val_loss: 0.4174 - val_accuracy: 0.8373\n",
            "Epoch 71/200\n",
            "24/24 [==============================] - 0s 7ms/step - loss: 0.4336 - accuracy: 0.8309 - val_loss: 0.4169 - val_accuracy: 0.8360\n",
            "Epoch 72/200\n",
            "24/24 [==============================] - 0s 7ms/step - loss: 0.4321 - accuracy: 0.8309 - val_loss: 0.4165 - val_accuracy: 0.8373\n",
            "Epoch 73/200\n",
            "24/24 [==============================] - 0s 7ms/step - loss: 0.4324 - accuracy: 0.8320 - val_loss: 0.4179 - val_accuracy: 0.8366\n",
            "Epoch 74/200\n",
            "24/24 [==============================] - 0s 7ms/step - loss: 0.4335 - accuracy: 0.8307 - val_loss: 0.4171 - val_accuracy: 0.8366\n",
            "Epoch 75/200\n",
            "24/24 [==============================] - 0s 7ms/step - loss: 0.4322 - accuracy: 0.8317 - val_loss: 0.4163 - val_accuracy: 0.8360\n",
            "Epoch 76/200\n",
            "24/24 [==============================] - 0s 7ms/step - loss: 0.4331 - accuracy: 0.8322 - val_loss: 0.4161 - val_accuracy: 0.8360\n",
            "Epoch 77/200\n",
            "24/24 [==============================] - 0s 7ms/step - loss: 0.4337 - accuracy: 0.8318 - val_loss: 0.4167 - val_accuracy: 0.8366\n",
            "Epoch 78/200\n",
            "24/24 [==============================] - 0s 7ms/step - loss: 0.4329 - accuracy: 0.8310 - val_loss: 0.4173 - val_accuracy: 0.8360\n",
            "Epoch 79/200\n",
            "24/24 [==============================] - 0s 7ms/step - loss: 0.4325 - accuracy: 0.8322 - val_loss: 0.4157 - val_accuracy: 0.8366\n",
            "Epoch 80/200\n",
            "24/24 [==============================] - 0s 7ms/step - loss: 0.4320 - accuracy: 0.8330 - val_loss: 0.4161 - val_accuracy: 0.8366\n",
            "Epoch 81/200\n",
            "24/24 [==============================] - 0s 7ms/step - loss: 0.4336 - accuracy: 0.8315 - val_loss: 0.4168 - val_accuracy: 0.8360\n",
            "Epoch 82/200\n",
            "24/24 [==============================] - 0s 7ms/step - loss: 0.4346 - accuracy: 0.8313 - val_loss: 0.4169 - val_accuracy: 0.8366\n",
            "Epoch 83/200\n",
            "24/24 [==============================] - 0s 7ms/step - loss: 0.4338 - accuracy: 0.8318 - val_loss: 0.4162 - val_accuracy: 0.8373\n",
            "Epoch 84/200\n",
            "24/24 [==============================] - 0s 7ms/step - loss: 0.4324 - accuracy: 0.8318 - val_loss: 0.4162 - val_accuracy: 0.8373\n",
            "Epoch 85/200\n",
            "24/24 [==============================] - 0s 7ms/step - loss: 0.4320 - accuracy: 0.8310 - val_loss: 0.4159 - val_accuracy: 0.8366\n",
            "Epoch 86/200\n",
            "24/24 [==============================] - 0s 8ms/step - loss: 0.4323 - accuracy: 0.8315 - val_loss: 0.4163 - val_accuracy: 0.8366\n",
            "Epoch 87/200\n",
            "24/24 [==============================] - 0s 7ms/step - loss: 0.4323 - accuracy: 0.8323 - val_loss: 0.4158 - val_accuracy: 0.8366\n",
            "Epoch 88/200\n",
            "24/24 [==============================] - 0s 8ms/step - loss: 0.4334 - accuracy: 0.8330 - val_loss: 0.4162 - val_accuracy: 0.8380\n",
            "Epoch 89/200\n",
            "24/24 [==============================] - 0s 7ms/step - loss: 0.4318 - accuracy: 0.8310 - val_loss: 0.4155 - val_accuracy: 0.8373\n",
            "Epoch 90/200\n",
            "24/24 [==============================] - 0s 7ms/step - loss: 0.4337 - accuracy: 0.8322 - val_loss: 0.4170 - val_accuracy: 0.8380\n",
            "Epoch 91/200\n",
            "24/24 [==============================] - 0s 7ms/step - loss: 0.4329 - accuracy: 0.8313 - val_loss: 0.4164 - val_accuracy: 0.8373\n",
            "Epoch 92/200\n",
            "24/24 [==============================] - 0s 8ms/step - loss: 0.4332 - accuracy: 0.8320 - val_loss: 0.4165 - val_accuracy: 0.8366\n",
            "Epoch 93/200\n",
            "24/24 [==============================] - 0s 7ms/step - loss: 0.4327 - accuracy: 0.8309 - val_loss: 0.4158 - val_accuracy: 0.8373\n",
            "Epoch 94/200\n",
            "24/24 [==============================] - 0s 7ms/step - loss: 0.4327 - accuracy: 0.8317 - val_loss: 0.4163 - val_accuracy: 0.8366\n",
            "Epoch 95/200\n",
            "24/24 [==============================] - 0s 7ms/step - loss: 0.4336 - accuracy: 0.8307 - val_loss: 0.4159 - val_accuracy: 0.8366\n",
            "Epoch 96/200\n",
            "24/24 [==============================] - 0s 8ms/step - loss: 0.4326 - accuracy: 0.8318 - val_loss: 0.4167 - val_accuracy: 0.8366\n",
            "Epoch 97/200\n",
            "24/24 [==============================] - 0s 7ms/step - loss: 0.4334 - accuracy: 0.8325 - val_loss: 0.4159 - val_accuracy: 0.8373\n",
            "Epoch 98/200\n",
            "24/24 [==============================] - 0s 8ms/step - loss: 0.4326 - accuracy: 0.8313 - val_loss: 0.4160 - val_accuracy: 0.8373\n",
            "Epoch 99/200\n",
            "24/24 [==============================] - 0s 7ms/step - loss: 0.4335 - accuracy: 0.8318 - val_loss: 0.4165 - val_accuracy: 0.8366\n",
            "Epoch 100/200\n",
            "24/24 [==============================] - 0s 10ms/step - loss: 0.4337 - accuracy: 0.8322 - val_loss: 0.4161 - val_accuracy: 0.8373\n",
            "Epoch 101/200\n",
            "24/24 [==============================] - 0s 12ms/step - loss: 0.4332 - accuracy: 0.8317 - val_loss: 0.4173 - val_accuracy: 0.8360\n",
            "Epoch 102/200\n",
            "24/24 [==============================] - 0s 10ms/step - loss: 0.4338 - accuracy: 0.8310 - val_loss: 0.4169 - val_accuracy: 0.8380\n",
            "Epoch 103/200\n",
            "24/24 [==============================] - 0s 10ms/step - loss: 0.4341 - accuracy: 0.8325 - val_loss: 0.4157 - val_accuracy: 0.8373\n",
            "Epoch 104/200\n",
            "24/24 [==============================] - 0s 9ms/step - loss: 0.4346 - accuracy: 0.8320 - val_loss: 0.4165 - val_accuracy: 0.8373\n",
            "Epoch 105/200\n",
            "24/24 [==============================] - 0s 9ms/step - loss: 0.4342 - accuracy: 0.8318 - val_loss: 0.4169 - val_accuracy: 0.8360\n",
            "Epoch 106/200\n",
            "24/24 [==============================] - 0s 10ms/step - loss: 0.4323 - accuracy: 0.8310 - val_loss: 0.4160 - val_accuracy: 0.8366\n",
            "Epoch 107/200\n",
            "24/24 [==============================] - 0s 10ms/step - loss: 0.4328 - accuracy: 0.8313 - val_loss: 0.4168 - val_accuracy: 0.8366\n",
            "Epoch 108/200\n",
            "24/24 [==============================] - 0s 10ms/step - loss: 0.4335 - accuracy: 0.8310 - val_loss: 0.4168 - val_accuracy: 0.8360\n",
            "Epoch 109/200\n",
            "24/24 [==============================] - 0s 12ms/step - loss: 0.4320 - accuracy: 0.8322 - val_loss: 0.4161 - val_accuracy: 0.8380\n",
            "Epoch 110/200\n",
            "24/24 [==============================] - 0s 12ms/step - loss: 0.4324 - accuracy: 0.8318 - val_loss: 0.4167 - val_accuracy: 0.8366\n",
            "Epoch 111/200\n",
            "24/24 [==============================] - 0s 11ms/step - loss: 0.4333 - accuracy: 0.8317 - val_loss: 0.4167 - val_accuracy: 0.8373\n",
            "Epoch 112/200\n",
            "24/24 [==============================] - 0s 10ms/step - loss: 0.4338 - accuracy: 0.8313 - val_loss: 0.4166 - val_accuracy: 0.8373\n",
            "Epoch 113/200\n",
            "24/24 [==============================] - 0s 10ms/step - loss: 0.4347 - accuracy: 0.8318 - val_loss: 0.4166 - val_accuracy: 0.8373\n",
            "Epoch 114/200\n",
            "24/24 [==============================] - 0s 10ms/step - loss: 0.4342 - accuracy: 0.8310 - val_loss: 0.4165 - val_accuracy: 0.8373\n",
            "Epoch 115/200\n",
            "24/24 [==============================] - 0s 10ms/step - loss: 0.4326 - accuracy: 0.8323 - val_loss: 0.4174 - val_accuracy: 0.8373\n",
            "Epoch 116/200\n",
            "24/24 [==============================] - 0s 10ms/step - loss: 0.4330 - accuracy: 0.8327 - val_loss: 0.4167 - val_accuracy: 0.8366\n",
            "Epoch 117/200\n",
            "24/24 [==============================] - 0s 13ms/step - loss: 0.4322 - accuracy: 0.8313 - val_loss: 0.4164 - val_accuracy: 0.8360\n",
            "Epoch 118/200\n",
            "24/24 [==============================] - 0s 12ms/step - loss: 0.4327 - accuracy: 0.8310 - val_loss: 0.4162 - val_accuracy: 0.8360\n",
            "Epoch 119/200\n",
            "24/24 [==============================] - 0s 9ms/step - loss: 0.4330 - accuracy: 0.8312 - val_loss: 0.4172 - val_accuracy: 0.8373\n",
            "Epoch 120/200\n",
            "24/24 [==============================] - 0s 6ms/step - loss: 0.4329 - accuracy: 0.8320 - val_loss: 0.4167 - val_accuracy: 0.8366\n",
            "Epoch 121/200\n",
            "24/24 [==============================] - 0s 6ms/step - loss: 0.4332 - accuracy: 0.8323 - val_loss: 0.4160 - val_accuracy: 0.8366\n",
            "Epoch 122/200\n",
            "24/24 [==============================] - 0s 7ms/step - loss: 0.4333 - accuracy: 0.8310 - val_loss: 0.4171 - val_accuracy: 0.8366\n",
            "Epoch 123/200\n",
            "24/24 [==============================] - 0s 7ms/step - loss: 0.4336 - accuracy: 0.8315 - val_loss: 0.4162 - val_accuracy: 0.8366\n",
            "Epoch 124/200\n",
            "24/24 [==============================] - 0s 7ms/step - loss: 0.4332 - accuracy: 0.8318 - val_loss: 0.4165 - val_accuracy: 0.8366\n",
            "Epoch 125/200\n",
            "24/24 [==============================] - 0s 8ms/step - loss: 0.4334 - accuracy: 0.8312 - val_loss: 0.4164 - val_accuracy: 0.8366\n",
            "Epoch 126/200\n",
            "24/24 [==============================] - 0s 7ms/step - loss: 0.4323 - accuracy: 0.8313 - val_loss: 0.4163 - val_accuracy: 0.8366\n",
            "Epoch 127/200\n",
            "24/24 [==============================] - 0s 7ms/step - loss: 0.4324 - accuracy: 0.8310 - val_loss: 0.4163 - val_accuracy: 0.8360\n",
            "Epoch 128/200\n",
            "24/24 [==============================] - 0s 7ms/step - loss: 0.4321 - accuracy: 0.8317 - val_loss: 0.4167 - val_accuracy: 0.8360\n",
            "Epoch 129/200\n",
            "24/24 [==============================] - 0s 7ms/step - loss: 0.4338 - accuracy: 0.8312 - val_loss: 0.4169 - val_accuracy: 0.8373\n",
            "Epoch 130/200\n",
            "24/24 [==============================] - 0s 7ms/step - loss: 0.4329 - accuracy: 0.8317 - val_loss: 0.4162 - val_accuracy: 0.8366\n",
            "Epoch 131/200\n",
            "24/24 [==============================] - 0s 7ms/step - loss: 0.4329 - accuracy: 0.8322 - val_loss: 0.4176 - val_accuracy: 0.8360\n",
            "Epoch 132/200\n",
            "24/24 [==============================] - 0s 7ms/step - loss: 0.4319 - accuracy: 0.8312 - val_loss: 0.4159 - val_accuracy: 0.8366\n",
            "Epoch 133/200\n",
            "24/24 [==============================] - 0s 7ms/step - loss: 0.4335 - accuracy: 0.8325 - val_loss: 0.4162 - val_accuracy: 0.8366\n",
            "Epoch 134/200\n",
            "24/24 [==============================] - 0s 7ms/step - loss: 0.4337 - accuracy: 0.8332 - val_loss: 0.4173 - val_accuracy: 0.8366\n",
            "Epoch 135/200\n",
            "24/24 [==============================] - 0s 7ms/step - loss: 0.4336 - accuracy: 0.8312 - val_loss: 0.4173 - val_accuracy: 0.8373\n",
            "Epoch 136/200\n",
            "24/24 [==============================] - 0s 7ms/step - loss: 0.4341 - accuracy: 0.8305 - val_loss: 0.4168 - val_accuracy: 0.8366\n",
            "Epoch 137/200\n",
            "24/24 [==============================] - 0s 7ms/step - loss: 0.4325 - accuracy: 0.8315 - val_loss: 0.4167 - val_accuracy: 0.8380\n",
            "Epoch 138/200\n",
            "24/24 [==============================] - 0s 7ms/step - loss: 0.4334 - accuracy: 0.8327 - val_loss: 0.4168 - val_accuracy: 0.8360\n",
            "Epoch 139/200\n",
            "24/24 [==============================] - 0s 8ms/step - loss: 0.4330 - accuracy: 0.8315 - val_loss: 0.4164 - val_accuracy: 0.8366\n"
          ]
        }
      ]
    },
    {
      "cell_type": "code",
      "source": [
        "plt.plot(history.history['accuracy'])\n",
        "plt.plot(history.history['val_accuracy'])\n",
        "plt.title('model accuracy')\n",
        "plt.ylabel('accuracy')\n",
        "plt.xlabel('epoch')\n",
        "plt.legend(['train', 'val'], loc='upper left')\n",
        "plt.show()\n",
        "\n",
        "plt.plot(history.history['loss'])\n",
        "plt.plot(history.history['val_loss'])\n",
        "plt.title('model loss')\n",
        "plt.ylabel('loss')\n",
        "plt.xlabel('epoch')\n",
        "plt.legend(['train', 'val'], loc='upper left')\n",
        "plt.show()"
      ],
      "metadata": {
        "colab": {
          "base_uri": "https://localhost:8080/",
          "height": 927
        },
        "outputId": "19c60b0c-a89b-4eb6-c804-8e89fed79a63",
        "id": "RB6M3O46zTeh"
      },
      "execution_count": null,
      "outputs": [
        {
          "output_type": "display_data",
          "data": {
            "text/plain": [
              "<Figure size 640x480 with 1 Axes>"
            ],
            "image/png": "[encoded data removed]"
          },
          "metadata": {}
        },
        {
          "output_type": "display_data",
          "data": {
            "text/plain": [
              "<Figure size 640x480 with 1 Axes>"
            ],
            "image/png": "[encoded data removed]"
          },
          "metadata": {}
        }
      ]
    },
    {
      "cell_type": "code",
      "source": [
        "channel_4_testing_data.shape"
      ],
      "metadata": {
        "colab": {
          "base_uri": "https://localhost:8080/"
        },
        "outputId": "4c013e14-1ef2-4e2a-94d9-2513ea04f9b9",
        "id": "xeUeu0J0zTeh"
      },
      "execution_count": null,
      "outputs": [
        {
          "output_type": "execute_result",
          "data": {
            "text/plain": [
              "(5580, 240, 1)"
            ]
          },
          "metadata": {},
          "execution_count": 309
        }
      ]
    },
    {
      "cell_type": "markdown",
      "source": [
        "## Character spelling task"
      ],
      "metadata": {
        "id": "asmky4zm4AiB"
      }
    },
    {
      "cell_type": "code",
      "source": [
        "testing_labels['P300_prob'] = model.predict(channel_4_testing_data)[:, 1]\n",
        "testing_labels"
      ],
      "metadata": {
        "colab": {
          "base_uri": "https://localhost:8080/",
          "height": 441
        },
        "outputId": "42711d07-edc7-41e6-b0b2-63231fc1c407",
        "id": "sayDPqqdzTeh"
      },
      "execution_count": null,
      "outputs": [
        {
          "output_type": "stream",
          "name": "stdout",
          "text": [
            "175/175 [==============================] - 0s 1ms/step\n"
          ]
        },
        {
          "output_type": "execute_result",
          "data": {
            "text/plain": [
              "     epoch row/column true_character true_character_index  P300_prob\n",
              "0        1          6              F                    0   0.156985\n",
              "1        1         12              F                    0   0.192129\n",
              "2        1          8              F                    0   0.168913\n",
              "3        1          3              F                    0   0.227127\n",
              "4        1          4              F                    0   0.197814\n",
              "...    ...        ...            ...                  ...        ...\n",
              "5575    15          7              7                   30   0.214266\n",
              "5576    15          8              7                   30   0.230259\n",
              "5577    15          4              7                   30   0.090760\n",
              "5578    15          9              7                   30   0.080166\n",
              "5579    15          2              7                   30   0.042259\n",
              "\n",
              "[5580 rows x 5 columns]"
            ],
            "text/html": [
              "\n",
              "  <div id=\"df-295e8c03-e1e3-4e1b-a1cb-e2ac6fde6b0d\">\n",
              "    <div class=\"colab-df-container\">\n",
              "      <div>\n",
              "<style scoped>\n",
              "    .dataframe tbody tr th:only-of-type {\n",
              "        vertical-align: middle;\n",
              "    }\n",
              "\n",
              "    .dataframe tbody tr th {\n",
              "        vertical-align: top;\n",
              "    }\n",
              "\n",
              "    .dataframe thead th {\n",
              "        text-align: right;\n",
              "    }\n",
              "</style>\n",
              "<table border=\"1\" class=\"dataframe\">\n",
              "  <thead>\n",
              "    <tr style=\"text-align: right;\">\n",
              "      <th></th>\n",
              "      <th>epoch</th>\n",
              "      <th>row/column</th>\n",
              "      <th>true_character</th>\n",
              "      <th>true_character_index</th>\n",
              "      <th>P300_prob</th>\n",
              "    </tr>\n",
              "  </thead>\n",
              "  <tbody>\n",
              "    <tr>\n",
              "      <th>0</th>\n",
              "      <td>1</td>\n",
              "      <td>6</td>\n",
              "      <td>F</td>\n",
              "      <td>0</td>\n",
              "      <td>0.156985</td>\n",
              "    </tr>\n",
              "    <tr>\n",
              "      <th>1</th>\n",
              "      <td>1</td>\n",
              "      <td>12</td>\n",
              "      <td>F</td>\n",
              "      <td>0</td>\n",
              "      <td>0.192129</td>\n",
              "    </tr>\n",
              "    <tr>\n",
              "      <th>2</th>\n",
              "      <td>1</td>\n",
              "      <td>8</td>\n",
              "      <td>F</td>\n",
              "      <td>0</td>\n",
              "      <td>0.168913</td>\n",
              "    </tr>\n",
              "    <tr>\n",
              "      <th>3</th>\n",
              "      <td>1</td>\n",
              "      <td>3</td>\n",
              "      <td>F</td>\n",
              "      <td>0</td>\n",
              "      <td>0.227127</td>\n",
              "    </tr>\n",
              "    <tr>\n",
              "      <th>4</th>\n",
              "      <td>1</td>\n",
              "      <td>4</td>\n",
              "      <td>F</td>\n",
              "      <td>0</td>\n",
              "      <td>0.197814</td>\n",
              "    </tr>\n",
              "    <tr>\n",
              "      <th>...</th>\n",
              "      <td>...</td>\n",
              "      <td>...</td>\n",
              "      <td>...</td>\n",
              "      <td>...</td>\n",
              "      <td>...</td>\n",
              "    </tr>\n",
              "    <tr>\n",
              "      <th>5575</th>\n",
              "      <td>15</td>\n",
              "      <td>7</td>\n",
              "      <td>7</td>\n",
              "      <td>30</td>\n",
              "      <td>0.214266</td>\n",
              "    </tr>\n",
              "    <tr>\n",
              "      <th>5576</th>\n",
              "      <td>15</td>\n",
              "      <td>8</td>\n",
              "      <td>7</td>\n",
              "      <td>30</td>\n",
              "      <td>0.230259</td>\n",
              "    </tr>\n",
              "    <tr>\n",
              "      <th>5577</th>\n",
              "      <td>15</td>\n",
              "      <td>4</td>\n",
              "      <td>7</td>\n",
              "      <td>30</td>\n",
              "      <td>0.090760</td>\n",
              "    </tr>\n",
              "    <tr>\n",
              "      <th>5578</th>\n",
              "      <td>15</td>\n",
              "      <td>9</td>\n",
              "      <td>7</td>\n",
              "      <td>30</td>\n",
              "      <td>0.080166</td>\n",
              "    </tr>\n",
              "    <tr>\n",
              "      <th>5579</th>\n",
              "      <td>15</td>\n",
              "      <td>2</td>\n",
              "      <td>7</td>\n",
              "      <td>30</td>\n",
              "      <td>0.042259</td>\n",
              "    </tr>\n",
              "  </tbody>\n",
              "</table>\n",
              "<p>5580 rows × 5 columns</p>\n",
              "</div>\n",
              "      <button class=\"colab-df-convert\" onclick=\"convertToInteractive('df-295e8c03-e1e3-4e1b-a1cb-e2ac6fde6b0d')\"\n",
              "              title=\"Convert this dataframe to an interactive table.\"\n",
              "              style=\"display:none;\">\n",
              "        \n",
              "  <svg xmlns=\"http://www.w3.org/2000/svg\" height=\"24px\"viewBox=\"0 0 24 24\"\n",
              "       width=\"24px\">\n",
              "    <path d=\"M0 0h24v24H0V0z\" fill=\"none\"/>\n",
              "    <path d=\"M18.56 5.44l.94 2.06.94-2.06 2.06-.94-2.06-.94-.94-2.06-.94 2.06-2.06.94zm-11 1L8.5 8.5l.94-2.06 2.06-.94-2.06-.94L8.5 2.5l-.94 2.06-2.06.94zm10 10l.94 2.06.94-2.06 2.06-.94-2.06-.94-.94-2.06-.94 2.06-2.06.94z\"/><path d=\"M17.41 7.96l-1.37-1.37c-.4-.4-.92-.59-1.43-.59-.52 0-1.04.2-1.43.59L10.3 9.45l-7.72 7.72c-.78.78-.78 2.05 0 2.83L4 21.41c.39.39.9.59 1.41.59.51 0 1.02-.2 1.41-.59l7.78-7.78 2.81-2.81c.8-.78.8-2.07 0-2.86zM5.41 20L4 18.59l7.72-7.72 1.47 1.35L5.41 20z\"/>\n",
              "  </svg>\n",
              "      </button>\n",
              "      \n",
              "  <style>\n",
              "    .colab-df-container {\n",
              "      display:flex;\n",
              "      flex-wrap:wrap;\n",
              "      gap: 12px;\n",
              "    }\n",
              "\n",
              "    .colab-df-convert {\n",
              "      background-color: #E8F0FE;\n",
              "      border: none;\n",
              "      border-radius: 50%;\n",
              "      cursor: pointer;\n",
              "      display: none;\n",
              "      fill: #1967D2;\n",
              "      height: 32px;\n",
              "      padding: 0 0 0 0;\n",
              "      width: 32px;\n",
              "    }\n",
              "\n",
              "    .colab-df-convert:hover {\n",
              "      background-color: #E2EBFA;\n",
              "      box-shadow: 0px 1px 2px rgba(60, 64, 67, 0.3), 0px 1px 3px 1px rgba(60, 64, 67, 0.15);\n",
              "      fill: #174EA6;\n",
              "    }\n",
              "\n",
              "    [theme=dark] .colab-df-convert {\n",
              "      background-color: #3B4455;\n",
              "      fill: #D2E3FC;\n",
              "    }\n",
              "\n",
              "    [theme=dark] .colab-df-convert:hover {\n",
              "      background-color: #434B5C;\n",
              "      box-shadow: 0px 1px 3px 1px rgba(0, 0, 0, 0.15);\n",
              "      filter: drop-shadow(0px 1px 2px rgba(0, 0, 0, 0.3));\n",
              "      fill: #FFFFFF;\n",
              "    }\n",
              "  </style>\n",
              "\n",
              "      <script>\n",
              "        const buttonEl =\n",
              "          document.querySelector('#df-295e8c03-e1e3-4e1b-a1cb-e2ac6fde6b0d button.colab-df-convert');\n",
              "        buttonEl.style.display =\n",
              "          google.colab.kernel.accessAllowed ? 'block' : 'none';\n",
              "\n",
              "        async function convertToInteractive(key) {\n",
              "          const element = document.querySelector('#df-295e8c03-e1e3-4e1b-a1cb-e2ac6fde6b0d');\n",
              "          const dataTable =\n",
              "            await google.colab.kernel.invokeFunction('convertToInteractive',\n",
              "                                                     [key], {});\n",
              "          if (!dataTable) return;\n",
              "\n",
              "          const docLinkHtml = 'Like what you see? Visit the ' +\n",
              "            '<a target=\"_blank\" href=https://colab.research.google.com/notebooks/data_table.ipynb>data table notebook</a>'\n",
              "            + ' to learn more about interactive tables.';\n",
              "          element.innerHTML = '';\n",
              "          dataTable['output_type'] = 'display_data';\n",
              "          await google.colab.output.renderOutput(dataTable, element);\n",
              "          const docLink = document.createElement('div');\n",
              "          docLink.innerHTML = docLinkHtml;\n",
              "          element.appendChild(docLink);\n",
              "        }\n",
              "      </script>\n",
              "    </div>\n",
              "  </div>\n",
              "  "
            ]
          },
          "metadata": {},
          "execution_count": 310
        }
      ]
    },
    {
      "cell_type": "code",
      "source": [
        "chara_map = {(7, 1): 'A', (7, 2): 'B', (7, 3): 'C', (7, 4): 'D', (7, 5): 'E', (7, 6): 'F',\n",
        " (8, 1): 'G', (8, 2): 'H', (8, 3): 'I', (8, 4): 'J', (8, 5): 'K', (8, 6): 'L', \n",
        " (9, 1): 'M', (9, 2): 'N', (9, 3): 'O', (9, 4): 'P', (9, 5): 'Q', (9, 6): 'R',\n",
        " (10, 1): 'S',(10, 2): 'T', (10, 3): 'U', (10, 4): 'V', (10, 5): 'W', (10, 6): 'X',\n",
        " (11, 1): 'Y', (11, 2): 'Z', (11, 3): '1', (11, 4): '2', (11, 5): '3', (11, 6): '4',\n",
        " (12, 1): '5',(12, 2): '6', (12, 3): '7', (12, 4): '8', (12, 5): '9', (12, 6): '_'}\n",
        "\n",
        "for spelling_epoch in range(1, 16):\n",
        "    # print(testing_label[testing_label['epoch'] <= spelling_epoch].sort_values(['row/column', 'true_character_index']))\n",
        "    filtered_testing_label = testing_labels[testing_labels['epoch'] <= spelling_epoch].groupby(['row/column', 'true_character', 'true_character_index'], as_index = False).sum()[['row/column','true_character', 'true_character_index', 'P300_prob']]\n",
        "    # print(filtered_testing_label.sort_values(['row/column', 'true_character_index']))\n",
        "\n",
        "    row_argmax = filtered_testing_label[filtered_testing_label['row/column'] > 6]\n",
        "    # print(row_argmax[row_argmax['true_character'] == 'W'].sort_values(['true_character_index']))\n",
        "    row_argmax = row_argmax.sort_values('P300_prob', ascending=False).drop_duplicates(['true_character', 'true_character_index'])\n",
        "    # print(row_argmax.sort_values(['true_character_index']))\n",
        "    row_argmax = row_argmax.rename(columns = {'row/column' : 'max_row_index'})\n",
        "\n",
        "    # print(row_argmax.sort_values(['true_character_index']))\n",
        "\n",
        "    col_argmax = filtered_testing_label[filtered_testing_label['row/column'] <= 6]\n",
        "    col_argmax = col_argmax.sort_values('P300_prob', ascending=False).drop_duplicates(['true_character', 'true_character_index'])\n",
        "    col_argmax = col_argmax.rename(columns = {'row/column' : 'max_col_index'})\n",
        "\n",
        "    # print(col_argmax.sort_values(['true_character_index']))\n",
        "\n",
        "    # print(pd.merge(row_argmax, col_argmax, on = ['true_character','true_character_index']))\n",
        "    chara_df = pd.merge(row_argmax, col_argmax, on = ['true_character','true_character_index'])[['max_row_index', 'max_col_index', 'true_character','true_character_index']]\n",
        "    # print(chara_df)\n",
        "    chara_df['predicted_character'] = chara_df.apply(lambda x: chara_map[(x['max_row_index'], x['max_col_index'])], axis = 1)\n",
        "    chara_df['check_character'] = chara_df.apply(lambda x: x['true_character'] == x['predicted_character'], axis = 1)\n",
        "    # print(chara_df.sort_values(['true_character_index']))\n",
        "    spelling_accuracy = chara_df['check_character'].mean()\n",
        "    print('Character spelling accuracy with {0} epoches: {1}'.format(spelling_epoch, spelling_accuracy))"
      ],
      "metadata": {
        "colab": {
          "base_uri": "https://localhost:8080/"
        },
        "outputId": "bc62fcf1-004b-44d0-b119-db4221160b14",
        "id": "_q_S4VM1zTeh"
      },
      "execution_count": null,
      "outputs": [
        {
          "output_type": "stream",
          "name": "stdout",
          "text": [
            "Character spelling accuracy with 1 epoches: 0.06451612903225806\n",
            "Character spelling accuracy with 2 epoches: 0.03225806451612903\n",
            "Character spelling accuracy with 3 epoches: 0.0967741935483871\n",
            "Character spelling accuracy with 4 epoches: 0.0967741935483871\n",
            "Character spelling accuracy with 5 epoches: 0.16129032258064516\n",
            "Character spelling accuracy with 6 epoches: 0.12903225806451613\n",
            "Character spelling accuracy with 7 epoches: 0.1935483870967742\n",
            "Character spelling accuracy with 8 epoches: 0.16129032258064516\n",
            "Character spelling accuracy with 9 epoches: 0.25806451612903225\n",
            "Character spelling accuracy with 10 epoches: 0.2903225806451613\n",
            "Character spelling accuracy with 11 epoches: 0.25806451612903225\n",
            "Character spelling accuracy with 12 epoches: 0.3548387096774194\n",
            "Character spelling accuracy with 13 epoches: 0.1935483870967742\n",
            "Character spelling accuracy with 14 epoches: 0.2903225806451613\n",
            "Character spelling accuracy with 15 epoches: 0.25806451612903225\n"
          ]
        }
      ]
    }
  ]
}